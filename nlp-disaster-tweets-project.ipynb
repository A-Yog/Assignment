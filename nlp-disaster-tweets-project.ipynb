{
 "cells": [
  {
   "cell_type": "code",
   "execution_count": 2,
   "id": "f4233f9c",
   "metadata": {
    "_cell_guid": "b1076dfc-b9ad-4769-8c92-a6c4dae69d19",
    "_uuid": "8f2839f25d086af736a60e9eeb907d3b93b6e0e5",
    "execution": {
     "iopub.execute_input": "2023-05-29T06:45:10.054487Z",
     "iopub.status.busy": "2023-05-29T06:45:10.052856Z",
     "iopub.status.idle": "2023-05-29T06:45:10.071665Z",
     "shell.execute_reply": "2023-05-29T06:45:10.070515Z"
    },
    "papermill": {
     "duration": 0.041062,
     "end_time": "2023-05-29T06:45:10.075537",
     "exception": false,
     "start_time": "2023-05-29T06:45:10.034475",
     "status": "completed"
    },
    "tags": []
   },
   "outputs": [],
   "source": [
    "import numpy as np \n",
    "import pandas as pd "
   ]
  },
  {
   "cell_type": "code",
   "execution_count": 3,
   "id": "8f450fbb",
   "metadata": {
    "execution": {
     "iopub.execute_input": "2023-05-29T06:45:10.165138Z",
     "iopub.status.busy": "2023-05-29T06:45:10.164371Z",
     "iopub.status.idle": "2023-05-29T06:45:11.867372Z",
     "shell.execute_reply": "2023-05-29T06:45:11.865880Z"
    },
    "papermill": {
     "duration": 1.722557,
     "end_time": "2023-05-29T06:45:11.870569",
     "exception": false,
     "start_time": "2023-05-29T06:45:10.148012",
     "status": "completed"
    },
    "tags": []
   },
   "outputs": [],
   "source": [
    "from sklearn.linear_model import LogisticRegression\n",
    "from sklearn.model_selection import train_test_split\n",
    "from sklearn.feature_extraction.text import TfidfVectorizer\n",
    "from sklearn.feature_extraction.text import CountVectorizer\n",
    "from sklearn.metrics import classification_report, accuracy_score\n",
    "\n",
    "import string, nltk, re\n",
    "from nltk.corpus import stopwords\n",
    "from nltk.tokenize import word_tokenize\n",
    "from nltk.stem import PorterStemmer"
   ]
  },
  {
   "cell_type": "code",
   "execution_count": 4,
   "id": "458df790",
   "metadata": {
    "execution": {
     "iopub.execute_input": "2023-05-29T06:45:11.903155Z",
     "iopub.status.busy": "2023-05-29T06:45:11.902692Z",
     "iopub.status.idle": "2023-05-29T06:45:12.098019Z",
     "shell.execute_reply": "2023-05-29T06:45:12.096827Z"
    },
    "papermill": {
     "duration": 0.215604,
     "end_time": "2023-05-29T06:45:12.101903",
     "exception": false,
     "start_time": "2023-05-29T06:45:11.886299",
     "status": "completed"
    },
    "tags": []
   },
   "outputs": [
    {
     "name": "stderr",
     "output_type": "stream",
     "text": [
      "[nltk_data] Downloading package punkt to\n",
      "[nltk_data]     C:\\Users\\84969\\AppData\\Roaming\\nltk_data...\n",
      "[nltk_data]   Package punkt is already up-to-date!\n",
      "[nltk_data] Downloading package stopwords to\n",
      "[nltk_data]     C:\\Users\\84969\\AppData\\Roaming\\nltk_data...\n",
      "[nltk_data]   Package stopwords is already up-to-date!\n"
     ]
    },
    {
     "data": {
      "text/plain": [
       "True"
      ]
     },
     "execution_count": 4,
     "metadata": {},
     "output_type": "execute_result"
    }
   ],
   "source": [
    "nltk.download('punkt')\n",
    "nltk.download('stopwords')"
   ]
  },
  {
   "cell_type": "code",
   "execution_count": 5,
   "id": "efd7bc37",
   "metadata": {
    "execution": {
     "iopub.execute_input": "2023-05-29T06:45:12.165023Z",
     "iopub.status.busy": "2023-05-29T06:45:12.164578Z",
     "iopub.status.idle": "2023-05-29T06:45:12.250176Z",
     "shell.execute_reply": "2023-05-29T06:45:12.248848Z"
    },
    "papermill": {
     "duration": 0.105813,
     "end_time": "2023-05-29T06:45:12.253523",
     "exception": false,
     "start_time": "2023-05-29T06:45:12.147710",
     "status": "completed"
    },
    "tags": []
   },
   "outputs": [],
   "source": [
    "\n",
    "train = pd.read_csv('train.csv', encoding='utf-8')\n",
    "test = pd.read_csv('test.csv', encoding='utf-8')"
   ]
  },
  {
   "cell_type": "code",
   "execution_count": 6,
   "id": "52a32166",
   "metadata": {
    "execution": {
     "iopub.execute_input": "2023-05-29T06:45:12.285829Z",
     "iopub.status.busy": "2023-05-29T06:45:12.285361Z",
     "iopub.status.idle": "2023-05-29T06:45:12.303147Z",
     "shell.execute_reply": "2023-05-29T06:45:12.301646Z"
    },
    "papermill": {
     "duration": 0.037631,
     "end_time": "2023-05-29T06:45:12.306330",
     "exception": false,
     "start_time": "2023-05-29T06:45:12.268699",
     "status": "completed"
    },
    "tags": []
   },
   "outputs": [
    {
     "data": {
      "text/plain": [
       "id         0\n",
       "keyword    0\n",
       "text       0\n",
       "target     0\n",
       "dtype: int64"
      ]
     },
     "execution_count": 6,
     "metadata": {},
     "output_type": "execute_result"
    }
   ],
   "source": [
    "train.isnull().sum()"
   ]
  },
  {
   "cell_type": "code",
   "execution_count": 7,
   "id": "6e4f85e0",
   "metadata": {
    "execution": {
     "iopub.execute_input": "2023-05-29T06:45:12.338860Z",
     "iopub.status.busy": "2023-05-29T06:45:12.338386Z",
     "iopub.status.idle": "2023-05-29T06:45:12.355208Z",
     "shell.execute_reply": "2023-05-29T06:45:12.353811Z"
    },
    "papermill": {
     "duration": 0.037136,
     "end_time": "2023-05-29T06:45:12.358326",
     "exception": false,
     "start_time": "2023-05-29T06:45:12.321190",
     "status": "completed"
    },
    "tags": []
   },
   "outputs": [
    {
     "data": {
      "text/plain": [
       "id         int64\n",
       "text      object\n",
       "target     int64\n",
       "dtype: object"
      ]
     },
     "execution_count": 7,
     "metadata": {},
     "output_type": "execute_result"
    }
   ],
   "source": [
    "train = train.drop(columns = ['keyword'])\n",
    "train.dtypes"
   ]
  },
  {
   "cell_type": "code",
   "execution_count": 8,
   "id": "2135726b",
   "metadata": {
    "execution": {
     "iopub.execute_input": "2023-05-29T06:45:12.391916Z",
     "iopub.status.busy": "2023-05-29T06:45:12.390915Z",
     "iopub.status.idle": "2023-05-29T06:45:12.420328Z",
     "shell.execute_reply": "2023-05-29T06:45:12.418696Z"
    },
    "papermill": {
     "duration": 0.050287,
     "end_time": "2023-05-29T06:45:12.423629",
     "exception": false,
     "start_time": "2023-05-29T06:45:12.373342",
     "status": "completed"
    },
    "tags": []
   },
   "outputs": [
    {
     "data": {
      "text/html": [
       "<div>\n",
       "<style scoped>\n",
       "    .dataframe tbody tr th:only-of-type {\n",
       "        vertical-align: middle;\n",
       "    }\n",
       "\n",
       "    .dataframe tbody tr th {\n",
       "        vertical-align: top;\n",
       "    }\n",
       "\n",
       "    .dataframe thead th {\n",
       "        text-align: right;\n",
       "    }\n",
       "</style>\n",
       "<table border=\"1\" class=\"dataframe\">\n",
       "  <thead>\n",
       "    <tr style=\"text-align: right;\">\n",
       "      <th></th>\n",
       "      <th>id</th>\n",
       "      <th>text</th>\n",
       "      <th>target</th>\n",
       "    </tr>\n",
       "  </thead>\n",
       "  <tbody>\n",
       "    <tr>\n",
       "      <th>0</th>\n",
       "      <td>1</td>\n",
       "      <td>@WoodyLightyearx Mainnet mở 14/3/2023 là mốc l...</td>\n",
       "      <td>1</td>\n",
       "    </tr>\n",
       "    <tr>\n",
       "      <th>1</th>\n",
       "      <td>3</td>\n",
       "      <td>Chúc các phu nhân đc lì xì nhìu nhìu tiền zô n...</td>\n",
       "      <td>0</td>\n",
       "    </tr>\n",
       "    <tr>\n",
       "      <th>2</th>\n",
       "      <td>4</td>\n",
       "      <td>@LamNguy40552955 Dân Thanh Hoá ngày trước nghè...</td>\n",
       "      <td>1</td>\n",
       "    </tr>\n",
       "    <tr>\n",
       "      <th>3</th>\n",
       "      <td>5</td>\n",
       "      <td>Bão lũ, cháy rừng gây thiệt hại trên 353 tỷ US...</td>\n",
       "      <td>1</td>\n",
       "    </tr>\n",
       "    <tr>\n",
       "      <th>4</th>\n",
       "      <td>6</td>\n",
       "      <td>@wwwaenii Mấy con đin này lại kỳ thị Việt kiều...</td>\n",
       "      <td>0</td>\n",
       "    </tr>\n",
       "    <tr>\n",
       "      <th>...</th>\n",
       "      <td>...</td>\n",
       "      <td>...</td>\n",
       "      <td>...</td>\n",
       "    </tr>\n",
       "    <tr>\n",
       "      <th>816</th>\n",
       "      <td>1016</td>\n",
       "      <td>WHO phát đi môṭ thông điệp cảnh báo thế giới đ...</td>\n",
       "      <td>1</td>\n",
       "    </tr>\n",
       "    <tr>\n",
       "      <th>817</th>\n",
       "      <td>1018</td>\n",
       "      <td>Các hành tinh xếp thẳng hàng cùng với sự xuất ...</td>\n",
       "      <td>1</td>\n",
       "    </tr>\n",
       "    <tr>\n",
       "      <th>818</th>\n",
       "      <td>1020</td>\n",
       "      <td>\"Chính phủ có kế hoạch thực hiện \"\"đánh giá rủ...</td>\n",
       "      <td>1</td>\n",
       "    </tr>\n",
       "    <tr>\n",
       "      <th>819</th>\n",
       "      <td>1021</td>\n",
       "      <td>@ZelenskyyUa Cái ý thức tập thể của mấy người ...</td>\n",
       "      <td>1</td>\n",
       "    </tr>\n",
       "    <tr>\n",
       "      <th>820</th>\n",
       "      <td>1022</td>\n",
       "      <td>@ZelenskyyUa Những người đã chết trong thảm họ...</td>\n",
       "      <td>1</td>\n",
       "    </tr>\n",
       "  </tbody>\n",
       "</table>\n",
       "<p>821 rows × 3 columns</p>\n",
       "</div>"
      ],
      "text/plain": [
       "       id                                               text  target\n",
       "0       1  @WoodyLightyearx Mainnet mở 14/3/2023 là mốc l...       1\n",
       "1       3  Chúc các phu nhân đc lì xì nhìu nhìu tiền zô n...       0\n",
       "2       4  @LamNguy40552955 Dân Thanh Hoá ngày trước nghè...       1\n",
       "3       5  Bão lũ, cháy rừng gây thiệt hại trên 353 tỷ US...       1\n",
       "4       6  @wwwaenii Mấy con đin này lại kỳ thị Việt kiều...       0\n",
       "..    ...                                                ...     ...\n",
       "816  1016  WHO phát đi môṭ thông điệp cảnh báo thế giới đ...       1\n",
       "817  1018  Các hành tinh xếp thẳng hàng cùng với sự xuất ...       1\n",
       "818  1020  \"Chính phủ có kế hoạch thực hiện \"\"đánh giá rủ...       1\n",
       "819  1021  @ZelenskyyUa Cái ý thức tập thể của mấy người ...       1\n",
       "820  1022  @ZelenskyyUa Những người đã chết trong thảm họ...       1\n",
       "\n",
       "[821 rows x 3 columns]"
      ]
     },
     "execution_count": 8,
     "metadata": {},
     "output_type": "execute_result"
    }
   ],
   "source": [
    "train "
   ]
  },
  {
   "cell_type": "code",
   "execution_count": 9,
   "id": "3ca465e5",
   "metadata": {
    "execution": {
     "iopub.execute_input": "2023-05-29T06:45:12.489353Z",
     "iopub.status.busy": "2023-05-29T06:45:12.487946Z",
     "iopub.status.idle": "2023-05-29T06:45:12.516438Z",
     "shell.execute_reply": "2023-05-29T06:45:12.515133Z"
    },
    "papermill": {
     "duration": 0.049467,
     "end_time": "2023-05-29T06:45:12.519745",
     "exception": false,
     "start_time": "2023-05-29T06:45:12.470278",
     "status": "completed"
    },
    "tags": []
   },
   "outputs": [
    {
     "data": {
      "text/html": [
       "<div>\n",
       "<style scoped>\n",
       "    .dataframe tbody tr th:only-of-type {\n",
       "        vertical-align: middle;\n",
       "    }\n",
       "\n",
       "    .dataframe tbody tr th {\n",
       "        vertical-align: top;\n",
       "    }\n",
       "\n",
       "    .dataframe thead th {\n",
       "        text-align: right;\n",
       "    }\n",
       "</style>\n",
       "<table border=\"1\" class=\"dataframe\">\n",
       "  <thead>\n",
       "    <tr style=\"text-align: right;\">\n",
       "      <th></th>\n",
       "      <th>id</th>\n",
       "      <th>target</th>\n",
       "    </tr>\n",
       "  </thead>\n",
       "  <tbody>\n",
       "    <tr>\n",
       "      <th>count</th>\n",
       "      <td>821.000000</td>\n",
       "      <td>821.000000</td>\n",
       "    </tr>\n",
       "    <tr>\n",
       "      <th>mean</th>\n",
       "      <td>512.590743</td>\n",
       "      <td>0.539586</td>\n",
       "    </tr>\n",
       "    <tr>\n",
       "      <th>std</th>\n",
       "      <td>296.586068</td>\n",
       "      <td>0.498734</td>\n",
       "    </tr>\n",
       "    <tr>\n",
       "      <th>min</th>\n",
       "      <td>1.000000</td>\n",
       "      <td>0.000000</td>\n",
       "    </tr>\n",
       "    <tr>\n",
       "      <th>25%</th>\n",
       "      <td>255.000000</td>\n",
       "      <td>0.000000</td>\n",
       "    </tr>\n",
       "    <tr>\n",
       "      <th>50%</th>\n",
       "      <td>514.000000</td>\n",
       "      <td>1.000000</td>\n",
       "    </tr>\n",
       "    <tr>\n",
       "      <th>75%</th>\n",
       "      <td>772.000000</td>\n",
       "      <td>1.000000</td>\n",
       "    </tr>\n",
       "    <tr>\n",
       "      <th>max</th>\n",
       "      <td>1022.000000</td>\n",
       "      <td>1.000000</td>\n",
       "    </tr>\n",
       "  </tbody>\n",
       "</table>\n",
       "</div>"
      ],
      "text/plain": [
       "                id      target\n",
       "count   821.000000  821.000000\n",
       "mean    512.590743    0.539586\n",
       "std     296.586068    0.498734\n",
       "min       1.000000    0.000000\n",
       "25%     255.000000    0.000000\n",
       "50%     514.000000    1.000000\n",
       "75%     772.000000    1.000000\n",
       "max    1022.000000    1.000000"
      ]
     },
     "execution_count": 9,
     "metadata": {},
     "output_type": "execute_result"
    }
   ],
   "source": [
    "train.describe()"
   ]
  },
  {
   "cell_type": "code",
   "execution_count": 10,
   "id": "9c4c3260",
   "metadata": {
    "execution": {
     "iopub.execute_input": "2023-05-29T06:45:12.553688Z",
     "iopub.status.busy": "2023-05-29T06:45:12.553190Z",
     "iopub.status.idle": "2023-05-29T06:45:12.572768Z",
     "shell.execute_reply": "2023-05-29T06:45:12.571344Z"
    },
    "papermill": {
     "duration": 0.040433,
     "end_time": "2023-05-29T06:45:12.575876",
     "exception": false,
     "start_time": "2023-05-29T06:45:12.535443",
     "status": "completed"
    },
    "tags": []
   },
   "outputs": [
    {
     "name": "stdout",
     "output_type": "stream",
     "text": [
      "<class 'pandas.core.frame.DataFrame'>\n",
      "RangeIndex: 821 entries, 0 to 820\n",
      "Data columns (total 3 columns):\n",
      " #   Column  Non-Null Count  Dtype \n",
      "---  ------  --------------  ----- \n",
      " 0   id      821 non-null    int64 \n",
      " 1   text    821 non-null    object\n",
      " 2   target  821 non-null    int64 \n",
      "dtypes: int64(2), object(1)\n",
      "memory usage: 19.4+ KB\n"
     ]
    }
   ],
   "source": [
    "train.info()"
   ]
  },
  {
   "cell_type": "code",
   "execution_count": 11,
   "id": "2d035d51",
   "metadata": {
    "execution": {
     "iopub.execute_input": "2023-05-29T06:45:12.611687Z",
     "iopub.status.busy": "2023-05-29T06:45:12.610455Z",
     "iopub.status.idle": "2023-05-29T06:45:12.622985Z",
     "shell.execute_reply": "2023-05-29T06:45:12.621564Z"
    },
    "papermill": {
     "duration": 0.033811,
     "end_time": "2023-05-29T06:45:12.626137",
     "exception": false,
     "start_time": "2023-05-29T06:45:12.592326",
     "status": "completed"
    },
    "tags": []
   },
   "outputs": [
    {
     "data": {
      "text/plain": [
       "id        0\n",
       "text      0\n",
       "target    0\n",
       "dtype: int64"
      ]
     },
     "execution_count": 11,
     "metadata": {},
     "output_type": "execute_result"
    }
   ],
   "source": [
    "train.isnull().sum()"
   ]
  },
  {
   "cell_type": "code",
   "execution_count": 12,
   "id": "62eb98ab",
   "metadata": {
    "execution": {
     "iopub.execute_input": "2023-05-29T06:45:12.660866Z",
     "iopub.status.busy": "2023-05-29T06:45:12.660022Z",
     "iopub.status.idle": "2023-05-29T06:45:12.674665Z",
     "shell.execute_reply": "2023-05-29T06:45:12.673240Z"
    },
    "papermill": {
     "duration": 0.034901,
     "end_time": "2023-05-29T06:45:12.677474",
     "exception": false,
     "start_time": "2023-05-29T06:45:12.642573",
     "status": "completed"
    },
    "tags": []
   },
   "outputs": [
    {
     "name": "stdout",
     "output_type": "stream",
     "text": [
      "<class 'pandas.core.frame.DataFrame'>\n",
      "RangeIndex: 201 entries, 0 to 200\n",
      "Data columns (total 3 columns):\n",
      " #   Column   Non-Null Count  Dtype \n",
      "---  ------   --------------  ----- \n",
      " 0   id       201 non-null    int64 \n",
      " 1   keyword  201 non-null    object\n",
      " 2   text     201 non-null    object\n",
      "dtypes: int64(1), object(2)\n",
      "memory usage: 4.8+ KB\n"
     ]
    }
   ],
   "source": [
    "test.info()"
   ]
  },
  {
   "cell_type": "code",
   "execution_count": 13,
   "id": "e9e3f883",
   "metadata": {
    "execution": {
     "iopub.execute_input": "2023-05-29T06:45:12.712318Z",
     "iopub.status.busy": "2023-05-29T06:45:12.711233Z",
     "iopub.status.idle": "2023-05-29T06:45:12.728157Z",
     "shell.execute_reply": "2023-05-29T06:45:12.726660Z"
    },
    "papermill": {
     "duration": 0.037488,
     "end_time": "2023-05-29T06:45:12.731125",
     "exception": false,
     "start_time": "2023-05-29T06:45:12.693637",
     "status": "completed"
    },
    "tags": []
   },
   "outputs": [
    {
     "data": {
      "text/html": [
       "<div>\n",
       "<style scoped>\n",
       "    .dataframe tbody tr th:only-of-type {\n",
       "        vertical-align: middle;\n",
       "    }\n",
       "\n",
       "    .dataframe tbody tr th {\n",
       "        vertical-align: top;\n",
       "    }\n",
       "\n",
       "    .dataframe thead th {\n",
       "        text-align: right;\n",
       "    }\n",
       "</style>\n",
       "<table border=\"1\" class=\"dataframe\">\n",
       "  <thead>\n",
       "    <tr style=\"text-align: right;\">\n",
       "      <th></th>\n",
       "      <th>id</th>\n",
       "      <th>keyword</th>\n",
       "      <th>text</th>\n",
       "    </tr>\n",
       "  </thead>\n",
       "  <tbody>\n",
       "    <tr>\n",
       "      <th>191</th>\n",
       "      <td>978</td>\n",
       "      <td>tai nạn</td>\n",
       "      <td>@phungduthinh @PhcTrnMinh9 @hokhoaly Trong 7 n...</td>\n",
       "    </tr>\n",
       "    <tr>\n",
       "      <th>46</th>\n",
       "      <td>241</td>\n",
       "      <td>cấp cứu</td>\n",
       "      <td>@LocThuong20 @lechauphuongtu Khiên đi cấp cứu ...</td>\n",
       "    </tr>\n",
       "    <tr>\n",
       "      <th>39</th>\n",
       "      <td>208</td>\n",
       "      <td>cấp cứu</td>\n",
       "      <td>Hôm đó mà mình cũng mở live nhào lộn 8 chục vò...</td>\n",
       "    </tr>\n",
       "    <tr>\n",
       "      <th>63</th>\n",
       "      <td>324</td>\n",
       "      <td>hỏa hoạn</td>\n",
       "      <td>Thất bại của Nga trong cuộc chiến tranh xâm lư...</td>\n",
       "    </tr>\n",
       "    <tr>\n",
       "      <th>21</th>\n",
       "      <td>122</td>\n",
       "      <td>bão lũ</td>\n",
       "      <td>Kiếm hoài cái bài LẦN ĐẦU TIÊN nhận được KHI C...</td>\n",
       "    </tr>\n",
       "    <tr>\n",
       "      <th>165</th>\n",
       "      <td>826</td>\n",
       "      <td>lốc xoáy</td>\n",
       "      <td>Số người chết do lốc xoáy tại Mỹ tăng lên 83 h...</td>\n",
       "    </tr>\n",
       "    <tr>\n",
       "      <th>144</th>\n",
       "      <td>721</td>\n",
       "      <td>lốc xoáy</td>\n",
       "      <td>:)))))))) zúng tom &amp;amp; jerry chạy có lốc xoáy</td>\n",
       "    </tr>\n",
       "    <tr>\n",
       "      <th>37</th>\n",
       "      <td>200</td>\n",
       "      <td>cấp cứu</td>\n",
       "      <td>@zpoimy_zpoimy má nó mày chăm ah tao đàng quàn...</td>\n",
       "    </tr>\n",
       "    <tr>\n",
       "      <th>3</th>\n",
       "      <td>17</td>\n",
       "      <td>bão lũ</td>\n",
       "      <td>Hà nội dần chuyển lạnh rồi, để cái bếp lửa ở đ...</td>\n",
       "    </tr>\n",
       "    <tr>\n",
       "      <th>117</th>\n",
       "      <td>582</td>\n",
       "      <td>lốc xoáy</td>\n",
       "      <td>Điều kiện bão mạnh đến nghiêm trọng sẽ tiếp tụ...</td>\n",
       "    </tr>\n",
       "  </tbody>\n",
       "</table>\n",
       "</div>"
      ],
      "text/plain": [
       "      id   keyword                                               text\n",
       "191  978   tai nạn  @phungduthinh @PhcTrnMinh9 @hokhoaly Trong 7 n...\n",
       "46   241   cấp cứu  @LocThuong20 @lechauphuongtu Khiên đi cấp cứu ...\n",
       "39   208   cấp cứu  Hôm đó mà mình cũng mở live nhào lộn 8 chục vò...\n",
       "63   324  hỏa hoạn  Thất bại của Nga trong cuộc chiến tranh xâm lư...\n",
       "21   122    bão lũ  Kiếm hoài cái bài LẦN ĐẦU TIÊN nhận được KHI C...\n",
       "165  826  lốc xoáy  Số người chết do lốc xoáy tại Mỹ tăng lên 83 h...\n",
       "144  721  lốc xoáy    :)))))))) zúng tom &amp; jerry chạy có lốc xoáy\n",
       "37   200   cấp cứu  @zpoimy_zpoimy má nó mày chăm ah tao đàng quàn...\n",
       "3     17    bão lũ  Hà nội dần chuyển lạnh rồi, để cái bếp lửa ở đ...\n",
       "117  582  lốc xoáy  Điều kiện bão mạnh đến nghiêm trọng sẽ tiếp tụ..."
      ]
     },
     "execution_count": 13,
     "metadata": {},
     "output_type": "execute_result"
    }
   ],
   "source": [
    "test.sample(10)"
   ]
  },
  {
   "cell_type": "code",
   "execution_count": 14,
   "id": "5ae0c0d1",
   "metadata": {
    "execution": {
     "iopub.execute_input": "2023-05-29T06:45:12.766378Z",
     "iopub.status.busy": "2023-05-29T06:45:12.765534Z",
     "iopub.status.idle": "2023-05-29T06:45:12.777122Z",
     "shell.execute_reply": "2023-05-29T06:45:12.775584Z"
    },
    "papermill": {
     "duration": 0.032891,
     "end_time": "2023-05-29T06:45:12.780333",
     "exception": false,
     "start_time": "2023-05-29T06:45:12.747442",
     "status": "completed"
    },
    "tags": []
   },
   "outputs": [
    {
     "data": {
      "text/plain": [
       "id         0\n",
       "keyword    0\n",
       "text       0\n",
       "dtype: int64"
      ]
     },
     "execution_count": 14,
     "metadata": {},
     "output_type": "execute_result"
    }
   ],
   "source": [
    "test.isnull().sum()"
   ]
  },
  {
   "cell_type": "code",
   "execution_count": 15,
   "id": "0abdb8e1",
   "metadata": {
    "execution": {
     "iopub.execute_input": "2023-05-29T06:45:12.816330Z",
     "iopub.status.busy": "2023-05-29T06:45:12.815865Z",
     "iopub.status.idle": "2023-05-29T06:45:12.825641Z",
     "shell.execute_reply": "2023-05-29T06:45:12.824321Z"
    },
    "papermill": {
     "duration": 0.030534,
     "end_time": "2023-05-29T06:45:12.828125",
     "exception": false,
     "start_time": "2023-05-29T06:45:12.797591",
     "status": "completed"
    },
    "tags": []
   },
   "outputs": [
    {
     "data": {
      "text/plain": [
       "1    443\n",
       "0    378\n",
       "Name: target, dtype: int64"
      ]
     },
     "execution_count": 15,
     "metadata": {},
     "output_type": "execute_result"
    }
   ],
   "source": [
    "train['target'].value_counts()"
   ]
  },
  {
   "cell_type": "code",
   "execution_count": 16,
   "id": "c0bff75b",
   "metadata": {
    "execution": {
     "iopub.execute_input": "2023-05-29T06:45:12.863440Z",
     "iopub.status.busy": "2023-05-29T06:45:12.862950Z",
     "iopub.status.idle": "2023-05-29T06:45:12.874125Z",
     "shell.execute_reply": "2023-05-29T06:45:12.872272Z"
    },
    "papermill": {
     "duration": 0.032248,
     "end_time": "2023-05-29T06:45:12.877038",
     "exception": false,
     "start_time": "2023-05-29T06:45:12.844790",
     "status": "completed"
    },
    "tags": []
   },
   "outputs": [
    {
     "name": "stdout",
     "output_type": "stream",
     "text": [
      "Tweets that does not contain information about disaster :\n",
      "\n",
      " ['@dungnguyen242 mùa bão lũ này thì đúng lội theo nghĩa đen luôn đấy, lội vui vẻ, lội cẩn thận bạn ưi\\U0001f979'\n",
      " '@Naan0105 thông cảm, bên Hàn đang mùa bão lũ, ko tìm ra nắng đẹp trời trong xanh nên gom hết vào hộp. 🥲'\n",
      " 'https://t.co/ZDVrWxZd36\\ndạo này nhiều chuyện buồn quá, ngày càng thương Bin huhu. cái đợt fanmeeting này là haloween này đợt đó còn bão lũ các kiểu, trời thì mưa, đang bận tổ chức haloween trên trường thế là phải lấy cớ nhà bận để về trước huhu nhớ lắm'\n",
      " '@RyanNguyenHC Mình miền Trung nè, do hoàn cảnh từ nhỏ sinh ra cha mẹ nói phải tiết kiệm nên mình cũng hạn chế ăn chơi, ng miền Tây địa lý phong phú, 1 năm cũng chịu ít bão lũ càn quét nên tính họ đa số phóng khoán. Đâu cũng có người này người kia, miễn sống tốt bụng là đc.'\n",
      " 'Giải cứu fan zxyn ét ô ét trời má emo như bão lũ luôn á. Liệu làm sao coi cho đc thì làm nhaaaaaa'\n",
      " '2022/07/25 14:02 \\n[COMEBACK LOL NGÀY MƯA BÃO LŨ]\\nTôi đang phát trực tuyến League of Legends trên NimoTV, hãy đến chơi với tôi! https://t.co/GXPmJWaLgF'\n",
      " 'Lụm nhẹ 10% ngày bão lũ https://t.co/DXILp71uub'\n",
      " '@LJoga Foi bão Lu, terminei uns trabalhos que tavam parados i o seu?'\n",
      " '@KimTran25053041 Ông trời :\" ĐM tụi Cộng Sản vu khống\"\\nLũ lụt thì bảo đổ nước.\\nHạn hán chắc bảo cúp nước.\\nBão lũ chắc bảo hắt nước.\\nMưa đá chắc do hắt hơi.\\nSấm chớp là tao đánh rắm .\\nĐộng đất chắc là kinh phong .\\nĐM chúng mày vừa ăn cắp vừa la làng'\n",
      " 'truyền tí năng lượng bão lũ hn sang monaco']\n",
      "\n",
      "Tweets that contains information about disaster :\n",
      "\n",
      " ['@_im_pudding_ @BTS_twt bà con miền trung năm nào cũng có bão lũ, thương thật sự'\n",
      " '@HB_1503 Nói chung thiệt hại là có, nhưng nhà mình cũng kinh qua bao mùa bão lũ rồi nên biết cách sống chung vs nó thôi'\n",
      " 'Bão lũ miền trung xót quá trời :('\n",
      " 'Gửi chút nắng ấm đến những bà con vùng bão lũ.\\nCầu mong vạn sự lành cho mọi người \\n#hellohoa https://t.co/K0KkxirEp6'\n",
      " '@Danacrypto_C Chung tay góp sức chống bão lũ'\n",
      " 'Bão Ketsana năm 2009 gây mưa 120-270 mm cho tỉnh Quảng Bình,200-400 mm cho tỉnh Quảng Trị, Quảng Ngãi, Gia Lai, Kon Tum và 400-600 mm cho các tỉnh từ Thừa Thiên Huế đến Quảng Ngãi. Bão lũ đã cướp đi 163 sinh mạng, làm 11 người mất tích, hơn 21.000 nhà dân bị sập https://t.co/n3Fu8eq6cP'\n",
      " 'sinh ra ở mảnh đất miền Trung đầy nắng gió lại thường đón thiên tai bão lũ...nhưng khs lại yêu nơi này đến thế cố lên miền Trung ơi'\n",
      " 'Tập làm văn lớp 3: Viết thư thăm hỏi bạn ở vùng bão lũ lụt (8 mẫu)\\nhttps://t.co/aejF145qn8'\n",
      " 'Bảo đảm vận hành lưới điện an toàn mùa bão lũ https://t.co/LGWz0WWd7g'\n",
      " 'Tập làm văn lớp 4: Viết thư thăm hỏi khi nghe tin quê bạn bị bão lũ\\nhttps://t.co/UJzP1HJNlq']\n"
     ]
    }
   ],
   "source": [
    "print(f\"Tweets that does not contain information about disaster :\\n\\n {train.loc[train['target']==0,'text'][20:30].values}\", end=\"\\n\")\n",
    "\n",
    "print()\n",
    "\n",
    "print(f\"Tweets that contains information about disaster :\\n\\n {train.loc[train['target']==1,'text'][20:30].values}\", end=\"\\n\")"
   ]
  },
  {
   "cell_type": "code",
   "execution_count": 17,
   "id": "073ae527",
   "metadata": {
    "execution": {
     "iopub.execute_input": "2023-05-29T06:45:12.947083Z",
     "iopub.status.busy": "2023-05-29T06:45:12.946664Z",
     "iopub.status.idle": "2023-05-29T06:45:12.954466Z",
     "shell.execute_reply": "2023-05-29T06:45:12.953019Z"
    },
    "papermill": {
     "duration": 0.029329,
     "end_time": "2023-05-29T06:45:12.957248",
     "exception": false,
     "start_time": "2023-05-29T06:45:12.927919",
     "status": "completed"
    },
    "tags": []
   },
   "outputs": [],
   "source": [
    "def preprocessing(text):\n",
    "    text = text.lower()\n",
    "    pattern = re.compile('[^a-z]')\n",
    "    words = nltk.word_tokenize(text)\n",
    "    preprocessed_text = ' '.join(words)\n",
    "    return preprocessed_text"
   ]
  },
  {
   "cell_type": "code",
   "execution_count": 18,
   "id": "5c9886cc",
   "metadata": {},
   "outputs": [],
   "source": [
    "def remove_punctuation(text):\n",
    "    translator = str.maketrans('','',string.punctuation)\n",
    "    return text.translate(translator)\n",
    "    "
   ]
  },
  {
   "cell_type": "code",
   "execution_count": 19,
   "id": "c4546e49",
   "metadata": {},
   "outputs": [],
   "source": [
    "def remove_urls(text):\n",
    "    url_pattern = re.compile(r'https?://\\S+|www\\.\\S+')\n",
    "    return url_pattern.sub('', text)"
   ]
  },
  {
   "cell_type": "code",
   "execution_count": 20,
   "id": "74ed1d62",
   "metadata": {},
   "outputs": [],
   "source": [
    "def remove_stopwords(text, filename):\n",
    "    with open(filename, 'r') as f:\n",
    "        words_to_remove = set(f.read().splitlines())\n",
    "    words = text.split()\n",
    "    cleaned_words = [word for word in words if word not in words_to_remove]\n",
    "    cleaned_text = ' '.join(cleaned_words)\n",
    "    return cleaned_text"
   ]
  },
  {
   "cell_type": "code",
   "execution_count": 21,
   "id": "601667ed",
   "metadata": {
    "execution": {
     "iopub.execute_input": "2023-05-29T06:45:12.994747Z",
     "iopub.status.busy": "2023-05-29T06:45:12.993843Z",
     "iopub.status.idle": "2023-05-29T06:45:25.970697Z",
     "shell.execute_reply": "2023-05-29T06:45:25.969264Z"
    },
    "papermill": {
     "duration": 12.999571,
     "end_time": "2023-05-29T06:45:25.973949",
     "exception": false,
     "start_time": "2023-05-29T06:45:12.974378",
     "status": "completed"
    },
    "tags": []
   },
   "outputs": [
    {
     "data": {
      "text/html": [
       "<div>\n",
       "<style scoped>\n",
       "    .dataframe tbody tr th:only-of-type {\n",
       "        vertical-align: middle;\n",
       "    }\n",
       "\n",
       "    .dataframe tbody tr th {\n",
       "        vertical-align: top;\n",
       "    }\n",
       "\n",
       "    .dataframe thead th {\n",
       "        text-align: right;\n",
       "    }\n",
       "</style>\n",
       "<table border=\"1\" class=\"dataframe\">\n",
       "  <thead>\n",
       "    <tr style=\"text-align: right;\">\n",
       "      <th></th>\n",
       "      <th>id</th>\n",
       "      <th>text</th>\n",
       "      <th>target</th>\n",
       "      <th>text_cleaned</th>\n",
       "    </tr>\n",
       "  </thead>\n",
       "  <tbody>\n",
       "    <tr>\n",
       "      <th>0</th>\n",
       "      <td>1</td>\n",
       "      <td>@WoodyLightyearx Mainnet mở 14/3/2023 là mốc l...</td>\n",
       "      <td>1</td>\n",
       "      <td>woodylightyearx mainnet 1432023 mốc lịch sử tr...</td>\n",
       "    </tr>\n",
       "    <tr>\n",
       "      <th>1</th>\n",
       "      <td>3</td>\n",
       "      <td>Chúc các phu nhân đc lì xì nhìu nhìu tiền zô n...</td>\n",
       "      <td>0</td>\n",
       "      <td>chúc phu nhân đc lì xì nhìu nhìu tiền zô bão l...</td>\n",
       "    </tr>\n",
       "    <tr>\n",
       "      <th>2</th>\n",
       "      <td>4</td>\n",
       "      <td>@LamNguy40552955 Dân Thanh Hoá ngày trước nghè...</td>\n",
       "      <td>1</td>\n",
       "      <td>lamnguy40552955 dân hoá nghèo lắm hậu khắc ngh...</td>\n",
       "    </tr>\n",
       "    <tr>\n",
       "      <th>3</th>\n",
       "      <td>5</td>\n",
       "      <td>Bão lũ, cháy rừng gây thiệt hại trên 353 tỷ US...</td>\n",
       "      <td>1</td>\n",
       "      <td>bão lũ cháy rừng thiệt hại 353 tỷ usd 2022 tco...</td>\n",
       "    </tr>\n",
       "    <tr>\n",
       "      <th>4</th>\n",
       "      <td>6</td>\n",
       "      <td>@wwwaenii Mấy con đin này lại kỳ thị Việt kiều...</td>\n",
       "      <td>0</td>\n",
       "      <td>wwwaenii mấy đin kỳ thị việt kiều đ bão lũ hội...</td>\n",
       "    </tr>\n",
       "    <tr>\n",
       "      <th>...</th>\n",
       "      <td>...</td>\n",
       "      <td>...</td>\n",
       "      <td>...</td>\n",
       "      <td>...</td>\n",
       "    </tr>\n",
       "    <tr>\n",
       "      <th>816</th>\n",
       "      <td>1016</td>\n",
       "      <td>WHO phát đi môṭ thông điệp cảnh báo thế giới đ...</td>\n",
       "      <td>1</td>\n",
       "      <td>who phát đi môṭ thông điệp cảnh báo giới</td>\n",
       "    </tr>\n",
       "    <tr>\n",
       "      <th>817</th>\n",
       "      <td>1018</td>\n",
       "      <td>Các hành tinh xếp thẳng hàng cùng với sự xuất ...</td>\n",
       "      <td>1</td>\n",
       "      <td>hành tinh xếp thẳng hàng xuất hiện</td>\n",
       "    </tr>\n",
       "    <tr>\n",
       "      <th>818</th>\n",
       "      <td>1020</td>\n",
       "      <td>\"Chính phủ có kế hoạch thực hiện \"\"đánh giá rủ...</td>\n",
       "      <td>1</td>\n",
       "      <td>phủ kế hoạch thực hiện đánh giá rủi ro</td>\n",
       "    </tr>\n",
       "    <tr>\n",
       "      <th>819</th>\n",
       "      <td>1021</td>\n",
       "      <td>@ZelenskyyUa Cái ý thức tập thể của mấy người ...</td>\n",
       "      <td>1</td>\n",
       "      <td>zelenskyyua thức tập thể mấy</td>\n",
       "    </tr>\n",
       "    <tr>\n",
       "      <th>820</th>\n",
       "      <td>1022</td>\n",
       "      <td>@ZelenskyyUa Những người đã chết trong thảm họ...</td>\n",
       "      <td>1</td>\n",
       "      <td>zelenskyyua chết thảm họa</td>\n",
       "    </tr>\n",
       "  </tbody>\n",
       "</table>\n",
       "<p>821 rows × 4 columns</p>\n",
       "</div>"
      ],
      "text/plain": [
       "       id                                               text  target  \\\n",
       "0       1  @WoodyLightyearx Mainnet mở 14/3/2023 là mốc l...       1   \n",
       "1       3  Chúc các phu nhân đc lì xì nhìu nhìu tiền zô n...       0   \n",
       "2       4  @LamNguy40552955 Dân Thanh Hoá ngày trước nghè...       1   \n",
       "3       5  Bão lũ, cháy rừng gây thiệt hại trên 353 tỷ US...       1   \n",
       "4       6  @wwwaenii Mấy con đin này lại kỳ thị Việt kiều...       0   \n",
       "..    ...                                                ...     ...   \n",
       "816  1016  WHO phát đi môṭ thông điệp cảnh báo thế giới đ...       1   \n",
       "817  1018  Các hành tinh xếp thẳng hàng cùng với sự xuất ...       1   \n",
       "818  1020  \"Chính phủ có kế hoạch thực hiện \"\"đánh giá rủ...       1   \n",
       "819  1021  @ZelenskyyUa Cái ý thức tập thể của mấy người ...       1   \n",
       "820  1022  @ZelenskyyUa Những người đã chết trong thảm họ...       1   \n",
       "\n",
       "                                          text_cleaned  \n",
       "0    woodylightyearx mainnet 1432023 mốc lịch sử tr...  \n",
       "1    chúc phu nhân đc lì xì nhìu nhìu tiền zô bão l...  \n",
       "2    lamnguy40552955 dân hoá nghèo lắm hậu khắc ngh...  \n",
       "3    bão lũ cháy rừng thiệt hại 353 tỷ usd 2022 tco...  \n",
       "4    wwwaenii mấy đin kỳ thị việt kiều đ bão lũ hội...  \n",
       "..                                                 ...  \n",
       "816           who phát đi môṭ thông điệp cảnh báo giới  \n",
       "817                 hành tinh xếp thẳng hàng xuất hiện  \n",
       "818             phủ kế hoạch thực hiện đánh giá rủi ro  \n",
       "819                       zelenskyyua thức tập thể mấy  \n",
       "820                          zelenskyyua chết thảm họa  \n",
       "\n",
       "[821 rows x 4 columns]"
      ]
     },
     "execution_count": 21,
     "metadata": {},
     "output_type": "execute_result"
    }
   ],
   "source": [
    "filename = 'vietnamese-stopwords.txt'\n",
    "train['text_cleaned']=train['text'].apply(preprocessing).apply(remove_urls).apply(remove_punctuation).apply(remove_stopwords, args=(filename,))\n",
    "test['text_cleaned']=test['text'].apply(preprocessing).apply(remove_urls).apply(remove_punctuation).apply(remove_stopwords, args=(filename,))\n",
    "train\n"
   ]
  },
  {
   "cell_type": "code",
   "execution_count": 22,
   "id": "3ccba838",
   "metadata": {},
   "outputs": [
    {
     "data": {
      "text/html": [
       "<div>\n",
       "<style scoped>\n",
       "    .dataframe tbody tr th:only-of-type {\n",
       "        vertical-align: middle;\n",
       "    }\n",
       "\n",
       "    .dataframe tbody tr th {\n",
       "        vertical-align: top;\n",
       "    }\n",
       "\n",
       "    .dataframe thead th {\n",
       "        text-align: right;\n",
       "    }\n",
       "</style>\n",
       "<table border=\"1\" class=\"dataframe\">\n",
       "  <thead>\n",
       "    <tr style=\"text-align: right;\">\n",
       "      <th></th>\n",
       "      <th>id</th>\n",
       "      <th>keyword</th>\n",
       "      <th>text</th>\n",
       "      <th>text_cleaned</th>\n",
       "    </tr>\n",
       "  </thead>\n",
       "  <tbody>\n",
       "    <tr>\n",
       "      <th>0</th>\n",
       "      <td>2</td>\n",
       "      <td>bão lũ</td>\n",
       "      <td>@Wendy_851 Ngày trc táo bón nên chưa xả đc. Gi...</td>\n",
       "      <td>wendy851 trc táo bón xả đc đc dịp xả bão lũ</td>\n",
       "    </tr>\n",
       "    <tr>\n",
       "      <th>1</th>\n",
       "      <td>9</td>\n",
       "      <td>bão lũ</td>\n",
       "      <td>@nagai_yue Lời bài Heather conan gray\\nThánh c...</td>\n",
       "      <td>nagaiyue heather conan gray thánh ca mùa đông ...</td>\n",
       "    </tr>\n",
       "    <tr>\n",
       "      <th>2</th>\n",
       "      <td>11</td>\n",
       "      <td>bão lũ</td>\n",
       "      <td>Hoa Kỳ và chiến dịch cứu trợ đồng bào lũ lụt V...</td>\n",
       "      <td>hoa kỳ chiến dịch cứu trợ đồng bào lũ lụt việt...</td>\n",
       "    </tr>\n",
       "    <tr>\n",
       "      <th>3</th>\n",
       "      <td>17</td>\n",
       "      <td>bão lũ</td>\n",
       "      <td>Hà nội dần chuyển lạnh rồi, để cái bếp lửa ở đ...</td>\n",
       "      <td>hà nội dần lạnh bếp lửa ấm áp nè mong ảnh hưởn...</td>\n",
       "    </tr>\n",
       "    <tr>\n",
       "      <th>4</th>\n",
       "      <td>21</td>\n",
       "      <td>bão lũ</td>\n",
       "      <td>@MarkTin_ Ngon ngon thanks a nhé. Bão lũ mà vẫ...</td>\n",
       "      <td>marktin ngon ngon thanks a bão lũ</td>\n",
       "    </tr>\n",
       "    <tr>\n",
       "      <th>...</th>\n",
       "      <td>...</td>\n",
       "      <td>...</td>\n",
       "      <td>...</td>\n",
       "      <td>...</td>\n",
       "    </tr>\n",
       "    <tr>\n",
       "      <th>196</th>\n",
       "      <td>1002</td>\n",
       "      <td>thảm hỏa</td>\n",
       "      <td>\"quay về với cherry bomb thôi\" 1 cô nương nào ...</td>\n",
       "      <td>cherry bomb 1 nương đcm 2017 cherry bomb coi t...</td>\n",
       "    </tr>\n",
       "    <tr>\n",
       "      <th>197</th>\n",
       "      <td>1008</td>\n",
       "      <td>thảm hỏa</td>\n",
       "      <td>Các hành tinh xếp thẳng hàng cùng với sự xuất ...</td>\n",
       "      <td>hành tinh xếp thẳng hàng xuất hiện chỗi chu kỳ...</td>\n",
       "    </tr>\n",
       "    <tr>\n",
       "      <th>198</th>\n",
       "      <td>1010</td>\n",
       "      <td>thảm hỏa</td>\n",
       "      <td>đi trong nhà mà không có dép là một thảm họa</td>\n",
       "      <td>đi dép thảm họa</td>\n",
       "    </tr>\n",
       "    <tr>\n",
       "      <th>199</th>\n",
       "      <td>1017</td>\n",
       "      <td>thảm họa</td>\n",
       "      <td>Đi trong nhà mà không có dép là một thảm họa</td>\n",
       "      <td>đi dép thảm họa</td>\n",
       "    </tr>\n",
       "    <tr>\n",
       "      <th>200</th>\n",
       "      <td>1019</td>\n",
       "      <td>thảm họa</td>\n",
       "      <td>Khi thảm hoạ zombie</td>\n",
       "      <td>thảm hoạ zombie</td>\n",
       "    </tr>\n",
       "  </tbody>\n",
       "</table>\n",
       "<p>201 rows × 4 columns</p>\n",
       "</div>"
      ],
      "text/plain": [
       "       id   keyword                                               text  \\\n",
       "0       2    bão lũ  @Wendy_851 Ngày trc táo bón nên chưa xả đc. Gi...   \n",
       "1       9    bão lũ  @nagai_yue Lời bài Heather conan gray\\nThánh c...   \n",
       "2      11    bão lũ  Hoa Kỳ và chiến dịch cứu trợ đồng bào lũ lụt V...   \n",
       "3      17    bão lũ  Hà nội dần chuyển lạnh rồi, để cái bếp lửa ở đ...   \n",
       "4      21    bão lũ  @MarkTin_ Ngon ngon thanks a nhé. Bão lũ mà vẫ...   \n",
       "..    ...       ...                                                ...   \n",
       "196  1002  thảm hỏa  \"quay về với cherry bomb thôi\" 1 cô nương nào ...   \n",
       "197  1008  thảm hỏa  Các hành tinh xếp thẳng hàng cùng với sự xuất ...   \n",
       "198  1010  thảm hỏa       đi trong nhà mà không có dép là một thảm họa   \n",
       "199  1017  thảm họa       Đi trong nhà mà không có dép là một thảm họa   \n",
       "200  1019  thảm họa                                Khi thảm hoạ zombie   \n",
       "\n",
       "                                          text_cleaned  \n",
       "0          wendy851 trc táo bón xả đc đc dịp xả bão lũ  \n",
       "1    nagaiyue heather conan gray thánh ca mùa đông ...  \n",
       "2    hoa kỳ chiến dịch cứu trợ đồng bào lũ lụt việt...  \n",
       "3    hà nội dần lạnh bếp lửa ấm áp nè mong ảnh hưởn...  \n",
       "4                    marktin ngon ngon thanks a bão lũ  \n",
       "..                                                 ...  \n",
       "196  cherry bomb 1 nương đcm 2017 cherry bomb coi t...  \n",
       "197  hành tinh xếp thẳng hàng xuất hiện chỗi chu kỳ...  \n",
       "198                                    đi dép thảm họa  \n",
       "199                                    đi dép thảm họa  \n",
       "200                                    thảm hoạ zombie  \n",
       "\n",
       "[201 rows x 4 columns]"
      ]
     },
     "execution_count": 22,
     "metadata": {},
     "output_type": "execute_result"
    }
   ],
   "source": [
    "test"
   ]
  },
  {
   "cell_type": "code",
   "execution_count": 23,
   "id": "5e6230d1",
   "metadata": {
    "execution": {
     "iopub.execute_input": "2023-05-29T06:45:26.011381Z",
     "iopub.status.busy": "2023-05-29T06:45:26.009925Z",
     "iopub.status.idle": "2023-05-29T06:45:26.016420Z",
     "shell.execute_reply": "2023-05-29T06:45:26.015071Z"
    },
    "papermill": {
     "duration": 0.028207,
     "end_time": "2023-05-29T06:45:26.019460",
     "exception": false,
     "start_time": "2023-05-29T06:45:25.991253",
     "status": "completed"
    },
    "tags": []
   },
   "outputs": [],
   "source": [
    "x=train['text_cleaned'].values\n",
    "y=train['target'].values"
   ]
  },
  {
   "cell_type": "code",
   "execution_count": 24,
   "id": "b105950b",
   "metadata": {
    "execution": {
     "iopub.execute_input": "2023-05-29T06:45:26.136594Z",
     "iopub.status.busy": "2023-05-29T06:45:26.135678Z",
     "iopub.status.idle": "2023-05-29T06:45:26.366109Z",
     "shell.execute_reply": "2023-05-29T06:45:26.364666Z"
    },
    "papermill": {
     "duration": 0.252353,
     "end_time": "2023-05-29T06:45:26.369097",
     "exception": false,
     "start_time": "2023-05-29T06:45:26.116744",
     "status": "completed"
    },
    "tags": []
   },
   "outputs": [],
   "source": [
    "classifier=CountVectorizer()\n",
    "x=classifier.fit_transform(x)"
   ]
  },
  {
   "cell_type": "code",
   "execution_count": 25,
   "id": "98d34453",
   "metadata": {
    "execution": {
     "iopub.execute_input": "2023-05-29T06:45:26.406429Z",
     "iopub.status.busy": "2023-05-29T06:45:26.405930Z",
     "iopub.status.idle": "2023-05-29T06:45:26.418195Z",
     "shell.execute_reply": "2023-05-29T06:45:26.417169Z"
    },
    "papermill": {
     "duration": 0.03405,
     "end_time": "2023-05-29T06:45:26.421099",
     "exception": false,
     "start_time": "2023-05-29T06:45:26.387049",
     "status": "completed"
    },
    "tags": []
   },
   "outputs": [],
   "source": [
    "x_train,x_test,y_train,y_test=train_test_split(x,y,test_size=.10,random_state=27,stratify=y)"
   ]
  },
  {
   "cell_type": "code",
   "execution_count": 26,
   "id": "fc22b573",
   "metadata": {},
   "outputs": [
    {
     "name": "stdout",
     "output_type": "stream",
     "text": [
      "lốc: 305\n",
      "xoáy: 305\n",
      "bố: 194\n",
      "khủng: 188\n",
      "bão: 175\n",
      "lũ: 168\n",
      "cứu: 98\n",
      "mỹ: 84\n",
      "trung: 82\n",
      "đi: 82\n"
     ]
    }
   ],
   "source": [
    "vocabulary = classifier.get_feature_names_out()\n",
    "word_counts = x.sum(axis=0)\n",
    "word_freqs = [(word, count) for word, count in zip(vocabulary, word_counts.tolist()[0])]\n",
    "sorted_word_freqs = sorted(word_freqs, key=lambda x: x[1], reverse=True)\n",
    "top_10_words = sorted_word_freqs[:10]\n",
    "for word, count in top_10_words:\n",
    "    print(f\"{word}: {count}\")"
   ]
  },
  {
   "cell_type": "code",
   "execution_count": 27,
   "id": "7030bb4b",
   "metadata": {},
   "outputs": [
    {
     "name": "stdout",
     "output_type": "stream",
     "text": [
      "Độ dài trung bình của các dòng dữ liệu:\n",
      "[[0.01031223]\n",
      " [0.00429676]\n",
      " [0.00859353]\n",
      " [0.00315096]\n",
      " [0.00887998]\n",
      " [0.00887998]\n",
      " [0.00658837]\n",
      " [0.00286451]\n",
      " [0.00515612]\n",
      " [0.00401031]\n",
      " [0.00257806]\n",
      " [0.00143225]\n",
      " [0.00286451]\n",
      " [0.00257806]\n",
      " [0.00601547]\n",
      " [0.00286451]\n",
      " [0.00315096]\n",
      " [0.00372386]\n",
      " [0.00887998]\n",
      " [0.00802062]\n",
      " [0.00372386]\n",
      " [0.00458321]\n",
      " [0.01059868]\n",
      " [0.00229161]\n",
      " [0.00372386]\n",
      " [0.00171871]\n",
      " [0.00401031]\n",
      " [0.00372386]\n",
      " [0.00773417]\n",
      " [0.00544257]\n",
      " [0.00744772]\n",
      " [0.00171871]\n",
      " [0.00716127]\n",
      " [0.01002578]\n",
      " [0.00200516]\n",
      " [0.00286451]\n",
      " [0.00171871]\n",
      " [0.01174449]\n",
      " [0.00343741]\n",
      " [0.00257806]\n",
      " [0.00171871]\n",
      " [0.01145803]\n",
      " [0.00486966]\n",
      " [0.00515612]\n",
      " [0.00315096]\n",
      " [0.00315096]\n",
      " [0.00343741]\n",
      " [0.00286451]\n",
      " [0.00315096]\n",
      " [0.00143225]\n",
      " [0.00315096]\n",
      " [0.00429676]\n",
      " [0.00716127]\n",
      " [0.00401031]\n",
      " [0.00257806]\n",
      " [0.00429676]\n",
      " [0.00401031]\n",
      " [0.00687482]\n",
      " [0.00486966]\n",
      " [0.00887998]\n",
      " [0.00486966]\n",
      " [0.00458321]\n",
      " [0.00458321]\n",
      " [0.00372386]\n",
      " [0.00429676]\n",
      " [0.00429676]\n",
      " [0.00429676]\n",
      " [0.00429676]\n",
      " [0.00716127]\n",
      " [0.00429676]\n",
      " [0.00429676]\n",
      " [0.00429676]\n",
      " [0.00429676]\n",
      " [0.00200516]\n",
      " [0.00401031]\n",
      " [0.00515612]\n",
      " [0.00401031]\n",
      " [0.00372386]\n",
      " [0.00372386]\n",
      " [0.00630192]\n",
      " [0.00744772]\n",
      " [0.00171871]\n",
      " [0.00401031]\n",
      " [0.00315096]\n",
      " [0.01088513]\n",
      " [0.00200516]\n",
      " [0.00229161]\n",
      " [0.00716127]\n",
      " [0.00229161]\n",
      " [0.00229161]\n",
      " [0.0005729 ]\n",
      " [0.00744772]\n",
      " [0.00458321]\n",
      " [0.00315096]\n",
      " [0.00343741]\n",
      " [0.00343741]\n",
      " [0.00343741]\n",
      " [0.00315096]\n",
      " [0.00601547]\n",
      " [0.00200516]\n",
      " [0.00372386]\n",
      " [0.00372386]\n",
      " [0.00601547]\n",
      " [0.00744772]\n",
      " [0.01145803]\n",
      " [0.00343741]\n",
      " [0.00286451]\n",
      " [0.00887998]\n",
      " [0.00458321]\n",
      " [0.00486966]\n",
      " [0.00687482]\n",
      " [0.00802062]\n",
      " [0.00315096]\n",
      " [0.00315096]\n",
      " [0.00372386]\n",
      " [0.00887998]\n",
      " [0.00171871]\n",
      " [0.00343741]\n",
      " [0.00372386]\n",
      " [0.00343741]\n",
      " [0.00744772]\n",
      " [0.01059868]\n",
      " [0.00458321]\n",
      " [0.00916643]\n",
      " [0.00229161]\n",
      " [0.00315096]\n",
      " [0.00286451]\n",
      " [0.00229161]\n",
      " [0.00200516]\n",
      " [0.00773417]\n",
      " [0.00859353]\n",
      " [0.00401031]\n",
      " [0.00973933]\n",
      " [0.00544257]\n",
      " [0.00716127]\n",
      " [0.00200516]\n",
      " [0.00257806]\n",
      " [0.00286451]\n",
      " [0.00286451]\n",
      " [0.0011458 ]\n",
      " [0.00830708]\n",
      " [0.00143225]\n",
      " [0.00286451]\n",
      " [0.00401031]\n",
      " [0.00572902]\n",
      " [0.00658837]\n",
      " [0.00229161]\n",
      " [0.00143225]\n",
      " [0.00315096]\n",
      " [0.00171871]\n",
      " [0.00372386]\n",
      " [0.00458321]\n",
      " [0.00830708]\n",
      " [0.01088513]\n",
      " [0.00486966]\n",
      " [0.00171871]\n",
      " [0.0011458 ]\n",
      " [0.0011458 ]\n",
      " [0.00171871]\n",
      " [0.00458321]\n",
      " [0.00859353]\n",
      " [0.00630192]\n",
      " [0.00315096]\n",
      " [0.00716127]\n",
      " [0.00200516]\n",
      " [0.00601547]\n",
      " [0.00200516]\n",
      " [0.00515612]\n",
      " [0.00200516]\n",
      " [0.00143225]\n",
      " [0.00171871]\n",
      " [0.00515612]\n",
      " [0.00515612]\n",
      " [0.00401031]\n",
      " [0.00458321]\n",
      " [0.00802062]\n",
      " [0.00515612]\n",
      " [0.00200516]\n",
      " [0.00687482]\n",
      " [0.00515612]\n",
      " [0.00200516]\n",
      " [0.00458321]\n",
      " [0.00229161]\n",
      " [0.00085935]\n",
      " [0.00515612]\n",
      " [0.00229161]\n",
      " [0.00257806]\n",
      " [0.00572902]\n",
      " [0.00916643]\n",
      " [0.00171871]\n",
      " [0.00630192]\n",
      " [0.00601547]\n",
      " [0.00601547]\n",
      " [0.00658837]\n",
      " [0.00887998]\n",
      " [0.00343741]\n",
      " [0.00257806]\n",
      " [0.00773417]\n",
      " [0.00229161]\n",
      " [0.00429676]\n",
      " [0.00630192]\n",
      " [0.00630192]\n",
      " [0.00171871]\n",
      " [0.00315096]\n",
      " [0.00315096]\n",
      " [0.00372386]\n",
      " [0.00343741]\n",
      " [0.00343741]\n",
      " [0.00401031]\n",
      " [0.00658837]\n",
      " [0.00401031]\n",
      " [0.01031223]\n",
      " [0.00315096]\n",
      " [0.00257806]\n",
      " [0.00830708]\n",
      " [0.00257806]\n",
      " [0.00544257]\n",
      " [0.00515612]\n",
      " [0.00515612]\n",
      " [0.00372386]\n",
      " [0.00687482]\n",
      " [0.00171871]\n",
      " [0.00687482]\n",
      " [0.00229161]\n",
      " [0.00200516]\n",
      " [0.01059868]\n",
      " [0.00830708]\n",
      " [0.00372386]\n",
      " [0.00372386]\n",
      " [0.00200516]\n",
      " [0.00401031]\n",
      " [0.00744772]\n",
      " [0.00343741]\n",
      " [0.00200516]\n",
      " [0.00372386]\n",
      " [0.00973933]\n",
      " [0.00859353]\n",
      " [0.00830708]\n",
      " [0.00315096]\n",
      " [0.00687482]\n",
      " [0.00286451]\n",
      " [0.01088513]\n",
      " [0.01031223]\n",
      " [0.00229161]\n",
      " [0.00372386]\n",
      " [0.00401031]\n",
      " [0.0011458 ]\n",
      " [0.00887998]\n",
      " [0.00257806]\n",
      " [0.00916643]\n",
      " [0.00630192]\n",
      " [0.00315096]\n",
      " [0.00200516]\n",
      " [0.00859353]\n",
      " [0.00859353]\n",
      " [0.00171871]\n",
      " [0.00401031]\n",
      " [0.00515612]\n",
      " [0.00572902]\n",
      " [0.00257806]\n",
      " [0.00286451]\n",
      " [0.00257806]\n",
      " [0.00916643]\n",
      " [0.01059868]\n",
      " [0.00143225]\n",
      " [0.00687482]\n",
      " [0.00257806]\n",
      " [0.00830708]\n",
      " [0.01002578]\n",
      " [0.00257806]\n",
      " [0.00973933]\n",
      " [0.00916643]\n",
      " [0.00744772]\n",
      " [0.00830708]\n",
      " [0.00716127]\n",
      " [0.00716127]\n",
      " [0.00716127]\n",
      " [0.00458321]\n",
      " [0.00572902]\n",
      " [0.01260384]\n",
      " [0.00429676]\n",
      " [0.00200516]\n",
      " [0.00257806]\n",
      " [0.01145803]\n",
      " [0.01174449]\n",
      " [0.00286451]\n",
      " [0.00859353]\n",
      " [0.00601547]\n",
      " [0.00286451]\n",
      " [0.00572902]\n",
      " [0.00945288]\n",
      " [0.00171871]\n",
      " [0.00229161]\n",
      " [0.00143225]\n",
      " [0.00572902]\n",
      " [0.00830708]\n",
      " [0.00401031]\n",
      " [0.00257806]\n",
      " [0.00315096]\n",
      " [0.00372386]\n",
      " [0.00773417]\n",
      " [0.00257806]\n",
      " [0.00429676]\n",
      " [0.00229161]\n",
      " [0.00716127]\n",
      " [0.00859353]\n",
      " [0.00286451]\n",
      " [0.00773417]\n",
      " [0.00544257]\n",
      " [0.00544257]\n",
      " [0.00859353]\n",
      " [0.00859353]\n",
      " [0.00343741]\n",
      " [0.00744772]\n",
      " [0.01088513]\n",
      " [0.01002578]\n",
      " [0.00458321]\n",
      " [0.00229161]\n",
      " [0.00343741]\n",
      " [0.00859353]\n",
      " [0.00830708]\n",
      " [0.00286451]\n",
      " [0.00429676]\n",
      " [0.00773417]\n",
      " [0.00200516]\n",
      " [0.00515612]\n",
      " [0.01289029]\n",
      " [0.00229161]\n",
      " [0.00572902]\n",
      " [0.00830708]\n",
      " [0.00887998]\n",
      " [0.00973933]\n",
      " [0.00544257]\n",
      " [0.00716127]\n",
      " [0.00630192]\n",
      " [0.00458321]\n",
      " [0.00773417]\n",
      " [0.00515612]\n",
      " [0.00429676]\n",
      " [0.00601547]\n",
      " [0.0011458 ]\n",
      " [0.00171871]\n",
      " [0.00630192]\n",
      " [0.00515612]\n",
      " [0.00887998]\n",
      " [0.00401031]\n",
      " [0.00229161]\n",
      " [0.00830708]\n",
      " [0.01031223]\n",
      " [0.00372386]\n",
      " [0.00859353]\n",
      " [0.00744772]\n",
      " [0.00687482]\n",
      " [0.00658837]\n",
      " [0.00315096]\n",
      " [0.00343741]\n",
      " [0.00630192]\n",
      " [0.00401031]\n",
      " [0.00630192]\n",
      " [0.00601547]\n",
      " [0.00486966]\n",
      " [0.00200516]\n",
      " [0.00229161]\n",
      " [0.00257806]\n",
      " [0.00744772]\n",
      " [0.00744772]\n",
      " [0.00744772]\n",
      " [0.00401031]\n",
      " [0.01088513]\n",
      " [0.00687482]\n",
      " [0.00687482]\n",
      " [0.00085935]\n",
      " [0.00229161]\n",
      " [0.00372386]\n",
      " [0.00315096]\n",
      " [0.0011458 ]\n",
      " [0.00486966]\n",
      " [0.00973933]\n",
      " [0.01088513]\n",
      " [0.00658837]\n",
      " [0.00401031]\n",
      " [0.00916643]\n",
      " [0.0011458 ]\n",
      " [0.00744772]\n",
      " [0.00687482]\n",
      " [0.00143225]\n",
      " [0.00343741]\n",
      " [0.00744772]\n",
      " [0.00171871]\n",
      " [0.00945288]\n",
      " [0.00773417]\n",
      " [0.00458321]\n",
      " [0.00286451]\n",
      " [0.00572902]\n",
      " [0.00429676]\n",
      " [0.00486966]\n",
      " [0.00945288]\n",
      " [0.00200516]\n",
      " [0.00343741]\n",
      " [0.00572902]\n",
      " [0.00343741]\n",
      " [0.00401031]\n",
      " [0.00143225]\n",
      " [0.00286451]\n",
      " [0.00429676]\n",
      " [0.00200516]\n",
      " [0.00229161]\n",
      " [0.00315096]\n",
      " [0.00085935]\n",
      " [0.00257806]\n",
      " [0.00887998]\n",
      " [0.00229161]\n",
      " [0.00802062]\n",
      " [0.00830708]\n",
      " [0.00572902]\n",
      " [0.00401031]\n",
      " [0.00515612]\n",
      " [0.00143225]\n",
      " [0.00572902]\n",
      " [0.00630192]\n",
      " [0.00916643]\n",
      " [0.00401031]\n",
      " [0.00630192]\n",
      " [0.00630192]\n",
      " [0.00257806]\n",
      " [0.00200516]\n",
      " [0.00630192]\n",
      " [0.00658837]\n",
      " [0.00916643]\n",
      " [0.00887998]\n",
      " [0.00429676]\n",
      " [0.00458321]\n",
      " [0.00143225]\n",
      " [0.00429676]\n",
      " [0.00171871]\n",
      " [0.00143225]\n",
      " [0.00744772]\n",
      " [0.00630192]\n",
      " [0.00171871]\n",
      " [0.00458321]\n",
      " [0.00744772]\n",
      " [0.00887998]\n",
      " [0.00658837]\n",
      " [0.00401031]\n",
      " [0.00401031]\n",
      " [0.00973933]\n",
      " [0.00229161]\n",
      " [0.00859353]\n",
      " [0.0011458 ]\n",
      " [0.00630192]\n",
      " [0.00143225]\n",
      " [0.00572902]\n",
      " [0.00630192]\n",
      " [0.00601547]\n",
      " [0.00229161]\n",
      " [0.00458321]\n",
      " [0.00171871]\n",
      " [0.00973933]\n",
      " [0.00257806]\n",
      " [0.0011458 ]\n",
      " [0.00830708]\n",
      " [0.00286451]\n",
      " [0.00830708]\n",
      " [0.01174449]\n",
      " [0.00401031]\n",
      " [0.00429676]\n",
      " [0.00200516]\n",
      " [0.00257806]\n",
      " [0.00372386]\n",
      " [0.00257806]\n",
      " [0.00372386]\n",
      " [0.00343741]\n",
      " [0.00716127]\n",
      " [0.00401031]\n",
      " [0.00687482]\n",
      " [0.00401031]\n",
      " [0.00401031]\n",
      " [0.00143225]\n",
      " [0.00286451]\n",
      " [0.0011458 ]\n",
      " [0.00401031]\n",
      " [0.00229161]\n",
      " [0.00458321]\n",
      " [0.00372386]\n",
      " [0.00486966]\n",
      " [0.00458321]\n",
      " [0.00372386]\n",
      " [0.00486966]\n",
      " [0.00372386]\n",
      " [0.00229161]\n",
      " [0.00830708]\n",
      " [0.00887998]\n",
      " [0.00687482]\n",
      " [0.00802062]\n",
      " [0.00372386]\n",
      " [0.00257806]\n",
      " [0.00372386]\n",
      " [0.00257806]\n",
      " [0.00229161]\n",
      " [0.00486966]\n",
      " [0.00486966]\n",
      " [0.00286451]\n",
      " [0.00085935]\n",
      " [0.00544257]\n",
      " [0.00716127]\n",
      " [0.00401031]\n",
      " [0.00572902]\n",
      " [0.00143225]\n",
      " [0.00229161]\n",
      " [0.00257806]\n",
      " [0.00658837]\n",
      " [0.00286451]\n",
      " [0.00229161]\n",
      " [0.00257806]\n",
      " [0.00572902]\n",
      " [0.00200516]\n",
      " [0.00572902]\n",
      " [0.00315096]\n",
      " [0.00887998]\n",
      " [0.00343741]\n",
      " [0.00315096]\n",
      " [0.00515612]\n",
      " [0.00515612]\n",
      " [0.00458321]\n",
      " [0.0011458 ]\n",
      " [0.00200516]\n",
      " [0.00315096]\n",
      " [0.00458321]\n",
      " [0.00773417]\n",
      " [0.00286451]\n",
      " [0.0011458 ]\n",
      " [0.00315096]\n",
      " [0.00315096]\n",
      " [0.00315096]\n",
      " [0.00286451]\n",
      " [0.0011458 ]\n",
      " [0.00630192]\n",
      " [0.00515612]\n",
      " [0.00343741]\n",
      " [0.00286451]\n",
      " [0.00315096]\n",
      " [0.00343741]\n",
      " [0.00171871]\n",
      " [0.00601547]\n",
      " [0.00572902]\n",
      " [0.00229161]\n",
      " [0.01117158]\n",
      " [0.00716127]\n",
      " [0.00744772]\n",
      " [0.00486966]\n",
      " [0.00229161]\n",
      " [0.00200516]\n",
      " [0.00315096]\n",
      " [0.0011458 ]\n",
      " [0.00372386]\n",
      " [0.00315096]\n",
      " [0.00343741]\n",
      " [0.00315096]\n",
      " [0.00343741]\n",
      " [0.00200516]\n",
      " [0.00229161]\n",
      " [0.00286451]\n",
      " [0.00257806]\n",
      " [0.01260384]\n",
      " [0.00916643]\n",
      " [0.00315096]\n",
      " [0.00229161]\n",
      " [0.00257806]\n",
      " [0.00687482]\n",
      " [0.0011458 ]\n",
      " [0.00343741]\n",
      " [0.00315096]\n",
      " [0.00544257]\n",
      " [0.00658837]\n",
      " [0.00372386]\n",
      " [0.00085935]\n",
      " [0.00200516]\n",
      " [0.00401031]\n",
      " [0.00458321]\n",
      " [0.00372386]\n",
      " [0.00315096]\n",
      " [0.00200516]\n",
      " [0.00658837]\n",
      " [0.00171871]\n",
      " [0.01031223]\n",
      " [0.00401031]\n",
      " [0.00143225]\n",
      " [0.00286451]\n",
      " [0.00916643]\n",
      " [0.00401031]\n",
      " [0.00343741]\n",
      " [0.00429676]\n",
      " [0.00859353]\n",
      " [0.00343741]\n",
      " [0.00687482]\n",
      " [0.00286451]\n",
      " [0.00744772]\n",
      " [0.00171871]\n",
      " [0.00945288]\n",
      " [0.00572902]\n",
      " [0.00286451]\n",
      " [0.00257806]\n",
      " [0.00171871]\n",
      " [0.00372386]\n",
      " [0.00200516]\n",
      " [0.00744772]\n",
      " [0.00458321]\n",
      " [0.00143225]\n",
      " [0.00630192]\n",
      " [0.00315096]\n",
      " [0.00830708]\n",
      " [0.00372386]\n",
      " [0.00315096]\n",
      " [0.00401031]\n",
      " [0.00229161]\n",
      " [0.00372386]\n",
      " [0.00257806]\n",
      " [0.00286451]\n",
      " [0.00315096]\n",
      " [0.00687482]\n",
      " [0.00257806]\n",
      " [0.00887998]\n",
      " [0.00143225]\n",
      " [0.00200516]\n",
      " [0.00143225]\n",
      " [0.00229161]\n",
      " [0.00200516]\n",
      " [0.00200516]\n",
      " [0.00401031]\n",
      " [0.00401031]\n",
      " [0.00229161]\n",
      " [0.00401031]\n",
      " [0.00315096]\n",
      " [0.00257806]\n",
      " [0.00257806]\n",
      " [0.00200516]\n",
      " [0.00315096]\n",
      " [0.00286451]\n",
      " [0.00744772]\n",
      " [0.00744772]\n",
      " [0.00401031]\n",
      " [0.00687482]\n",
      " [0.00286451]\n",
      " [0.00315096]\n",
      " [0.00343741]\n",
      " [0.00229161]\n",
      " [0.00343741]\n",
      " [0.00229161]\n",
      " [0.00200516]\n",
      " [0.00315096]\n",
      " [0.00229161]\n",
      " [0.00315096]\n",
      " [0.00257806]\n",
      " [0.00372386]\n",
      " [0.00315096]\n",
      " [0.00286451]\n",
      " [0.00802062]\n",
      " [0.00315096]\n",
      " [0.00315096]\n",
      " [0.00315096]\n",
      " [0.00429676]\n",
      " [0.00257806]\n",
      " [0.00315096]\n",
      " [0.00257806]\n",
      " [0.00257806]\n",
      " [0.00171871]\n",
      " [0.00486966]\n",
      " [0.00171871]\n",
      " [0.00458321]\n",
      " [0.00257806]\n",
      " [0.00744772]\n",
      " [0.00458321]\n",
      " [0.00343741]\n",
      " [0.00171871]\n",
      " [0.00257806]\n",
      " [0.00286451]\n",
      " [0.00143225]\n",
      " [0.00200516]\n",
      " [0.00773417]\n",
      " [0.00286451]\n",
      " [0.0011458 ]\n",
      " [0.00372386]\n",
      " [0.00744772]\n",
      " [0.00257806]\n",
      " [0.00315096]\n",
      " [0.00200516]\n",
      " [0.00257806]\n",
      " [0.00143225]\n",
      " [0.00572902]\n",
      " [0.00630192]\n",
      " [0.00773417]\n",
      " [0.00802062]\n",
      " [0.00859353]\n",
      " [0.00401031]\n",
      " [0.00544257]\n",
      " [0.00257806]\n",
      " [0.00229161]\n",
      " [0.00286451]\n",
      " [0.00830708]\n",
      " [0.00773417]\n",
      " [0.00200516]\n",
      " [0.00429676]\n",
      " [0.00486966]\n",
      " [0.00372386]\n",
      " [0.00171871]\n",
      " [0.00458321]\n",
      " [0.00315096]\n",
      " [0.00486966]\n",
      " [0.00315096]\n",
      " [0.00401031]\n",
      " [0.00744772]\n",
      " [0.00171871]\n",
      " [0.00486966]\n",
      " [0.00802062]\n",
      " [0.00143225]\n",
      " [0.00773417]\n",
      " [0.00773417]\n",
      " [0.00773417]\n",
      " [0.00229161]\n",
      " [0.00372386]\n",
      " [0.00286451]\n",
      " [0.00085935]\n",
      " [0.00257806]\n",
      " [0.00372386]\n",
      " [0.00372386]\n",
      " [0.00372386]\n",
      " [0.00973933]\n",
      " [0.00315096]\n",
      " [0.00372386]\n",
      " [0.00401031]\n",
      " [0.00429676]\n",
      " [0.0005729 ]\n",
      " [0.00229161]\n",
      " [0.00458321]\n",
      " [0.00171871]\n",
      " [0.00257806]\n",
      " [0.00486966]\n",
      " [0.00372386]\n",
      " [0.00343741]\n",
      " [0.00315096]\n",
      " [0.00085935]\n",
      " [0.00601547]\n",
      " [0.00544257]\n",
      " [0.00429676]\n",
      " [0.00286451]\n",
      " [0.00458321]\n",
      " [0.00200516]\n",
      " [0.00372386]\n",
      " [0.00229161]\n",
      " [0.00343741]\n",
      " [0.00372386]\n",
      " [0.00773417]\n",
      " [0.00486966]\n",
      " [0.00257806]\n",
      " [0.00229161]\n",
      " [0.00429676]\n",
      " [0.00229161]\n",
      " [0.00171871]\n",
      " [0.00257806]\n",
      " [0.00085935]\n",
      " [0.00257806]\n",
      " [0.00171871]\n",
      " [0.00257806]\n",
      " [0.00200516]\n",
      " [0.00143225]\n",
      " [0.00257806]\n",
      " [0.00572902]\n",
      " [0.00658837]\n",
      " [0.00286451]\n",
      " [0.00429676]\n",
      " [0.00630192]\n",
      " [0.00343741]\n",
      " [0.00315096]\n",
      " [0.00143225]\n",
      " [0.00429676]\n",
      " [0.00572902]\n",
      " [0.00200516]\n",
      " [0.00085935]\n",
      " [0.00572902]\n",
      " [0.00085935]\n",
      " [0.00286451]\n",
      " [0.00229161]\n",
      " [0.00286451]\n",
      " [0.00572902]\n",
      " [0.00171871]\n",
      " [0.00687482]\n",
      " [0.00343741]\n",
      " [0.00802062]\n",
      " [0.00744772]\n",
      " [0.00973933]\n",
      " [0.00229161]\n",
      " [0.00372386]\n",
      " [0.00372386]\n",
      " [0.00229161]\n",
      " [0.00200516]\n",
      " [0.00200516]\n",
      " [0.00085935]\n",
      " [0.00257806]\n",
      " [0.00372386]\n",
      " [0.00257806]\n",
      " [0.00372386]\n",
      " [0.00486966]\n",
      " [0.00945288]\n",
      " [0.00601547]\n",
      " [0.00171871]\n",
      " [0.00859353]\n",
      " [0.00486966]\n",
      " [0.00171871]\n",
      " [0.01002578]\n",
      " [0.01002578]\n",
      " [0.00257806]\n",
      " [0.00601547]\n",
      " [0.00544257]\n",
      " [0.00429676]\n",
      " [0.00343741]\n",
      " [0.00315096]\n",
      " [0.00257806]\n",
      " [0.00200516]\n",
      " [0.00257806]\n",
      " [0.00143225]\n",
      " [0.0011458 ]]\n"
     ]
    }
   ],
   "source": [
    "average_length = x.mean(axis=1)\n",
    "print(\"Độ dài trung bình của các dòng dữ liệu:\")\n",
    "print(average_length)"
   ]
  },
  {
   "cell_type": "code",
   "execution_count": 28,
   "id": "14f7c2cf",
   "metadata": {},
   "outputs": [
    {
     "data": {
      "image/png": "[encoded data removed]",
      "text/plain": [
       "<Figure size 200x300 with 1 Axes>"
      ]
     },
     "metadata": {},
     "output_type": "display_data"
    }
   ],
   "source": [
    "import numpy as np\n",
    "import matplotlib.pyplot as plt\n",
    "labels = train['target'].unique()\n",
    "average_lengths = []\n",
    "for label in labels:\n",
    "    group_indices = (y == label)\n",
    "    group_x = x[group_indices]\n",
    "    group_average_length = np.mean([group_x[i].getnnz() for i in range(group_x.shape[0])])\n",
    "    average_lengths.append(group_average_length)\n",
    "plt.figure(figsize=(2, 3))\n",
    "plt.bar(labels, average_lengths)\n",
    "plt.xlabel('Label')\n",
    "plt.ylabel('AVG len')\n",
    "plt.title('AVG len/Label')\n",
    "plt.show()"
   ]
  },
  {
   "cell_type": "code",
   "execution_count": 29,
   "id": "87df3dba",
   "metadata": {},
   "outputs": [
    {
     "name": "stdout",
     "output_type": "stream",
     "text": [
      "[15.451467268623025, 14.023809523809524]\n"
     ]
    }
   ],
   "source": [
    "print(average_lengths)"
   ]
  },
  {
   "cell_type": "code",
   "execution_count": 30,
   "id": "45de9d45",
   "metadata": {},
   "outputs": [
    {
     "name": "stdout",
     "output_type": "stream",
     "text": [
      "Vocab: ['woodylightyearx', 'mainnet', '1432023', 'mốc', 'lịch', 'sử', 'trọng', 'đại', 'cứu', 'cánh', 'nhân', 'văn', 'nghĩa', 'vĩ', 'dịch', 'bệnh', 'covit19', 'hoành', 'hành', 'chiến', 'tranh', 'bão', 'lũ', 'thiên', 'tai', 'động', 'đất', 'bình', 'yên', 'hưởng', 'thụ', 'pi', 'thời', 'gian', 'chúc', 'phu', 'đc', 'lì', 'xì', 'nhìu', 'tiền', 'zô', 'đánh', 'thắng', 'quài', 'lamnguy40552955', 'dân', 'hoá', 'nghèo', 'lắm', 'hậu', 'khắc', 'nghiệt', 'mùa', 'qoanh', 'lúa', 'gộp', 'hạn', 'hán', 'ngập', 'úngdân', 'th', 'đói', 'quanh', 'lớp', 'tỏa', 'đi', 'khắp', 'miền', 'cháy', 'rừng', 'thiệt', 'hại', '353', 'tỷ', 'usd', '2022', 'tcolxyjmn2g9l', 'wwwaenii', 'mấy', 'đin', 'kỳ', 'thị', 'việt', 'kiều', 'hội', 'thiện', 'lô', 'vinfast', 'mẽo', 'hầu', 'toàn', 'vk', 'ủng', 'hộ', 'gửi', 'ngoại', 'tệ', 'gd', 'xây', 'dựng', 'quê', 'hương', 'đừng', 'mong', 'ước', 'đời', 'sóng', 'gió', 'tiểu', 'thuyết', 'phim', 'truyền', 'hình', 'giật', '10', '11', 'tầm', 'trông', 'học', 'đầu', 'aswalrmm', 'maedangyeu', 'justluvebiu', 'notu9712', 'tco2e8rge5maj', 'hôm', 'bận', 'vl', 'bọn', 'xuất', 'hiện', 'chết', 'tim', 'hoa', 'bảo', 'ngọc', 'trợ', 'trung', 'khóc', 'ngất', 'ôm', 'chặt', 'gia', 'đình', 'thân', 'tcowmkp8ilzcm', 'hồi', 'xưa', 'trời', 'xong', 'chôn', 'khui', '54', 'tộc', 'chui', 'mtpentofficial', 'đn', 'tuyệt', 'vời', 'hn', 'hcm', 'kimmiie525', '0xc1887576bc95b61a924123ef67dedb12568738e1', 'ae', 'ung', 'sin', 'bnb', 'tcotmzguwzdvo', 'ryannguyenhc', 'sợ', 'crypto', 'đà', 'nẵng', 'mưa', 'to', 'thành', 'lụt', 'thơ', 'gắn', 'liền', 'rời', 'hướng', 'mẹ', 'an', 'tcorfctm3ts8o', 'teeursumett', 'đạo', 'đực', 'giả', 'xog', 'giỏi', 'chăm', 'bò', 'chế', 'độ', 'trị', 'thống', 'thuế', 'tcourejxppum2', 'dàn', 'siêu', 'xe', 'bùn', 'trận', 'tcocrvm2hgv0o', 'tcomqmpwmjvc2', 'fighting', 'stigma', 'vn', 'đồng', 'biên', 'phòng', 'noru', 'biển', 'đông', 'tiến', 'thẳng', 'tỉnh', 'ven', 'nỗi', 'kinh', 'hoàng', 'địa', 'tcoj0xofpbzhb', 'govrondesantis', 'cám', 'ơn', 'chứng', 'kiến', 'cảm', 'mát', 'đau', 'thương', 'khôn', 'lường', 'ra', 'chia', 'sẻ', 'cầu', 'nguyện', 'tất', 'lành', 'thăm', 'giới', 'tuần', 'triều', 'tiên', 'liên', 'tiếp', 'phóng', 'lửa', 'tcoadk3a4hhse', 'ta', 'hệ', 'hoài', 'linh', 'tinh', 'thất', 'thu', 'dám', 'đứng', 'tt', '2h', 'gỡ', '500', 'triệu', 'mồi', 'câu', 'trăm', 'hậushowbiz', 'khởi', 'vận', 'kêu', 'gọi', 'đăng', 'tài', 'khoản', 'đổ', 'khúc', 'ruột', 'ngon', 'kẻ', 'chờ', 'súc', 'vật', 'xương', 'máu', 'tconorcsa0pia', 'hiều', 'khổ', 'lụng', 'sửa', 'haizzz', 'ntpa62', 'hy', 'vọng', 'd7grandopeneingxmileapo', 'ngặt', 'mảnh', 'd7grandopeningxmileapo', 'd7thailand', 'onlybez', 'ssiwipha', 'bao', 'quét', 'nhọc', 'nhằn', 'bào', 'chuẩn', 'thông', 'mttqvn', 'lan', 'toả', 'lá', 'rụng', 'tức', 'cảnh', 'sinh', 'tình', 'đm', 'bật', 'gốc', 'đảng', 'lo', 'vấn', 'đề', 'tâm', 'bóng', 'đá', 'xứ', 'ngộ', 'coi', 'quên', 'cmn', 'rét', 'sập', 'tốc', 'mái', 'tcoxdr5nnbptp', 'đội', 'bắn', 'khí', 'tcotrzzopeodq', 'ảnh', 'nề', 'sống', 'cutiepia', 'quyên', 'góp', 'chống', 'chọi', 'zeenunew', 'tcostgrk0ulj3', 'voatiengviet', 'tưởng', 'vui', 'họa', 'bội', 'cộng', 'giàu', 'khốn', 'nạn', 'lật', 'sản', 'impudding', 'btstwt', 'hb1503', 'vs', 'xót', 'lợi', 'dụng', 'nhạy', 'tung', 'xuyên', 'tạc', 'gom', 'vô', 'chặn', 'mì', 'gói', 'bvs', 'phụ', 'nữ', 'minh', 'bạch', 'chiêu', 'trò', 'tcotubwrhjova', 'chút', 'nắng', 'ấm', 'vạn', 'hellohoa', 'tcok0kkxirep6', 'huynamnguyen', 'lái', 'dòng', 'danacryptoc', 'sức', 'ketsana', '2009', '120270', 'mm', 'quảng', 'bình200400', 'ngãi', 'lai', 'kon', 'tum', '400600', 'thừa', 'huế', 'cướp', '163', 'mạng', 'tích', '21000', 'tcon3fu8eq6cp', 'đón', 'khs', 'yêu', 'cố', 'đợt', 'báo', 'lu', 'rùi', 'nhầm', 'chỉnh', 'màu', 'tóc', 'biu', 'nhuộm', 'nâu', 'hong', 'mn', 'kiểu', 'highlight', 'buildjakapan', 'tập', 'viết', 'thư', 'mẫu', 'tcoaejf145qn8', 'ke', 'táp', 'dô', 'mặt', 'ròi', 'hâhhahahahaha', 'đảm', 'lưới', 'điện', 'tcolgwz0wwd7g', 'tcoujzp1hjnlq', 'ad', 'hú', 'thằng', 'bê', 'xiền', 'cửa', 'ổn', 'tcohq2nzhusua', 'lsg', 'trending', 'tweet', 'nhắc', 'chục', 'ngàn', 'retweet', 'dungnguyen242', 'lội', 'đen', 'đấy', 'vẻ', 'cẩn', 'thận', 'ưi', 'giúp', 'biệt', 'khuyên', 'quan', 'sát', 'kiện', 'tiết', 'cập', 'nhật', 'truy', 'nwshouston', 'tcoritsnyjf3m', 'naan0105', 'hàn', 'ko', 'đẹp', 'xanh', 'hộp', 'công', 'thốn', 'tcopnfzsb4qro', 'nóng', 'quốc', '11082022', 'tcozgenbeu5lc', 'través', 'de', 'youtube', 'kích', 'hoạt', 'biện', 'pháp', 'ứng', 'phó', 'khẩn', 'khu', 'vực', 'tcob3rbdrqeex', 'tcozdvrwxzd36', 'dạo', 'buồn', 'bin', 'huhu', 'fanmeeting', 'haloween', 'tổ', 'chức', 'trường', 'cớ', 'khăn', 'vất', 'vả', 'cá', 'nè', 'hoàn', 'kiệm', 'ng', 'tây', 'lý', 'phong', 'phú', 'càn', 'đa', 'khoán', 'kia', 'miễn', 'bụng', 'trungsống', 'cực', 'hơnnăm', 'ns', 'suy', '482022', 'mớ', 'tcoen9yvzqzlg', '382022', 'tcofyxcp854ht', 'youtub', '02082022', 'tcos2eikslx3r', '30072022', 'tcotddkhs7pi4', 'youtu', 'giải', 'fan', 'zxyn', 'ét', 'má', 'emo', 'liệu', 'nhaaaaaa', '27072022', 'tco9mlwipgbxg', 'tcof86l5nr4si', 'quạo', 'tui', 'ghét', 'ghê', 'mệt', 'ngang', '방탄소년단슈가', 'suga', '슈가', 'btssuga', 'シュガ', '26072022', 'tcopws2z6hpak', 'tcokfnlnbu4fz', '20220725', '1402', 'comeback', 'lol', 'phát', 'trực', 'tuyến', 'league', 'of', 'legends', 'nimotv', 'tcogxpmjwalgf', '24072022', 'tco11gq1mjevo', 'nguy', 'dồn', 'dập', 'new', 'tcogkd18fy8xu', 'mua', 'thảm', 'nhiên', 'giá', 'tusach24h', 'tco0pcbbkwach', 'tác', 'phẩm', 'tựa', 'đặc', 'tcoi6alwenjox', '07072022', 'tcot9ijilz0si', 'via', '05072022', 'tcor34dgt3fss', '29062022', 'tco9gfws6pal5', '25062022', 'news', '1913', 'watching', 'now', 'started', 'streaming', '59', 'minutes', 'ago', 'tcozvrus9bexa', 'kaido99vnch', 'republicofvn', 'trẻ', 'non', 'chỗ', 'ban', 'ngành', 'hỗ', 'hàng', 'bố', 'lụm', 'nhẹ', 'tcodxilp71uub', 'đường', 'phố', 'mỹ', 'tô', 'nằm', 'la', 'liệt', 'sâu', 'tcoikrix9hvsz', 'ljoga', 'foi', 'terminei', 'uns', 'trabalhos', 'que', 'tavam', 'parados', 'seu', 'kimtran25053041', 'tụi', 'vu', 'khống', 'cúp', 'hắt', 'hơi', 'sấm', 'chớp', 'tao', 'rắm', 'mày', 'cắp', 'làng', 'tí', 'năng', 'monaco', 'yettocomebts', 'btsproof', 'bts', 'tcoa3ruhgrsj8', 'linhlckt1', 'tượng', 'dự', 'xiao', 'mo', 'tou', 'busted', 'darklord', 'noooooooooooo', 'tcoqabifjdgxu', 'ghẻ', 'ngừng', 'trc', 'hai', 'đơn', 'giản', 'ntn', 'leak', 'cmt', 'cap', 'màn', 'thoi', 'thóp', 'đâm', 'triển', 'mô', 'máy', 'sạt', 'lở', 'tcozcmbh3wf8l', 'độc', 'mỏm', 'núi', 'khuất', 'phục', 'tcoz4y3unfbzm', 'tcoq3lonbkaxh', 'tcoaweppso4qm', 'tcol0sgmejhbf', 'tcoc0ec3uqsow', 'tcofcgw6mdmfy', 'tco18ufalsb3j', 'tcondiottzari', 'tcou0zpnkotya', 'cung', 'mời', 'tham', 'khảo', 'tcoknp3jpejhk', 'tco5daljeg00w', 'clonenguyen', 'sekiranft', 'thebunnybuddies', 'kenny', 'nãy', 'chóng', 'dope061313', 'gatekeeping', 'method', 'bây', 'cầy', 'nhòm', 'ngó', 'hiuhiu', 'butter', 'btsbutter', 'chúa', 'vầng', 'thể', 'trôi', 'tảng', 'đức', 'vững', 'ngài', 'mathiơ', '724', 'ngoan', 'tcodew4kx2ksl', 'fred08oficial', 'chien', 'đên', 'nam', 'quỹ', 'khuyết', 'tật', 'hảo', 'đỡ', 'un', 'hợp', 'chánh', 'lãng', 'phí', 'sách', 'lược', 'loại', 'bạn', 'ái', 'hoả', 'hoạn', 'suốt', 'bách', 'vườn', 'cam', 'bưởi', 'tcolq0bxwjrl6', 'bbcvietnamese', 'xả', 'súng', 'hét', 'ngôn', 'viên', 'giao', 'iran', 'saeed', 'khatibzadeh', 'sắc', 'phủ', 'tcorawdjzoxsu', 'jungkoo36', 'mng', 'vote', 'with', 'luv', 'army', 'dụm', 'nguyên', 'nhũng', 'tcobzav6eys7p', 'phân', 'oằn', 'ưu', 'covid', 'đối', 'tả', 'tcovix2d0e27l', 'trục', 'diện', 'án', 'tcorzfbbyzjy7', 'tranxuandinh', 'baohiemruiro', 'baohiemxeoto', 'insuranceclaims', 'tcogtyxgrajkf', 'tôm', 'kìa', 'tội', 'phạm', 'tco5evjph83tl', 'hồ', 'tiêu', 'tcou8i6fyewww', 'dái', 'chim', 'đỹ', 'sài', 'hút', 'phan', 'trạch', 'huy', 'phương', 'châm', 'tcobonbcl1elt', 'ngta', 'dầm', 'thấm', 'thúi', 'nội', 'ceo', 'yg', 'nhởn', 'nhơ', 'giỡn', 'nết', 'bả', 'treat', 'lisa', 'equally', 'befairtolisa', 'tcoyupprpvx21', 'tố', 'giác', '2020', 'cục', 'kiểm', 'tra', 'xác', 'tcogey3ynjuex', 'fic', 'đứa', 'ngây', 'ngô', 'tcoowxooernoh', 'hoạ', 'vaccine', 'tàu', 'chất', 'tco6dxesf9hi4', 'mysticalblade', 'faker', 'damwon', 'cài', 'sg', 'chạy', 'gìn', 'khỏe', 'hiểm', 'thủ', 'check', 'tcojy8ev6zdjo', 'chunnieetwt', 'mauuuu', 'trừ', 'cổ', 'suý', 'anti', 'chửi', 'bới', 'khịa', 'tú', 'trù', 'sở', 'lập', 'réo', 'tối', 'sầm', 'conson', 'bjo', 'hic', 'tramkhonggianso0', 'vucattuong', 'tcoli9miocklz', 'đùng', 'chán', 'gulfkanawut', 'sulwhasoolivexgulf', 'đám', 'showbiz', 'hỏng', 'kiếm', 'tù', 'mọt', 'gông', 'kê', 'éo', 'nghệ', 'sĩ', 'wtf', 'chủ', 'trương', 'tcoxohrzezcfv', 'justfortwicevn', 'once', 'we', 'for', 'twice', 'at', 'the', 'breaktudoawards', '2021', 'votetwiceonbreaktudo', 'jypetwice', 'thoamaru', 'dắt', 'mũi', 'nightmare', 'hqua', 'cà', 'đống', 'miệng', 'não', 'cno', 'toxic', 'lỗi', 'túi', 'sơ', 'tế', 'tcovmslqsocwn', 'mộng', 'giấc', 'mơ', 'chi', 'tco8ujiivrp6q', 'lh', '0909087114', 'tcoztcfhgalvv', 'migiimybay10', 'ẻm', 'tục', 'lụy', 'vội', 'vàng', 'thử', 'trì', 'hoản', 'định', 'tử', 'alo', 'tổng', 'đài', '114', 'bongbayc', 'thở', 'zôi', 'cụ', 'viện', 'khoa', 'nai', 'tcojdlylrhunn', 'sẵn', 'sàng', 'covid19', 'sưu', 'phổi', 'tcozgerzrruxe', 'nghiêm', '63', 'ca', 'nhiễm', 'vắng', 'tiếng', 'ouchanhubi', 'chan', 'khen', 'nngoc210', 'xi', 'tcojtrsdnhkxw', 'nguyenduytai18', 'bs', 'yta', 'dc', 'mịa', 'uống', 'soát', 'hanbin', 'bad', 'boy', 'gấp', 'tcoazzhmkp8ez', 'nghỉ', 'tết', '2023', '3041', 'tcowavrxbeokz', 'bé', 'vụ', 'trai', 'hóc', 'hạt', 'bí', 'mồng', 'nhi', 'chẩn', 'đoán', 'kịp', 'kết', 'tet', 'benhviensannhiquangngai', 'tcowivxdvhqjd', '2712023', 'mùng', 'tá', 'loa', 'cẩu', 'thả', 'soi', 'mung', '23g', 'chở', 'về', 'tcouynux2e6ap', 'phông', 'chữ', 'dở', 'mắc', 'miếng', 'bánh', 'chưng', 'họng', 'design', '30', 'phút', 'đào', 'tcoyt5vonh7ud', 'itsnotthatbadok', 'lỡ', 'chimai101064', 'tạm', 'serenaly2468', 'đợi', 'đt', 'nhá', 'nhập', 'dịp', 'viêm', 'tụy', 'bia', 'rượu', 'tcodfhheljntd', 'tcokavffkkzgj', '0125tin', '276', 'lạnh', '24', '476', 'chuyến', 'bay', 'sân', 'jeju', 'hủy', 'hànquốc', 'ngườinướcngoài', 'tco1umapzfueb', 'quý', 'mão', '311', 'khám', 'pháo', 'nổ', 'ký', 'tcozfove46ekm', 'tcolmu9afxhfq', 'tcopax3cbzr4j', 'nguoi', 'viet', 'online', 'futacb614', 'đỉnh', 'ngoái', 'đọc', 'ao3', 'lạy', 'cmnl', 'kphai', 'thức', 'tôn', 'giáo', 'main', 'phép', 'thuật', 'hadu19941', 'sẳn', 'lun', 'sml', 'già', 'dê', 'đo', 'tồi', 'vãi', 'đéo', 'chân', 'duybnh61157516', 'ui', 'đit', '1056', 'tương', 'đương', '7h', 'tcooa16yrjtbj', 'mynameisnanon', 'tcobvge4iorbf', 'shines', 'in', 'riyadh', 'hà', 'tcoarjcle0hkt', 'icc', '28', 'nô', 'nức', 'sum', 'vầy', 'cáu', '14', 'quân', 'lầm', 'hạnh', 'nyc', 'mặc', 'happi', 'tcouunfugsjbx', 'phận', 'xã', 'tòng', 'đậu', 'phanh', 'va', 'chạm', 'tông', 'taluy', 'nghiêng', 'vong', '20', 'xegiườngnằm', 'quốclộ6', 'hòabình', 'mấtphanh', 'tconuu77lgwan', 'hongdiu51920262', 'anhs9989', 'thiểu', 'treo', '119', 'petestattoo', 'chừng', 'font', 'poster', 'gợi', 'đồ', 'biblebuild', 'buildbuilddd', 'biblesumett', 'biblewichapas', 'tco3vzvku9yzv', 'đột', 'quỵ', 'tcomnob8vqju8', 'nhâm', 'dần', 'thúc', '27', 'chạp', 'bv', 'mổ', 'tco0hzcgqmrx8', 'ari3306', 'aaaaaaa', 'xinh', 'xỉu', 'need', 'nhu', 'tcog2oikhfzrf', 'tcoepaboyigxu', 'vĩa', 'hè', '1312023', 'đêm', 'unv', 'tcoduzrmuszpo', 'xử', 'trí', 'chấn', 'mắt', 'medicine', 'tco0kx4h1fuzz', 'slideshare', 'dandenduatin', 'cấn', 'hông', 'clip', 'khiên', 'đèn', 'còi', 'thần', 'thượng', 'hải', 'shanghai', '13012023', 'bênh', 'tcowowyhcq202', 'méo', 'huhuhuhu', 'tcodmhk32ojae', 'kèm', 'tư', '192016ttbyt', '2016', 'trưởng', '0933', '873', 'zalocall', '878', 'tcoetouun5n6d', 'tcom6iyvoanop', 'tận', 'bô', 'nha', 'ma', 'lechauphuongtu', 'gái', 'dang', 'lủ', 'quyền', 'lực', 'tắt', 'dư', 'luận', 'chó', '17schiizu', 'tankhun', 'coá', 'logic', 'lẹ', 'klang', 'lak', 'quớ', 'cutiepie2youep2', 'tcozzlpemfcgx', '2212', 'hát', 'nổi', 'kệ', 'kéo', 'đập', 'phá', 'karaoke', 'vấnnạn', 'hotnews', 'tcosz73i9ih7o', 'giáp', 'tcoowdeoeys0e', 'xấu', 'huflit', 'thiếtclip', 'tcosehslrxwdj', 'lemonadeemak', 'ngu', 'dkm', 'video', 'âm', 'trộm', '2018', 'gò', 'vấp', 'vkl', 'deeznusrz', 'shilorathena', 'địn', 'thoại', 'farewell', 'concept', 'photo', 'txtfarewell', 'temptation', 'tomorrowxtogether', 'txtmembers', 'txtbighit', 'tcopdqgr7o6f1', 'camera', 'kính', 'km', 'tcoqrxckalehe', 'lắp', 'vệ', 'tcoafyscqpbaf', 'úc', 'châu', '10am', '17012023', 'kiệt', 'tco30zibvd5xd', 'xảy', 'lãnh', 'nông', 'nghiệp', 'tconcss7zmubl', 'tcorrljciwpuh', 'melbourne', 'lạ', 'áo', 'và', 'củi', 'nảy', 'này', 'betweenusep8', 'mỏ', 'than', 'trầm', 'gas', 'hữu', 'vv', 'tồn', 'biến', 'đổi', 'amp', 'thuyền', 'noe', 'hỏa', 'tuệ', 'đấu', 'tco7ho3f1mrar', 'haunguyen201293', 'c0mmand02022', 'dioxin', 'rải', 'thuốc', 'cỏ', 'ràng', 'đạn', 'phốt', 'trắng', 'mục', 'đích', 'giết', 'cư', 'ác', 'chùm', 'tcobjadcs4g6t', 'su34', 'nga', 'russia', 'hạ', 'ukraine', 'phi', 'nhảy', 'thoát', 'tcoipx44e8k5l', 'bending', 'beam', 'load', 'cell', 'atex', 'mp', '77250kg', 'c3mre', 'tco6tlalmku72', 'loadcellmp77250kgc3mre', 'mp77250kgc3mr', 'mp77mp77250kgc3mre', 'sartoriusminebeaintecloadcellexatexzone01', 'cambienluccansanbonpheusilobangtaichongrung', '77200kg', 'tcokwibvuizaz', 'loadcellmp77200kgc3mre', 'mp77200kgc3mr', 'mp77mp77200kgc3mre', 'dãy', 'quán', 'bốc', 'rực', 'tcoyadt4bufqh', '7750kg', 'tcovlju4tnwby', 'loadcell', 'ex', 'mp7750kgc3mre', 'mp7750kgc3mr', 'mp77', 'sartoriusminebeaintec', 'cambienluccansanbonpheusilobangtaichongrungzone0', 'honghanh69x', 'rùng', 'lắc', '7720kg', 'tcolrasq98awp', 'mp7720kgc3mre', 'mp7720kgc3mr', 'otp', 'đu', 'lề', 'hốt', 'amazon', 'kỷ', 'lục', 'tcovx2o4why26', 'thinng90971397', 'rung', 'bds', 'giở', '12', 'đem', 'loạt', '29112022', 'apo', 'ig', 'story', 'update', 'tcordyxtltfuq', 'chụp', 'bầu', 'góc', 'suối', 'giãn', 'nnattawin1', 'nnattawin', 'apocolleagues', 'tcoyl2ajjedxc', 'ngũ', 'khò', 'stan', 'cx', 'mẽ', 'antidom', 'take', 'into', 'account', 'nhiệt', 'pullover', 'khoác', 'cg', 'no', 'tươi', 'he', 'debut', 'đắt', '16h30', 'đtc', 'bạo', 'tcow8phozhqt7', 'mocen', 'suất', 'nhuận', 'rủi', 'ro', 'vàoemail', 'apptudong', 'gmailcom', 'app', 'lệnh', 'chép', 'ngủ', 'danh', 'top', 'lãi', 'btc', 'ryan', 'tcosacanf2wki', 'enzo', 'fernandez', 'chelsea', 'trở', 'hạng', 'arsenal', 'mộ', 'jorginho', 'man', 'utd', 'marcel', 'sabitzer', 'thay', 'eriksen', 'thươn', 'tcot1gzrblikx', 'nhượng', 'căng', 'clb', 'tầng', 'kì', 'ha', 'xna', 'chấp', 'tcotntcygl7ia', 'xóm', 'khét', 'chếtmột', 'hứa', 'pollypastel', 'boc', 'ngục', 'tcokjgo1ua85h', 'cenc', '61', 'richter', '49', '301', 'bắc', 'aksu', 'huyện', 'shaya', 'nhĩ', 'tân', 'cương', 'tcokacdd7xrrn', 'sound', 'vcl', 'xíu', 'đóng', 'long', 'lanh', 'ngấn', 'lệ', 'run', 'rẩy', 'tcottflckp5ne', 'danchoidomains', 'vé', 'organic', 'tuồn', 'chợ', 'seller', 'deal', 'concert', '8x', '9x', 'hả', 'cọc', 'tcovmf1wp4zha', 'info', '230128', 'name', 'chapter', 'melon', '100', 'sugar', 'rush', 'ride', 'devil', 'by', 'window', 'tinnitus', 'neverland', 'happy', 'fools', 'ft', 'leray', 'txt', 'tcoasuuh3ouep', 'azgeopolitics', 'áp', 'chư', 'cãi', 'chiếm', 'mcoprap', 'chaeng', 'california', 'tcoxmh8v05n6z', 'bitcoin', 'tradecoin', 'vietnam', 'nguyen', 'macroreus', 'hmb', 'ventures', '32', 'nghìn', 'dõi', 'trade', 'order', 'tcosh9tldadem', 'nhạc', 'neverletmegoseriesep7', 'hiệu', 'batdongsan', 'dautubatdongsan', 'datnen', 'kinhnghiemdautu', 'batdongsangiare', 'nhadat', 'tcomkgf3rbcka', 'jennie', 'chanel', 'haute', 'couture', 'show', 'jennieatchanelhautecouture', 'jenniexchanelcouturess23', '4h', 'chiều', '제니', 'blackpink', 'tcovwzo0rgqkg', 'dung', 'hashtag', 'nómột', 'trang', 'may', 'mắn', 'đốt', 'thụy', 'điển', 'quran', 'tcojcnbjkskmg', 'khi', 'thang', 'tcoxii0ofpo1w', 'hotel', 'eelectronic', 'safe', 'best', 'home', 'safes', 'factory', 'authentication', 'lưu', 'trữ', 'tcopv4qj93md9', 'tcoveluu0xkfz', 'evan', 'meme', 'ibispaintx', 'vie', 'oskar', 'eng', 'police', 'have', 'you', 'investigated', 'cause', 'fire', 'yet', 'nt', 'found', 'it', 'is', 'also', 'tcolj1hicnbte', 'th61678340nguyn', '201', 'tán', 'bùng', 'đô', 'seoul', 'chuột', 'chay', 'tintuc', 'worldnews', 'tcoy7ugtk3tza', 'đệm', 'tòa', 'demhoi', 'demhoicuuho', 'đệmcứuhộ', 'đệmhơicứuhộ', 'tcorppn8gpwfb', 'tcol1vvc13ohy', 'room', 'laptop', 'manufacturers', 'suppliers', 'and', 'exporters', 'tcokhupwsakn1', 'tco5td6grhawq', 'store', 'manufacturer', 'tcop2s1wg4b2o', 'tco1mnafywr4z', 'electronic', 'hight', 'quanlity', 'tconaduk7ppt2', 'tcork9s9zat4w', 'cape', 'fiolent', 'sevastopol', 'crimea', '250', 'xít', 'xâm', 'deposit', 'box', 'tủ', 'di', 'tcoqa3zdj1gxy', 'tconxnvq6jovd', 'kherson', 'vũ', 'therrmite', '3000', 'rộng', 'tcoskf8hmgwem', 'trúc', 'quy', 'chữa', 'nâng', 'chẽ', 'ngăn', 'tiếc', 'trendsviet', 'khai', 'cụm', 'hoán', 'vị', 'đán', 'bóc', 'xoăn', 'tcocog8fg58ot', 'lầu', 'hòa', 'dĩ', 'dt', '83m', 'thổ', '70m', '4m', 'nhựa', '8m', 'buôn', 'go', '0979', '200', '225', '0903', '710', '173', 'thái', 'tcob5zhejtrwh', 'nhấn', 'chìm', 'sòng', 'bạc', 'grand', 'diamond', 'city', 'lancampuchia', 'tcozlljqu1f9r', 'tconjhbxwyhqg', 'view', 'sông', 'khẳng', 'thiem', 'zeit', 'river', 'săn', 'ghép', 'bất', 'trọn', 'gòn', '0982303868', '0902232268', 'tcorxb7p1nfmt', 'steel', 'cabinets', 'két', 'sắt', 'uy', 'tín', 'hãng', 'rẻ', 'tcowr7vdxtmza', 'tcoi0axj6w4fy', 'https', 'trụ', 'd65', 'thiết', 'quyết', 'trạng', 'hụt', 'anphuthanh', 'tcodgre3vr9f6', 'ninh', 'dưỡng', 'lão', 'kemerovo', 'russiaukrainewar', 'russiaisaterroriststate', 'tcorlhvdoydpi', 'diệt', 'putin', 'tcolawdwrhiyx', 'rogozin', 'sạn', 'lưng', 'đe', 'dọa', 'vết', 'vladivostok', '1km', 'khói', 'dày', 'kho', 'thiêu', 'rụi', 'mại', 'tcoakpadxseiu', 'fiorellaisabelm', 'khủng', 'xoá', 'sổ', 'francisscarr', 'điên', 'cười', 'ích', 'kỉ', 'tịch', 'cận', 'pakistan', 'arif', 'alvi', 'peshawar', 'tcotfa2rsmwdm', 'elonmusk', 'co', 'ám', 'boi', 'đàn', 'dungyeefong1', 'trải', 'quỷ', 'pha', 'diễn', 'hk', 'đả', 'đảo', '555', 'kpworldtourhongkongd2', 'yến', 'âu', 'bom', 'mtgpmn', '2561965', 'tcoxnpteofrgf', 'hathn97798005', 'hi', 'chí', 'mattroicon9', 'acc', 'poi', 'tw', 'blackmail', 'full', 'kaka', 'nhẫn', 'nhịn', 'bổ', 'sứ', 'lynne', 'tracy', 'moscow', 'hô', 'vang', 'pu', 'ngược', 'ngạo', 'canada', 'bày', 'tỏ', 'pmc', 'wagner', 'xóa', 'hqv', 'tco0okrzb6jia', 'seunyien', '8cm', 'thui', 'độn', 'giày', 'cỡ', 'bth', 'đôi', 'vietanh7777', 'đỉ', 'bưng', 'bú', 'đít', 'xàm', 'lồn', 'vc', 'chả', 'lẽ', 'yếu', 'khinh', 'phật', 'thờ', 'mã', 'hóa', 'sư', 'tcowfbmcotbcr', 'mê', 'tq', 'adaliadayy', '112022', 'nhắn', 'block', 'chẳng', 'dàng', 'tha', 'quocdai53740949', 'pnguyen24391613', 'dinhnam16554202', 'đòi', 'kí', 'ghi', 'budapest', 'can', 'thiệp', 'dậy', 'đuổi', 'ua', '2013', 'bù', 'yanukovych', 'uk', 'loạn', 'hằng', 'kytkytkytkytkyt', 'kpru', 'rồ', 'lunaoivn', 'billchen072187', 'dzle77', 'thunguyen1711', 'mĩ', 'tàn', 'khốc', 'thực', 'ct', 'geneve', 'lemonadeeee', 'hoabantrang1010', 'armymilian', 'hazelwbi', 'karbuildiful', 'care', 'fake', 'dcm', 'tallbarfin', 'dạy', 'đắn', 'motlahai', 'chang', 'vịt', 'trước', '75', 'vào', 'amen', 'nguyetanh1515', 'nan', 'chặng', 'sỏi', 'nhiêu', 'nếm', 'phất', 'ức', 'chatgtp', 'tcooab9o1gs7x', 'coran', 'tcowqnritt0dm', 'tcoq62exuwcgs', 'jennguy74540744', 'thaihoathai', 'chuyên', 'nuôi', 'cào', 'phím', 'nhốt', 'belarus', 'heo', 'cc', 'rachelbiyin', 'bi', 'ci', 'nôn', 'repmtg', 'bang', 'binh', 'trấn', 'antifa', 'blm', 'mrandyngo', 'tám', 'jerusalem', 'rt', 'world', 'tcordnijxvoed', 'hiền', 'irael', 'hung', 'đai', 'palestinewhy', 'lutsnguynvni1', 'lâm', 'phản', 'gián', 'lú', 'đụng', 'bắt', 'cóc', 'thú', 'né', 'điệp', 'giặc', 'trái', 'build', 'quấy', 'rối', 'nsn', 'dối', 'buildjakapansupport', 'welovebuild', 'cđ', 'spam', 'giãy', 'đành', 'đạch', 'đụ', 'me', 'đĩ', 'xách', 'cl', 'dm', 'trốn', 'đùa', 'hoại', 'mãi', 'qran', 'tcopkqrhxre0v', 'xôi', 'somalia', 'biden', 'tcol39sq7o1qp', 'tcodkpnw18guq', 'quen', '113', 'nghiệm', 'up', 'mood', 'rốt', 'trãi', 'lằn', 'ranh', 'đỏ', 'mừng', 'innasovsun', 'dangviettan', 'khảm', 'tco5p193abppk', 'philippines', 'cường', 'khả', 'thăng', 'tcobwxfynhnfo', 'philippinesairforce', 'counterinsurgency', 'antiterrorism', 'attackhelicopters', 'indopacific', 'revmaxxing', 'nato', 'tặc', 'hái', 'lượm', 'loài', 'vượn', 'hang', 'phối', 'vạ', 'binladen', 'aqeda', 'taliban', 'cựu', 'fbi', 'tcowsmpxskmue', 'tonanh1000', 'vietlist', 'mìn', 'dzu', 'sô', 'lương', 'emergencydeclaration', 'đoạn', '501', 'kìm', 'thề', 'thác', 'hấp', 'gòi', 'tcovezo6j3kyo', 'bơ', 'cut', 'da', 'tcosovndrfhla', 'realdonaldtrump', 'tuyên', 'khiêng', 'cản', 'repmattgaetz', 'repboebert', '38', 'nghi', 'tcojpfz905j2z', 'dạng', 'vi', 'zpoimyzpoimy', 'bồ', 'instagram', 'hồng', 'kông', 'tcoe5iqnyqznp', 'nazi', 'đỉa', 'vôi', 'hỏ', 'tống', 'barackobama', 'tomfitton', 'dineshdsouza', 'karilake', 'mtaibbi', 'speakermccarthy', 'donaldjtrumpjr', 'doj', 'twitter', 'duyệt', 'nghị', 'energodar', 'cất', 'ukrainerussiawar', 'ukraineunderattack', 'tcolfnvqfrtaa', 'mahbbipunnie', 'amirabdolahian', 'lhq', 'đỗ', '01', 'đoàn', 'sentedcruz', 'dcdraino', 'che', 'antia', 'gop', 'traicovo12', 'fahrettinaltay', 'vòng', 'dnipro', 'mài', 'dao', 'cs', '875', 'jimin', 'dior', 'fame', 'mến', 'buộc', 'rắn', 'fenomeno291182', 'phongviensaigon', 'hôn', 'đắp', 'biểu', 'tb', 'cải', 'gk', 'cũngbk', 'phun', 'trào', 'jacinda', 'tướng', 'hào', 'rfivi', 'ngấm', 'ngầm', 'ucraina', 'chém', 'don', 'bass', 'rởm', 'phmthan09132127', '90', 'tần', 'sai', 'trâu', 'thuê', 'soledar', 'prigozhin', 'mưu', 'cắt', 'ukrainiansquad', 'vietnamese', 'nnpu9497', 'nhấp', 'back', 'thầm', 'nhatkyyeunuoc', 'vữa', 'măng', 'rớt', 'trúng', 'hù', 'hạm', 'tộiputin', 'chủng', 'tcoisulpqajpk', 'sót', 'tcopw8nvncyqt', 'thphngng10', 'no04leee', 'môn', 'rusko', 'je', 'teroristický', 'stát', 'kremlin', 'tcos585yzhbhs', 'quần', 'nởn', 'vởn', 'chên', 'hừm', 'hừ', 'trieustel', 'tcoxxm81m9uul', 'rác', 'ly', 'niễng', 'tong', 'kiếp', 'hắn', 'lốp', 'nguyễn', 'lém', 'thai', 'xuân', 'phúc', 'loan', 'bốmấy', 'dọn', 'dẹp', 'nát', 'chứa', 'dược', 'dniprorudne', 'zaporozhye', 'tcoxdllszpx1n', 'tcol0gh7ehrwq', 'spotlight', 'sỏl', 'ápt', 'tconorpzyamx6', 'zelenskyyua', 'bacholanhat', 'country', 'terror', 'росія', 'країна', 'терору', 'russiaisateroriststate', 'tconibvn3qnjn', 'rợ', '111', 'chấm', 'dứt', 'vay', 'doạ', 'tcoykzcxlbry2', 'darthputinkgb', 'khôi', 'xô', 'đế', 'chang23489', 'viếng', 'tang', 'lễ', '44', 'trình', 'luật', 'bake', 'cứt', 'feed', 'tl', 'tràn', 'content', 'gore', '18', 'azovsouth', 'cheo', 'lpr', 'lugansk', 'tcooysmfrrlm1', 'bakhmut', 'syria', 'vnews', 'germany', 'america', 'tcoplrqf4nbgn', 'onlytiw', 'bbtk1991', 'giai', 'nc', 'móc', 'mỉa', 'vịn', 'mạt', 'bh', 'đâuclm', 'altcoin', 'usdt', 'lướt', 'nhở', 'tcorw7l1hbo7w', 'tcoeztyi4zbjp', 'trùm', 'tcorc3kqxh8qw', 'tcorjmzm5zlzg', 'tcoe2ysrdvqbs', 'hanbincloud', 'blueskytpst', 'email', 'sn', 'cty', 'đính', 'bàn', 'côn', 'mxh', 'jinnoodle8964', 'chối', 'quậy', '011615andrii', 'trollstoy88', 'lọ', 'muối', 'iraq', 'gwitch', 'sứa', 'act', 'cool', 'thuctripham', 'cõng', 'cắn', 'gà', 'ninangnctzen', 'zl', 'bọc', 'thép', 'trạm', 'giáng', 'russiaisaterroiststate', 'tcoeqph6mgtpo', 'bisousjenjaem', 'dotoricotton', 'jenoleeader', 'noti', 'vỡ', 'kịch', 'thua', 'nỗ', 'bại', 'gobbledeeznuttz', 'thoả', 'hoà', 'label', 'elite', 'iranian', 'unit', 'terrorist', 'group', 'telegraph', 'tcofaupms6vjf', 'cia', 'mi', 'gắng', 'đủi', 'tcobd0t9sb5sb', 'ẩn', 'nấp', 'tcoqqpalmyy5x', 'bờ', 'ngà', 'cnnbrk', 'zelensky', 'nhânnguoi', 'gin', 'picassoua', 'bu', 'odayvihanbin', 'iland', 'interf', 'hannies', 'werserve', 'song', 'tts', 'huyền', '2023ny', 'hybé', '102', 'tn', 'hẻ', 'tcozunllgixca', 'phongvientudo', 'cuốc', 'ngụy', 'đè', 'tco3r5cipdk3q', 'cáo', 'whatsapp', 'trích', 'kyiv', 'tendar', 'butin', 'tcodnqglyfird', 'ukraina', 'fdpmafg', 'tỉ', 'tái', 'nhắm', 'realvaultteam6', 'sergiykyslytsya', 'khùng', 'schudeldavid', 'lốc', 'xoáy', '3463547459', 'khiếu', 'nại', 'kỹ', 'chiêm', 'điềm', 'tco6aqbdtc5sa', 'conneaut', 'snow', '25k', 'purdunkin', 'conspiracy', 'myths', 'live', 'stream', 'снежный', 'человек', 'скунсовая', 'обезьяна', 'yowie', '윈드서핑', 'truk', 'oleng', 'tcohbcssqwis2', 'perfect', 'race', 'longer', 'be', 'trusted', 'uap', 'ufo', 'uso', 'crash', 'site', 'bnw', '24k', 'views', 'streamed', 'hours', 'tcoqllotxq0s6', 'khiếp', 'tia', 'sét', 'ập', 'tco8s0qyska3f', 'cờ', 'tco66gtau3tqw', 'mevdm2', 'lếu', 'lều', '17083', 'ảnhgirllạnhlùngchất', 'ảnhgirlphố', 'gáixinh', 'gáixinhmiếnđiện', 'tcotsv54qtlp5', 'cẩm', 'nang', 'nghịch', 'tcom7e96jbv85', 'tcorow7zr8wcc', 'quyển', 'tuyết', 'tcoz0atfftkol', 'kim', 'tháp', 'el', 'castillo', 'giận', 'tcoht9fcgvned', 'chichenitza', 'yucatan', 'mexico', 'du', 'ngờ', '27122022', 'tornado', 'tco14k9srt9cu', 'oa', 'tcoqqylzt8yeg', 'relaxing', 'headphones', 'only', 'tcortghksrrjy', 'tcoulkt1cwwgm', 'tcoloziryp6dn', 'kook', 'khoai', 'giòn', 'khum', 'đâuuu', 'tcoyftqwpencu', 'colan1990', 'hanaaa1994', 'vẽ', 'giấy', 'pp', 'vijùa', 'khổng', 'lồ', 'tứ', 'cup', 'tcobr2wsjln4i', 'tco04vrxjc5io', 'kanakurito', 'parents', 'địch', 'child', 'vuốt', 'tcobenplq6ghs', '1012', 'mandous', 'bốn', 'tamil', 'nadu', 'ấn', 'tcoaxqnxg0tpa', 'tcoqz6thtd0vo', 'qatar', 'tcotdnp7evf0t', 'ướp', 'bó', 'gọn', 'lữa', 'xếp', 'mộc', 'sửng', 'sốt', 'tco9kv787r2g9', 'khoảnh', 'viễn', 'tcofovy5bok8a', 'hứng', 'tcogyzjtmrif6', 'katieloveshubii', 'tempest', 'mai', 'khấu', 'rồng', 'hóng', 'đcj', 'meonguyen2712', 'thù', 'kế', 'rãi', 'cold', 'vặt', 'xiên', 'xúc', 'xích', 'cua', 'trộn', 'g9ydv1zsa3', 'tco3nmm4cctqh', 'lông', 'xù', 'mijia', 'xiaomi', 'lưỡi', 'bén', 'tcoaaij6ena9x', '511', 'mét', 'texas', 'oklahoma', 'lamar', '50', 'hư', 'tcop6hpgrjpdw', 'tcozbafractcg', 'tco2wggijxhxm', 'thèm', 'cutiedmdinjapand7', 'tcoep08mpwyvb', 'khải', 'tiktoker', '10x', 'thính', 'tcorv54tcd9mm', 'tcocjwk760y72', 'tcoctfghvf5xl', 'tcowvo4izdi5t', 'tcotbn1s0mx7d', 'hajjqkquwwj', 'press', 'herald', 'tcokvclpay4w3', 'tcowdqqydz9t4', 'tan', 'tiệm', 'ròng', 'tweets', 'voh', 'radio', 'tinnhanh', 'tinnong', 'thoisu', 'tcoxdyybz7mjf', 'lê', 'niên', 'tcodquyngzkyh', 'moto', 'bung', 'rít', 'sương', 'trịnay', 'tcofkluppxrvy', '16h', '279', 'gio', 'cối', 'tcohfb07ifwu4', 'tcoyeurhyhbe8', 'quật', 'tcojaj4ymsuhh', 'tcoyf6w0io5kf', 'tco6rahzrtmai', 'zi', '320kmg', 'để', 'chịu', 'tcokaltj0zrtr', 'trách', 'nhiệm', 'trừng', 'phạt', 'coinbase', 'makerdao', 'chương', 'thưởng', 'tcookufmvlbkx', 'kiên', 'giang', 'tcod5ambs4ibf', 'đồi', 'xói', 'mòn', 'đới', 'giông', 'cát', 'beautriumfargerxmileapo', 'giây', 'toi', '090322', 'tcolwuprf7c3r', 'mướn', 'qá', 'đì', 'chây', 'tag', 'lgi', 'hatran712178', 'haucungcuabp', 'vortex', 'voting', 'pinkvenom', 'as', 'my', 'choice', 'lượt', 'zalopay', 'xoay', 'quà', 'ẵm', '888888đ', 'voucher', 'ví', 'tcoo51txuny2q', 'njm', 'kungoblin', 'tcochjrphjclg', 'haha', 'tạnh', 'mù', 'tcomdgpooq6rp', 'there', 'was', 'warning', 'but', 'did', 'tablet', 'bảng', 'continental', 'tcomtjtsigsvg', 'phiyen1988', 'ah', 'món', 'bụi', 'bluestone', 'vcb8067', 'lọc', 'hepa', 'tcosg5q8bp9yt', 'nhấc', 'tconoqqrxsyqo', 'tcoin9onlfkx0', 'thien3di', 'vtcnews', 'lt', 'cdata', 'múa', 'minnesota', 'hoảng', 'gt', 'tcokf2vda4h0r', 'funxrin', 'khô', 'jujubes', 'snack', 'tcompcuvcymwo', '26', 'tcotzqgrb9xsp', 'ehime', '3a90w', 'tcozfko7qvz2r', 'tco5ohofjjjfe', 'daesung', 'chaba', 'tcohe9ep3ml92', 'drone', 'that', 'fly', 'wind', 'speeds', 'tcotwif2zogir', 'tcojioxvgv0cu', 'tcorpfcgizdlx', 'tròn', 'iu', 'darari', 'born', 'love', 'bối', 'yedam', 'đỉnhh', 'tcouxbjuesc2q', 'tp', 'sơn', 'chập', 'xé', 'toạc', 'tco6kbaa0edgp', 'hũ', 'monvegan', 'french', 'touch', '0888898281', 'website', 'tcofbnzkz46wl', 'tcoso4vqa8tou', 'fanpage', 'tcofjri21jmtb', 'vegetarian', 'healthy', 'thucduong', 'songkhoe', 'végétarien', 'macrobiotique', 'tcoamthvx2qcb', 'tcor5bpofhtxt', 'dội', 'tcolgqt2dehvt', 'sầu', 'tcoshsma97mfe', 'tcoujwbn9herc', 'thuylinhh2311', 'mtvlakpopbts', 'mtvlahitmyuniverse', 'this', 'year', 'premiosmtvmiaw', 'blockchannelvn', 'quang', 'chicago', 'tcocfkc197lgp', 'gigga', 'xúm', 'chọc', 'là', 'tonado', 'hia', 'mỏng', 'manh', 'khánh', 'tco8gtg2hvk4e', 'tcofjwvyv0jru', 'tcojothbec5se', 'atthaphanphunsawat', 'destaquesérieasiática', 'secawards', 'ray', 'át', 'mu', 'hãm', 'loz', 'đê', 'ảo', 'tẩy', 'hater', 'chòi', 'rách', 'idea', 'page', 'núp', 'lùm', 'cp', 'ẳng', 'yakecan', 'đoan', 'đẩy', '40c', 'hiếm', 'uruguay', 'brazil', 'tco4wa0zyj1ue', '40', 'tcovfswubsn8r', 'bong', 'tco1jpv0i1vst', 'paderborn', 'tcoaeczxmho8s', 'michigan', 'doanh', 'gaylord', 'sáu', 'mlinhtng6', 'thổi', '175', 'dông', 'tcop8rpls3iam', 'tcokugwpp4yiq', 'taeyeon', 'lôi', 'nửa', 'noaa', 'tco3jkefuw7ue', 'thuận', 'tco6vpnab2xpd', 'tcoddy7g48xsn', '1000', 'rơi', 'tcocts9vobfwz', 'huống', 'tcog323lhrcih', 'tcoidpc0ubuh7', 'tcoowu9cdax69', 'tcokuicnmow0a', 'tcofbvelaza1m', 'tcoksgkjj6hzh', 'tcoqzfnwk2dgk', 'tcohrpsoke16j', 'papa', 'cluckeria', 'game', 'quản', 'vục', 'mỳ', 'kẹp', 'thịt', 'thơm', 'tcoogjgcq6k4n', 'tcofy5kecrcmn', 'gãy', 'tcoxqiv6jj8sw', 'googlenews', 'honghip25218979', 'trisicabeauty', 'ib', '16cm', 'ngã', 'ầm', 'hiên', 'mẹo', 'tướn', 'tcowiryjouhri', 'waco', 'austin', 'tcofhdyhkhxda', 'web', 'tcox0tkcncgpg', 'kiki', 'tcozwmvflvrrg', '133', 'khơi', 'mau', 'rào', 'tcou5ol9fe10a', 'tcojd1munnr8o', 'tco3xqovstqcz', 'rảnh', 'gớm', 'đểu', 'nd', 'light', 'stick', 'kkkkk', 'tcooa1zvigvxe', 'tcodjtqtzhksu', 'stress', 'dường', 'hẹp', 'pollock', 'tcogdcz96vb7t', 'vòi', 'voirong', 'locxoay', 'mayruaxegiadinh', 'tcoebjrlxh7k3', 'mintstardust', 'ũmg', 'shinytarooo', 'hihi', 'sketchzine', 'tặng', 'brumouss', '172', 'tcopgdjlhkxty', 'tco5byolihk3g', 'tunntwt', 'btsarmy', 'bestfanarmy', 'iheartawards', 'tiktok', 'tco6j9ucq9mvz', 'thí', '21', 'combo', 'x1000', 'pot', 'tcoihpo9ldg98', 'aminniekim', 'bestmusicvideo', 'cốc', 'trà', 'giò', 'ngút', 'chốn', 'bộn', 'bề', 'mây', 'natra', 'tcojqpzih0zja', 'dương', 'tcogfidxw89cw', '33', 'who', 'tpstlasttrailer', 'astormisapproaching', 'tpstgrouptrailer', 'tpstofficial', 'tpsttwt', 'tco9ctufwsdew', 'kkkk', 'astromisapproaching', 'tcojhzxcxz0dh', 'chời', 'tpst', 'tco13th2nrb7n', 'tcomqs9xoubd2', 'tcocfpj1oygm3', 'logo', 'nèiiiiiiiiiiii', '템페스트', 'koreaquesttempest', 'nữa', 'lỗ', 'hổng', 'billboard', 'tcocn6ozrmmxn', 'cupholder', 'kquesttempest', 'rã', 'đam', 'bướm', 'nụ', 'csy', 'msvitaminhubi', 'chắn', 'hng71951294', 'tcove8ys6t4cf', 'roselinnnn', '06dieuthu', 'tco8s0qysjce7', 'xịt', 'gầm', 'rửa', 'cbt', '02', 'bt', 'motor', 'spa', 'tco2ovzaj9dop', 'nma', 'saigon', 'tv', '12142021lốc', 'tco6lrtfz1bql', 'chuỗi', 'rốn', 'tcojylf9j276p', 'tcom6wtm54ntu', 'tco30nlg3mfr8', 'tcogylisaslsc', 'hoang', 'vnexpress', 'tco44oefiquqr', '1412', 'joe', 'tcohiioshfjia', 'tcownnjkgj8lk', 'tcoouwm2lfihv', '88', '74', 'kentucky', '105', 'ap', 'kentuckytornadoes', 'tcoi8ggtrfmd0', 'usa', 'tcoc5dyifyepn', 'đinh', 'tcow1uobn06gd', 'tcoon48queazq', 'chóc', 'tcoieidttcmkp', 'tcotfuyqa4ufu', '80', 'tcocsopfb35zo', 'tcotte5blhna6', 'tcoyvtkli9jxd', 'tcozonrm0hp0j', 'tcorphwiac1lv', 'xế', 'tắm', 'tcohqi36wi4va', '94', 'tcoizw9jtm4wt', 'tcoaipfmowxc0', 'hãi', 'hùng', 'tcoe4ofsqjkjy', 'tcok1zhev0u1l', 'arkansas', 'mississippi', 'illinois', 'tennessee', 'missouri', 'tcopu7jkpcvmw', 'tcotp2w6pn9go', '83', 'tconstk4oqqe0', 'tcosytnhu8wwz', 'gáp', 'tcoot30ev8iqd', 'tcohy5j68ov2b', 'tcob5lh0mk2kw', 'tcoszfe2ajpwy', 'tcovx2jd1amth', 'tcojh8hvgfrlo', 'tcoyx3tyiqws2', '78', '70', 'tcolxwmnjhwsu', 'tcofrslm4lhfi', 'tcoujgio1tyx9', 'mạn', 'abs', 'tcoa7ouxh9a7a', 'tcomjjzvs3mlj', 'tcotbk0a46wxy', 'tornadoes', 'tcoevlbacprp9', 'tơi', 'bời', 'tcohfzuvk78fm', 'tco1srpiddmz8', 'tcoifhhwu2cea', 'borabora1306', 'pay', 'sooah25122007', 'soo', 'tcoowve2sbuai', 'đh', 'pdx', 'idul', 'twoset', 'dấu', 'chuảng', 'liêu', 'tco3kngdsv85p', 'hề', 'tcojmrozikztw', 'chiên', 'lười', 'ánh', 'bias', 'suho', 'sa', 'condicuaanh202', 'toé', 'hồn', 'tcow0gdzwmaxd', 'tcoetsc1r8a86', 'dĩa', 'huông', 'lính', 'fiji', 'tcock4hg8l4li', 'ipdf', 'australiansoldiers', 'cyclones', 'disasterrelief', 'tcowlfgowjyc5', '29102021', 'tco425pqlv762', 'unvtinhbuoisang', 'usnews', 'tiengviet', 'coronavirususa', 'nguoiviet', 'coronavirusoutbreak', 'tcozzosopzsgg', '28102021', 'tcomc9msl4565', 'tcohnshaaf4fn', '27102021', 'tcolnhcymt3ki', 'protests', 'noreaster', 'tcoiz0czhb0yw', '2216', 'tcoqiqnz9jg61', 'tcoe1mmm8mac0', 'dũ', 'tẩm', 'ớt', 'chua', 'tcotu7umnycou', 'bõ', 'urembelb', 'pass', 'đệ', 'vịnh', 'dâng', 'tcocq0fsotmmz', 'tcojswsjmzc3j', '11102021', 'tcoryw44mxuu6', 'tco2ombasb58p', 'nhydecow', 'kanabaraki', 'allabout1127', 'quái', 'hói', 'đớn', 'cơm', 'rainieeunhye', 'kazenokage13', 'rikittaem9393', 'likibaobei', 'mc', 'share', 'kem', 'nugget', 'ngánn', 'tcojscb9yv7pt', 'tco5znqxhb9jb', 'tcoq1mke9ygcs', 'hiến', 'tco6v2tjc1qd9', 'tcoog55uqtz6x', 'cộc', 'zjy', 'gục', 'fsc', 'tcokdrqpnb97m', 'tcoqxqmps6ng7', 'bthnam3', 'nguynng63366146', 'hanbintwt', 'dị', 'ida', 'york', 'tcojbfdw73crk', 'vtvdigital', 'tcouskbbqrtdt', 'burlington', 'county', 'jersey', 'armstrong', 'dan', 'ngữ', 'bến', 'tre', 'cấm', 'tco45rxrv57hz', 'tcokuvs2gg1jl', 'nay', 'tcoalomxvov1k', 'tcorgz9e6py1o', 'tcovmua7tnzwq', 'tcomm7olzsclv', 'thót', 'giồng', 'riềng', 'tconc9h3inrh2', 'tcoc4kcmzfqo1', 'luxushella', 'tcou3khltfufn', 'btstwtbtstwt', 'kca', 'kcamexico', '10082021', 'tcob6vxgmcixf', 'tco3aiywwjlcu', 'mạc', 'gobimông', 'tco7arux4tpbf', 'tcoklhncmnkdc', 'tco15mkyfrtkx', 'quốccận', 'tcoh0evji90y3', 'cyclone', 'tcoelfnfmi5yg', 'mtvhottest', 'pennsylvania', 'nhikookie9297', 'rindesu054', 'điệu', 'quạt', 'tco4bpvjogs5z', 'vinh', 'hèn', 'tornados', 'tường', 'tcoxyipqrxsrh', 'nhiếp', 'tcolo4tc9hrdn', 'muỗi', 'kịt', 'tcohrj3zqbstq', 'barrie', 'ontario', '1572021', 'tcoxjammhm8dr', 'ninja', 'buy', 'nẹ', 'ik', 'lênnnnnnn', 'tco4ay2zyizow', 'lightstick', 'chong', 'lồng', 'lí', 'hanbinyuehua', 'nồi', 'dầu', 'cosori', 'shorts', 'tcosbd18qi5qm', '06072021', 'tcogttt32byyz', 'florida', 'elsa', 'hurricaneelsa', 'tcoal7gsgjd0g', 'cbt02', 'phone', '0989', '855', '242', 'tcoy0cthkuwmb', 'tco5zhxk0phvv', 'tcopowv8xmsur', 'xét', '太难了', 'nán', 'le', '타이난러', '너무', '어려워요', 'nghề', 'tát', 'cày', 'nợ', 'tĩnh', 'trizzie', 'trinh', 'khâu', 'phàn', 'nàn', 'rút', 'dùm', 'tainangiaothong', 'tiengiang', 'tcohleviuu09s', 'bbiquyenn', 'hên', 'làn', 'lươn', 'tcotp4frh4nhl', 'trặc', 'tcofnds7qspez', 'phungtv', '400', 'trips', 'aaa', 'tcovfmd6mfqgm', 'gg', 'win', 'dk', 'clg', 't1', 'nch', 'lz', 'firstloveofc', 'bái', 'tcoszllf6e2hz', 'ak', 'ja', 'mắng', 'trêu', 'dorodohyon', 'xèng', 'tcosp9tx0ffl1', 'tco9itsbus7a9', 'tcog5c2gakxus', 'killqua', 'hah', 'wkwnisysshshsj', 'bener', 'tcobn1kgnukbq', 'tcoht8sszrzvy', 'tcodxctqw31fh', 'nhàng', 'harry', 'first', 'blullabyy', 'hẹn', 'cf', 'tcobccjwmxstl', 'đb', 'dream', 'đhs', 'nhỉko', 'sp', 'nản', 'giùm', '16000000', '18000000', 'khiển', 'dừng', 'vb8zq4uth6', 'tcoovedkzgepn', 'tcoelcvfxfclm', 'lũng', 'bá', 'thước', 'cháu', 'đằng', 'lao', 'tainan', 'thanhhoa', 'tco26thepgqex', 'tcohb980ubpab', 'drops', 'tcodh9wucylad', 'thekingslife', 'ôtô', 'novembless', 'eo', 'malacca', 'hỗn', 'tcouvpygvsf8l', 'tờ', 'tcovoudutjwxr', 'tco7lyjzqbi4m', 'aehuzry', 'idol', 'dẫm', 'outfit', 'tem', 'bn', 'oao', 'stylist', 'lạc', 'thãm', 'đần', 'đmcs', 'tco0oanm9svdm', 'chatgpt', 'openai', 'người', 'kg', 'trớn', 'hf1', 'chừa', 'chổ', 'giễu', 'phang', 'avocadosmile22', 'na', 'ná', 'lừa', 'tcoj6eqezwb64', 'tcovxipxj5sy2', 'tcoykmhdemgzn', 'hocdetruongthanh', 'congnghemoi', 'donald', 'trump', 'tco6ouinqxfza', 'zombie', 'op', 'hyuk', 'harang0423', 'tcojvhhlshdld', 'hitler', 'nắm', 'ngốc', 'holocaust', 'môṭ', 'hoạch']\n",
      "Feature matrix:\n",
      "[[0 0 0 ... 0 0 0]\n",
      " [0 0 0 ... 0 0 0]\n",
      " [0 0 0 ... 0 0 0]\n",
      " ...\n",
      " [0 0 0 ... 0 0 0]\n",
      " [0 0 0 ... 0 0 0]\n",
      " [0 0 0 ... 0 0 0]]\n"
     ]
    }
   ],
   "source": [
    "vocab = classifier.vocabulary_\n",
    "print(\"Vocab:\", list(vocab.keys()))\n",
    "print(\"Feature matrix:\")\n",
    "print(x.toarray())\n",
    "df_c = x.toarray()"
   ]
  },
  {
   "cell_type": "code",
   "execution_count": null,
   "id": "adc1c0cb",
   "metadata": {},
   "outputs": [],
   "source": []
  },
  {
   "cell_type": "code",
   "execution_count": 31,
   "id": "16bd0a42",
   "metadata": {},
   "outputs": [
    {
     "name": "stdout",
     "output_type": "stream",
     "text": [
      "Số từ trong vocab: 3491\n"
     ]
    }
   ],
   "source": [
    "vocab = classifier.vocabulary_\n",
    "word_count = len(vocab)\n",
    "print(\"Số từ trong vocab:\", word_count)"
   ]
  },
  {
   "cell_type": "code",
   "execution_count": 32,
   "id": "240ecc62",
   "metadata": {},
   "outputs": [
    {
     "name": "stdout",
     "output_type": "stream",
     "text": [
      "                                          text_cleaned\n",
      "0          wendy851 trc táo bón xả đc đc dịp xả bão lũ\n",
      "1    nagaiyue heather conan gray thánh ca mùa đông ...\n",
      "2    hoa kỳ chiến dịch cứu trợ đồng bào lũ lụt việt...\n",
      "3    hà nội dần lạnh bếp lửa ấm áp nè mong ảnh hưởn...\n",
      "4                    marktin ngon ngon thanks a bão lũ\n",
      "..                                                 ...\n",
      "196  cherry bomb 1 nương đcm 2017 cherry bomb coi t...\n",
      "197  hành tinh xếp thẳng hàng xuất hiện chỗi chu kỳ...\n",
      "198                                    đi dép thảm họa\n",
      "199                                    đi dép thảm họa\n",
      "200                                    thảm hoạ zombie\n",
      "\n",
      "[201 rows x 1 columns]\n"
     ]
    }
   ],
   "source": [
    "df_a = pd.concat([test[['text_cleaned']]], axis=1)\n",
    "\n",
    "# In kết quả bảng A\n",
    "print(df_a)"
   ]
  },
  {
   "cell_type": "code",
   "execution_count": 33,
   "id": "82af36c6",
   "metadata": {
    "execution": {
     "iopub.execute_input": "2023-05-29T06:45:26.527661Z",
     "iopub.status.busy": "2023-05-29T06:45:26.526846Z",
     "iopub.status.idle": "2023-05-29T06:45:26.990336Z",
     "shell.execute_reply": "2023-05-29T06:45:26.988467Z"
    },
    "papermill": {
     "duration": 0.48732,
     "end_time": "2023-05-29T06:45:26.995196",
     "exception": false,
     "start_time": "2023-05-29T06:45:26.507876",
     "status": "completed"
    },
    "tags": []
   },
   "outputs": [
    {
     "data": {
      "text/html": [
       "<style>#sk-container-id-1 {color: black;background-color: white;}#sk-container-id-1 pre{padding: 0;}#sk-container-id-1 div.sk-toggleable {background-color: white;}#sk-container-id-1 label.sk-toggleable__label {cursor: pointer;display: block;width: 100%;margin-bottom: 0;padding: 0.3em;box-sizing: border-box;text-align: center;}#sk-container-id-1 label.sk-toggleable__label-arrow:before {content: \"▸\";float: left;margin-right: 0.25em;color: #696969;}#sk-container-id-1 label.sk-toggleable__label-arrow:hover:before {color: black;}#sk-container-id-1 div.sk-estimator:hover label.sk-toggleable__label-arrow:before {color: black;}#sk-container-id-1 div.sk-toggleable__content {max-height: 0;max-width: 0;overflow: hidden;text-align: left;background-color: #f0f8ff;}#sk-container-id-1 div.sk-toggleable__content pre {margin: 0.2em;color: black;border-radius: 0.25em;background-color: #f0f8ff;}#sk-container-id-1 input.sk-toggleable__control:checked~div.sk-toggleable__content {max-height: 200px;max-width: 100%;overflow: auto;}#sk-container-id-1 input.sk-toggleable__control:checked~label.sk-toggleable__label-arrow:before {content: \"▾\";}#sk-container-id-1 div.sk-estimator input.sk-toggleable__control:checked~label.sk-toggleable__label {background-color: #d4ebff;}#sk-container-id-1 div.sk-label input.sk-toggleable__control:checked~label.sk-toggleable__label {background-color: #d4ebff;}#sk-container-id-1 input.sk-hidden--visually {border: 0;clip: rect(1px 1px 1px 1px);clip: rect(1px, 1px, 1px, 1px);height: 1px;margin: -1px;overflow: hidden;padding: 0;position: absolute;width: 1px;}#sk-container-id-1 div.sk-estimator {font-family: monospace;background-color: #f0f8ff;border: 1px dotted black;border-radius: 0.25em;box-sizing: border-box;margin-bottom: 0.5em;}#sk-container-id-1 div.sk-estimator:hover {background-color: #d4ebff;}#sk-container-id-1 div.sk-parallel-item::after {content: \"\";width: 100%;border-bottom: 1px solid gray;flex-grow: 1;}#sk-container-id-1 div.sk-label:hover label.sk-toggleable__label {background-color: #d4ebff;}#sk-container-id-1 div.sk-serial::before {content: \"\";position: absolute;border-left: 1px solid gray;box-sizing: border-box;top: 0;bottom: 0;left: 50%;z-index: 0;}#sk-container-id-1 div.sk-serial {display: flex;flex-direction: column;align-items: center;background-color: white;padding-right: 0.2em;padding-left: 0.2em;position: relative;}#sk-container-id-1 div.sk-item {position: relative;z-index: 1;}#sk-container-id-1 div.sk-parallel {display: flex;align-items: stretch;justify-content: center;background-color: white;position: relative;}#sk-container-id-1 div.sk-item::before, #sk-container-id-1 div.sk-parallel-item::before {content: \"\";position: absolute;border-left: 1px solid gray;box-sizing: border-box;top: 0;bottom: 0;left: 50%;z-index: -1;}#sk-container-id-1 div.sk-parallel-item {display: flex;flex-direction: column;z-index: 1;position: relative;background-color: white;}#sk-container-id-1 div.sk-parallel-item:first-child::after {align-self: flex-end;width: 50%;}#sk-container-id-1 div.sk-parallel-item:last-child::after {align-self: flex-start;width: 50%;}#sk-container-id-1 div.sk-parallel-item:only-child::after {width: 0;}#sk-container-id-1 div.sk-dashed-wrapped {border: 1px dashed gray;margin: 0 0.4em 0.5em 0.4em;box-sizing: border-box;padding-bottom: 0.4em;background-color: white;}#sk-container-id-1 div.sk-label label {font-family: monospace;font-weight: bold;display: inline-block;line-height: 1.2em;}#sk-container-id-1 div.sk-label-container {text-align: center;}#sk-container-id-1 div.sk-container {/* jupyter's `normalize.less` sets `[hidden] { display: none; }` but bootstrap.min.css set `[hidden] { display: none !important; }` so we also need the `!important` here to be able to override the default hidden behavior on the sphinx rendered scikit-learn.org. See: https://github.com/scikit-learn/scikit-learn/issues/21755 */display: inline-block !important;position: relative;}#sk-container-id-1 div.sk-text-repr-fallback {display: none;}</style><div id=\"sk-container-id-1\" class=\"sk-top-container\"><div class=\"sk-text-repr-fallback\"><pre>LogisticRegression()</pre><b>In a Jupyter environment, please rerun this cell to show the HTML representation or trust the notebook. <br />On GitHub, the HTML representation is unable to render, please try loading this page with nbviewer.org.</b></div><div class=\"sk-container\" hidden><div class=\"sk-item\"><div class=\"sk-estimator sk-toggleable\"><input class=\"sk-toggleable__control sk-hidden--visually\" id=\"sk-estimator-id-1\" type=\"checkbox\" checked><label for=\"sk-estimator-id-1\" class=\"sk-toggleable__label sk-toggleable__label-arrow\">LogisticRegression</label><div class=\"sk-toggleable__content\"><pre>LogisticRegression()</pre></div></div></div></div></div>"
      ],
      "text/plain": [
       "LogisticRegression()"
      ]
     },
     "execution_count": 33,
     "metadata": {},
     "output_type": "execute_result"
    }
   ],
   "source": [
    "logReg=LogisticRegression(penalty='l2')\n",
    "logReg.fit(x_train,y_train)"
   ]
  },
  {
   "cell_type": "code",
   "execution_count": 34,
   "id": "9fa48249",
   "metadata": {
    "execution": {
     "iopub.execute_input": "2023-05-29T06:45:27.072419Z",
     "iopub.status.busy": "2023-05-29T06:45:27.071643Z",
     "iopub.status.idle": "2023-05-29T06:45:27.088460Z",
     "shell.execute_reply": "2023-05-29T06:45:27.086548Z"
    },
    "papermill": {
     "duration": 0.060825,
     "end_time": "2023-05-29T06:45:27.092863",
     "exception": false,
     "start_time": "2023-05-29T06:45:27.032038",
     "status": "completed"
    },
    "tags": []
   },
   "outputs": [
    {
     "data": {
      "text/plain": [
       "0.989159891598916"
      ]
     },
     "execution_count": 34,
     "metadata": {},
     "output_type": "execute_result"
    }
   ],
   "source": [
    "R=logReg.predict(x_train)\n",
    "accuracy_score(y_train,R)"
   ]
  },
  {
   "attachments": {},
   "cell_type": "markdown",
   "id": "ab34911e",
   "metadata": {
    "papermill": {
     "duration": 0.018003,
     "end_time": "2023-05-29T06:45:27.128426",
     "exception": false,
     "start_time": "2023-05-29T06:45:27.110423",
     "status": "completed"
    },
    "tags": []
   },
   "source": [
    "## Support Vector Classifier"
   ]
  },
  {
   "cell_type": "code",
   "execution_count": 35,
   "id": "026327bc",
   "metadata": {
    "execution": {
     "iopub.execute_input": "2023-05-29T06:45:27.167321Z",
     "iopub.status.busy": "2023-05-29T06:45:27.166485Z",
     "iopub.status.idle": "2023-05-29T06:45:33.831015Z",
     "shell.execute_reply": "2023-05-29T06:45:33.829613Z"
    },
    "papermill": {
     "duration": 6.687945,
     "end_time": "2023-05-29T06:45:33.834601",
     "exception": false,
     "start_time": "2023-05-29T06:45:27.146656",
     "status": "completed"
    },
    "tags": []
   },
   "outputs": [
    {
     "data": {
      "text/html": [
       "<style>#sk-container-id-2 {color: black;background-color: white;}#sk-container-id-2 pre{padding: 0;}#sk-container-id-2 div.sk-toggleable {background-color: white;}#sk-container-id-2 label.sk-toggleable__label {cursor: pointer;display: block;width: 100%;margin-bottom: 0;padding: 0.3em;box-sizing: border-box;text-align: center;}#sk-container-id-2 label.sk-toggleable__label-arrow:before {content: \"▸\";float: left;margin-right: 0.25em;color: #696969;}#sk-container-id-2 label.sk-toggleable__label-arrow:hover:before {color: black;}#sk-container-id-2 div.sk-estimator:hover label.sk-toggleable__label-arrow:before {color: black;}#sk-container-id-2 div.sk-toggleable__content {max-height: 0;max-width: 0;overflow: hidden;text-align: left;background-color: #f0f8ff;}#sk-container-id-2 div.sk-toggleable__content pre {margin: 0.2em;color: black;border-radius: 0.25em;background-color: #f0f8ff;}#sk-container-id-2 input.sk-toggleable__control:checked~div.sk-toggleable__content {max-height: 200px;max-width: 100%;overflow: auto;}#sk-container-id-2 input.sk-toggleable__control:checked~label.sk-toggleable__label-arrow:before {content: \"▾\";}#sk-container-id-2 div.sk-estimator input.sk-toggleable__control:checked~label.sk-toggleable__label {background-color: #d4ebff;}#sk-container-id-2 div.sk-label input.sk-toggleable__control:checked~label.sk-toggleable__label {background-color: #d4ebff;}#sk-container-id-2 input.sk-hidden--visually {border: 0;clip: rect(1px 1px 1px 1px);clip: rect(1px, 1px, 1px, 1px);height: 1px;margin: -1px;overflow: hidden;padding: 0;position: absolute;width: 1px;}#sk-container-id-2 div.sk-estimator {font-family: monospace;background-color: #f0f8ff;border: 1px dotted black;border-radius: 0.25em;box-sizing: border-box;margin-bottom: 0.5em;}#sk-container-id-2 div.sk-estimator:hover {background-color: #d4ebff;}#sk-container-id-2 div.sk-parallel-item::after {content: \"\";width: 100%;border-bottom: 1px solid gray;flex-grow: 1;}#sk-container-id-2 div.sk-label:hover label.sk-toggleable__label {background-color: #d4ebff;}#sk-container-id-2 div.sk-serial::before {content: \"\";position: absolute;border-left: 1px solid gray;box-sizing: border-box;top: 0;bottom: 0;left: 50%;z-index: 0;}#sk-container-id-2 div.sk-serial {display: flex;flex-direction: column;align-items: center;background-color: white;padding-right: 0.2em;padding-left: 0.2em;position: relative;}#sk-container-id-2 div.sk-item {position: relative;z-index: 1;}#sk-container-id-2 div.sk-parallel {display: flex;align-items: stretch;justify-content: center;background-color: white;position: relative;}#sk-container-id-2 div.sk-item::before, #sk-container-id-2 div.sk-parallel-item::before {content: \"\";position: absolute;border-left: 1px solid gray;box-sizing: border-box;top: 0;bottom: 0;left: 50%;z-index: -1;}#sk-container-id-2 div.sk-parallel-item {display: flex;flex-direction: column;z-index: 1;position: relative;background-color: white;}#sk-container-id-2 div.sk-parallel-item:first-child::after {align-self: flex-end;width: 50%;}#sk-container-id-2 div.sk-parallel-item:last-child::after {align-self: flex-start;width: 50%;}#sk-container-id-2 div.sk-parallel-item:only-child::after {width: 0;}#sk-container-id-2 div.sk-dashed-wrapped {border: 1px dashed gray;margin: 0 0.4em 0.5em 0.4em;box-sizing: border-box;padding-bottom: 0.4em;background-color: white;}#sk-container-id-2 div.sk-label label {font-family: monospace;font-weight: bold;display: inline-block;line-height: 1.2em;}#sk-container-id-2 div.sk-label-container {text-align: center;}#sk-container-id-2 div.sk-container {/* jupyter's `normalize.less` sets `[hidden] { display: none; }` but bootstrap.min.css set `[hidden] { display: none !important; }` so we also need the `!important` here to be able to override the default hidden behavior on the sphinx rendered scikit-learn.org. See: https://github.com/scikit-learn/scikit-learn/issues/21755 */display: inline-block !important;position: relative;}#sk-container-id-2 div.sk-text-repr-fallback {display: none;}</style><div id=\"sk-container-id-2\" class=\"sk-top-container\"><div class=\"sk-text-repr-fallback\"><pre>SVC()</pre><b>In a Jupyter environment, please rerun this cell to show the HTML representation or trust the notebook. <br />On GitHub, the HTML representation is unable to render, please try loading this page with nbviewer.org.</b></div><div class=\"sk-container\" hidden><div class=\"sk-item\"><div class=\"sk-estimator sk-toggleable\"><input class=\"sk-toggleable__control sk-hidden--visually\" id=\"sk-estimator-id-2\" type=\"checkbox\" checked><label for=\"sk-estimator-id-2\" class=\"sk-toggleable__label sk-toggleable__label-arrow\">SVC</label><div class=\"sk-toggleable__content\"><pre>SVC()</pre></div></div></div></div></div>"
      ],
      "text/plain": [
       "SVC()"
      ]
     },
     "execution_count": 35,
     "metadata": {},
     "output_type": "execute_result"
    }
   ],
   "source": [
    "from sklearn.svm import SVC\n",
    "svc_model=SVC()\n",
    "svc_model.fit(x_train,y_train)"
   ]
  },
  {
   "cell_type": "code",
   "execution_count": 36,
   "id": "edb87e5c",
   "metadata": {
    "execution": {
     "iopub.execute_input": "2023-05-29T06:45:33.944487Z",
     "iopub.status.busy": "2023-05-29T06:45:33.943477Z",
     "iopub.status.idle": "2023-05-29T06:45:33.950228Z",
     "shell.execute_reply": "2023-05-29T06:45:33.949197Z"
    },
    "papermill": {
     "duration": 0.030715,
     "end_time": "2023-05-29T06:45:33.953349",
     "exception": false,
     "start_time": "2023-05-29T06:45:33.922634",
     "status": "completed"
    },
    "tags": []
   },
   "outputs": [],
   "source": [
    "pred=logReg.predict(x_test)"
   ]
  },
  {
   "cell_type": "code",
   "execution_count": 37,
   "id": "7f654b6b",
   "metadata": {
    "execution": {
     "iopub.execute_input": "2023-05-29T06:45:33.991572Z",
     "iopub.status.busy": "2023-05-29T06:45:33.990638Z",
     "iopub.status.idle": "2023-05-29T06:45:33.999461Z",
     "shell.execute_reply": "2023-05-29T06:45:33.998245Z"
    },
    "papermill": {
     "duration": 0.031202,
     "end_time": "2023-05-29T06:45:34.002318",
     "exception": false,
     "start_time": "2023-05-29T06:45:33.971116",
     "status": "completed"
    },
    "tags": []
   },
   "outputs": [
    {
     "data": {
      "text/plain": [
       "0.8554216867469879"
      ]
     },
     "execution_count": 37,
     "metadata": {},
     "output_type": "execute_result"
    }
   ],
   "source": [
    "accuracy_score(y_test,pred)"
   ]
  },
  {
   "cell_type": "code",
   "execution_count": 38,
   "id": "a512fadd",
   "metadata": {
    "execution": {
     "iopub.execute_input": "2023-05-29T06:45:34.076569Z",
     "iopub.status.busy": "2023-05-29T06:45:34.075648Z",
     "iopub.status.idle": "2023-05-29T06:45:34.759393Z",
     "shell.execute_reply": "2023-05-29T06:45:34.758371Z"
    },
    "papermill": {
     "duration": 0.706626,
     "end_time": "2023-05-29T06:45:34.762467",
     "exception": false,
     "start_time": "2023-05-29T06:45:34.055841",
     "status": "completed"
    },
    "tags": []
   },
   "outputs": [],
   "source": [
    "y_pre=svc_model.predict(x_test)"
   ]
  },
  {
   "cell_type": "code",
   "execution_count": 39,
   "id": "6641f5fa",
   "metadata": {
    "execution": {
     "iopub.execute_input": "2023-05-29T06:45:34.801871Z",
     "iopub.status.busy": "2023-05-29T06:45:34.800952Z",
     "iopub.status.idle": "2023-05-29T06:45:34.809204Z",
     "shell.execute_reply": "2023-05-29T06:45:34.807603Z"
    },
    "papermill": {
     "duration": 0.030962,
     "end_time": "2023-05-29T06:45:34.812172",
     "exception": false,
     "start_time": "2023-05-29T06:45:34.781210",
     "status": "completed"
    },
    "tags": []
   },
   "outputs": [
    {
     "name": "stdout",
     "output_type": "stream",
     "text": [
      "0.8554216867469879\n"
     ]
    }
   ],
   "source": [
    "score=accuracy_score(y_test,y_pre,normalize=True)\n",
    "print(score)"
   ]
  },
  {
   "cell_type": "code",
   "execution_count": 40,
   "id": "4a3ceeba",
   "metadata": {
    "execution": {
     "iopub.execute_input": "2023-05-29T06:45:34.885638Z",
     "iopub.status.busy": "2023-05-29T06:45:34.885151Z",
     "iopub.status.idle": "2023-05-29T06:45:34.963258Z",
     "shell.execute_reply": "2023-05-29T06:45:34.961845Z"
    },
    "papermill": {
     "duration": 0.100617,
     "end_time": "2023-05-29T06:45:34.966321",
     "exception": false,
     "start_time": "2023-05-29T06:45:34.865704",
     "status": "completed"
    },
    "tags": []
   },
   "outputs": [],
   "source": [
    "x=classifier.transform(test['text'])"
   ]
  },
  {
   "cell_type": "code",
   "execution_count": 41,
   "id": "7ee2e199",
   "metadata": {
    "execution": {
     "iopub.execute_input": "2023-05-29T06:45:35.004514Z",
     "iopub.status.busy": "2023-05-29T06:45:35.003691Z",
     "iopub.status.idle": "2023-05-29T06:45:37.653250Z",
     "shell.execute_reply": "2023-05-29T06:45:37.651544Z"
    },
    "papermill": {
     "duration": 2.673574,
     "end_time": "2023-05-29T06:45:37.657796",
     "exception": false,
     "start_time": "2023-05-29T06:45:34.984222",
     "status": "completed"
    },
    "tags": []
   },
   "outputs": [],
   "source": [
    "predictions=svc_model.predict(x)"
   ]
  },
  {
   "cell_type": "code",
   "execution_count": 44,
   "id": "a7ff087e",
   "metadata": {
    "execution": {
     "iopub.execute_input": "2023-05-29T06:45:37.706611Z",
     "iopub.status.busy": "2023-05-29T06:45:37.705415Z",
     "iopub.status.idle": "2023-05-29T06:45:37.720066Z",
     "shell.execute_reply": "2023-05-29T06:45:37.718455Z"
    },
    "papermill": {
     "duration": 0.041047,
     "end_time": "2023-05-29T06:45:37.723626",
     "exception": false,
     "start_time": "2023-05-29T06:45:37.682579",
     "status": "completed"
    },
    "tags": []
   },
   "outputs": [
    {
     "name": "stdout",
     "output_type": "stream",
     "text": [
      "Confusion Matrix:\n",
      "[[33  5]\n",
      " [ 7 38]]\n",
      "Mean Square Error is:  0.14457831325301204\n",
      "F1 Score is:  0.8636363636363636\n",
      "R Square score is:  0.4175438596491229\n",
      "Accuracy score is  0.8554216867469879\n",
      "Accuracy score is 85.54%\n"
     ]
    }
   ],
   "source": [
    "from sklearn.metrics import mean_squared_error as mse\n",
    "from sklearn.metrics import r2_score, f1_score\n",
    "from sklearn.metrics import accuracy_score\n",
    "from sklearn.metrics import confusion_matrix\n",
    "\n",
    "# Calculate the confusion matrix\n",
    "cm = confusion_matrix(y_test, pred)\n",
    "\n",
    "# Display the confusion matrix\n",
    "print(\"Confusion Matrix:\")\n",
    "print(cm)\n",
    "print(\"Mean Square Error is: \", mse(y_test, pred))\n",
    "print(\"F1 Score is: \", f1_score(y_test, pred))\n",
    "print(\"R Square score is: \", r2_score(y_test, pred))\n",
    "print(\"Accuracy score is \", accuracy_score(y_test, pred))\n",
    "print(f\"Accuracy score is {((accuracy_score(y_test, pred))*100).round(2)}%\")"
   ]
  },
  {
   "cell_type": "code",
   "execution_count": 46,
   "id": "92e77424",
   "metadata": {},
   "outputs": [
    {
     "data": {
      "image/png": "[encoded data removed]",
      "text/plain": [
       "<Figure size 640x480 with 2 Axes>"
      ]
     },
     "metadata": {},
     "output_type": "display_data"
    }
   ],
   "source": [
    "import seaborn as sns\n",
    "import matplotlib.pyplot as plt\n",
    "cm = confusion_matrix(y_test, pred)\n",
    "\n",
    "# Create a heatmap of the confusion matrix\n",
    "sns.heatmap(cm, annot=True, cmap=\"Blues\")\n",
    "\n",
    "# Add labels, title, and ticks to the plot\n",
    "plt.xlabel(\"Predicted\")\n",
    "plt.ylabel(\"Actual\")\n",
    "plt.title(\"Confusion Matrix\")\n",
    "plt.xticks(ticks=[0, 1])  # Set x-axis tick locations\n",
    "plt.yticks(ticks=[0, 1])  # Set y-axis tick locations\n",
    "\n",
    "# Display the plot\n",
    "plt.show()"
   ]
  },
  {
   "cell_type": "code",
   "execution_count": 43,
   "id": "ee30f72e",
   "metadata": {
    "execution": {
     "iopub.execute_input": "2023-05-29T06:45:37.763148Z",
     "iopub.status.busy": "2023-05-29T06:45:37.762699Z",
     "iopub.status.idle": "2023-05-29T06:45:37.782731Z",
     "shell.execute_reply": "2023-05-29T06:45:37.781466Z"
    },
    "papermill": {
     "duration": 0.043988,
     "end_time": "2023-05-29T06:45:37.786045",
     "exception": false,
     "start_time": "2023-05-29T06:45:37.742057",
     "status": "completed"
    },
    "tags": []
   },
   "outputs": [],
   "source": [
    "submission = pd.DataFrame({'id':test['id'],'target':predictions})\n",
    "submission.to_csv('submission.csv',index=False)"
   ]
  }
 ],
 "metadata": {
  "kernelspec": {
   "display_name": "Python 3",
   "language": "python",
   "name": "python3"
  },
  "language_info": {
   "codemirror_mode": {
    "name": "ipython",
    "version": 3
   },
   "file_extension": ".py",
   "mimetype": "text/x-python",
   "name": "python",
   "nbconvert_exporter": "python",
   "pygments_lexer": "ipython3",
   "version": "3.10.11"
  },
  "papermill": {
   "default_parameters": {},
   "duration": 42.595859,
   "end_time": "2023-05-29T06:45:38.629642",
   "environment_variables": {},
   "exception": null,
   "input_path": "__notebook__.ipynb",
   "output_path": "__notebook__.ipynb",
   "parameters": {},
   "start_time": "2023-05-29T06:44:56.033783",
   "version": "2.4.0"
  }
 },
 "nbformat": 4,
 "nbformat_minor": 5
}
