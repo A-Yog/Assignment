{
 "cells": [
  {
   "cell_type": "code",
   "execution_count": 1752,
   "id": "f4233f9c",
   "metadata": {
    "_cell_guid": "b1076dfc-b9ad-4769-8c92-a6c4dae69d19",
    "_uuid": "8f2839f25d086af736a60e9eeb907d3b93b6e0e5",
    "execution": {
     "iopub.execute_input": "2023-05-29T06:45:10.054487Z",
     "iopub.status.busy": "2023-05-29T06:45:10.052856Z",
     "iopub.status.idle": "2023-05-29T06:45:10.071665Z",
     "shell.execute_reply": "2023-05-29T06:45:10.070515Z"
    },
    "papermill": {
     "duration": 0.041062,
     "end_time": "2023-05-29T06:45:10.075537",
     "exception": false,
     "start_time": "2023-05-29T06:45:10.034475",
     "status": "completed"
    },
    "tags": []
   },
   "outputs": [],
   "source": [
    "import numpy as np \n",
    "import pandas as pd "
   ]
  },
  {
   "cell_type": "code",
   "execution_count": 1753,
   "id": "8f450fbb",
   "metadata": {
    "execution": {
     "iopub.execute_input": "2023-05-29T06:45:10.165138Z",
     "iopub.status.busy": "2023-05-29T06:45:10.164371Z",
     "iopub.status.idle": "2023-05-29T06:45:11.867372Z",
     "shell.execute_reply": "2023-05-29T06:45:11.865880Z"
    },
    "papermill": {
     "duration": 1.722557,
     "end_time": "2023-05-29T06:45:11.870569",
     "exception": false,
     "start_time": "2023-05-29T06:45:10.148012",
     "status": "completed"
    },
    "tags": []
   },
   "outputs": [],
   "source": [
    "from sklearn.linear_model import LogisticRegression\n",
    "from sklearn.model_selection import train_test_split\n",
    "from sklearn.feature_extraction.text import TfidfVectorizer\n",
    "from sklearn.feature_extraction.text import CountVectorizer\n",
    "from sklearn.metrics import classification_report, accuracy_score\n",
    "from pyvi import ViTokenizer\n",
    "import string, nltk, re\n",
    "from nltk.corpus import stopwords\n",
    "from nltk.tokenize import word_tokenize\n",
    "from nltk.stem import PorterStemmer"
   ]
  },
  {
   "cell_type": "code",
   "execution_count": 1754,
   "id": "458df790",
   "metadata": {
    "execution": {
     "iopub.execute_input": "2023-05-29T06:45:11.903155Z",
     "iopub.status.busy": "2023-05-29T06:45:11.902692Z",
     "iopub.status.idle": "2023-05-29T06:45:12.098019Z",
     "shell.execute_reply": "2023-05-29T06:45:12.096827Z"
    },
    "papermill": {
     "duration": 0.215604,
     "end_time": "2023-05-29T06:45:12.101903",
     "exception": false,
     "start_time": "2023-05-29T06:45:11.886299",
     "status": "completed"
    },
    "tags": []
   },
   "outputs": [
    {
     "name": "stderr",
     "output_type": "stream",
     "text": [
      "[nltk_data] Downloading package punkt to\n",
      "[nltk_data]     C:\\Users\\84969\\AppData\\Roaming\\nltk_data...\n",
      "[nltk_data]   Package punkt is already up-to-date!\n",
      "[nltk_data] Downloading package stopwords to\n",
      "[nltk_data]     C:\\Users\\84969\\AppData\\Roaming\\nltk_data...\n",
      "[nltk_data]   Package stopwords is already up-to-date!\n"
     ]
    },
    {
     "data": {
      "text/plain": [
       "True"
      ]
     },
     "execution_count": 1754,
     "metadata": {},
     "output_type": "execute_result"
    }
   ],
   "source": [
    "nltk.download('punkt')\n",
    "nltk.download('stopwords')"
   ]
  },
  {
   "cell_type": "code",
   "execution_count": 1755,
   "id": "efd7bc37",
   "metadata": {
    "execution": {
     "iopub.execute_input": "2023-05-29T06:45:12.165023Z",
     "iopub.status.busy": "2023-05-29T06:45:12.164578Z",
     "iopub.status.idle": "2023-05-29T06:45:12.250176Z",
     "shell.execute_reply": "2023-05-29T06:45:12.248848Z"
    },
    "papermill": {
     "duration": 0.105813,
     "end_time": "2023-05-29T06:45:12.253523",
     "exception": false,
     "start_time": "2023-05-29T06:45:12.147710",
     "status": "completed"
    },
    "tags": []
   },
   "outputs": [],
   "source": [
    "\n",
    "train = pd.read_csv('train.csv', encoding='utf-8')\n",
    "test = pd.read_csv('test.csv', encoding='utf-8')"
   ]
  },
  {
   "cell_type": "code",
   "execution_count": 1756,
   "id": "52a32166",
   "metadata": {
    "execution": {
     "iopub.execute_input": "2023-05-29T06:45:12.285829Z",
     "iopub.status.busy": "2023-05-29T06:45:12.285361Z",
     "iopub.status.idle": "2023-05-29T06:45:12.303147Z",
     "shell.execute_reply": "2023-05-29T06:45:12.301646Z"
    },
    "papermill": {
     "duration": 0.037631,
     "end_time": "2023-05-29T06:45:12.306330",
     "exception": false,
     "start_time": "2023-05-29T06:45:12.268699",
     "status": "completed"
    },
    "tags": []
   },
   "outputs": [
    {
     "data": {
      "text/plain": [
       "id         0\n",
       "keyword    0\n",
       "text       0\n",
       "target     0\n",
       "dtype: int64"
      ]
     },
     "execution_count": 1756,
     "metadata": {},
     "output_type": "execute_result"
    }
   ],
   "source": [
    "train.isnull().sum()"
   ]
  },
  {
   "cell_type": "code",
   "execution_count": 1757,
   "id": "6e4f85e0",
   "metadata": {
    "execution": {
     "iopub.execute_input": "2023-05-29T06:45:12.338860Z",
     "iopub.status.busy": "2023-05-29T06:45:12.338386Z",
     "iopub.status.idle": "2023-05-29T06:45:12.355208Z",
     "shell.execute_reply": "2023-05-29T06:45:12.353811Z"
    },
    "papermill": {
     "duration": 0.037136,
     "end_time": "2023-05-29T06:45:12.358326",
     "exception": false,
     "start_time": "2023-05-29T06:45:12.321190",
     "status": "completed"
    },
    "tags": []
   },
   "outputs": [
    {
     "data": {
      "text/plain": [
       "id         int64\n",
       "text      object\n",
       "target     int64\n",
       "dtype: object"
      ]
     },
     "execution_count": 1757,
     "metadata": {},
     "output_type": "execute_result"
    }
   ],
   "source": [
    "train = train.drop(columns = ['keyword'])\n",
    "train.dtypes"
   ]
  },
  {
   "cell_type": "code",
   "execution_count": 1758,
   "id": "2135726b",
   "metadata": {
    "execution": {
     "iopub.execute_input": "2023-05-29T06:45:12.391916Z",
     "iopub.status.busy": "2023-05-29T06:45:12.390915Z",
     "iopub.status.idle": "2023-05-29T06:45:12.420328Z",
     "shell.execute_reply": "2023-05-29T06:45:12.418696Z"
    },
    "papermill": {
     "duration": 0.050287,
     "end_time": "2023-05-29T06:45:12.423629",
     "exception": false,
     "start_time": "2023-05-29T06:45:12.373342",
     "status": "completed"
    },
    "tags": []
   },
   "outputs": [
    {
     "data": {
      "text/html": [
       "<div>\n",
       "<style scoped>\n",
       "    .dataframe tbody tr th:only-of-type {\n",
       "        vertical-align: middle;\n",
       "    }\n",
       "\n",
       "    .dataframe tbody tr th {\n",
       "        vertical-align: top;\n",
       "    }\n",
       "\n",
       "    .dataframe thead th {\n",
       "        text-align: right;\n",
       "    }\n",
       "</style>\n",
       "<table border=\"1\" class=\"dataframe\">\n",
       "  <thead>\n",
       "    <tr style=\"text-align: right;\">\n",
       "      <th></th>\n",
       "      <th>id</th>\n",
       "      <th>text</th>\n",
       "      <th>target</th>\n",
       "    </tr>\n",
       "  </thead>\n",
       "  <tbody>\n",
       "    <tr>\n",
       "      <th>0</th>\n",
       "      <td>1</td>\n",
       "      <td>@WoodyLightyearx Mainnet mở 14/3/2023 là mốc l...</td>\n",
       "      <td>1</td>\n",
       "    </tr>\n",
       "    <tr>\n",
       "      <th>1</th>\n",
       "      <td>3</td>\n",
       "      <td>Chúc các phu nhân đc lì xì nhìu nhìu tiền zô n...</td>\n",
       "      <td>0</td>\n",
       "    </tr>\n",
       "    <tr>\n",
       "      <th>2</th>\n",
       "      <td>4</td>\n",
       "      <td>@LamNguy40552955 Dân Thanh Hoá ngày trước nghè...</td>\n",
       "      <td>1</td>\n",
       "    </tr>\n",
       "    <tr>\n",
       "      <th>3</th>\n",
       "      <td>5</td>\n",
       "      <td>Bão lũ, cháy rừng gây thiệt hại trên 353 tỷ US...</td>\n",
       "      <td>1</td>\n",
       "    </tr>\n",
       "    <tr>\n",
       "      <th>4</th>\n",
       "      <td>6</td>\n",
       "      <td>@wwwaenii Mấy con đin này lại kỳ thị Việt kiều...</td>\n",
       "      <td>0</td>\n",
       "    </tr>\n",
       "    <tr>\n",
       "      <th>...</th>\n",
       "      <td>...</td>\n",
       "      <td>...</td>\n",
       "      <td>...</td>\n",
       "    </tr>\n",
       "    <tr>\n",
       "      <th>816</th>\n",
       "      <td>1016</td>\n",
       "      <td>WHO phát đi môṭ thông điệp cảnh báo thế giới đ...</td>\n",
       "      <td>1</td>\n",
       "    </tr>\n",
       "    <tr>\n",
       "      <th>817</th>\n",
       "      <td>1018</td>\n",
       "      <td>Các hành tinh xếp thẳng hàng cùng với sự xuất ...</td>\n",
       "      <td>1</td>\n",
       "    </tr>\n",
       "    <tr>\n",
       "      <th>818</th>\n",
       "      <td>1020</td>\n",
       "      <td>\"Chính phủ có kế hoạch thực hiện \"\"đánh giá rủ...</td>\n",
       "      <td>1</td>\n",
       "    </tr>\n",
       "    <tr>\n",
       "      <th>819</th>\n",
       "      <td>1021</td>\n",
       "      <td>@ZelenskyyUa Cái ý thức tập thể của mấy người ...</td>\n",
       "      <td>1</td>\n",
       "    </tr>\n",
       "    <tr>\n",
       "      <th>820</th>\n",
       "      <td>1022</td>\n",
       "      <td>@ZelenskyyUa Những người đã chết trong thảm họ...</td>\n",
       "      <td>1</td>\n",
       "    </tr>\n",
       "  </tbody>\n",
       "</table>\n",
       "<p>821 rows × 3 columns</p>\n",
       "</div>"
      ],
      "text/plain": [
       "       id                                               text  target\n",
       "0       1  @WoodyLightyearx Mainnet mở 14/3/2023 là mốc l...       1\n",
       "1       3  Chúc các phu nhân đc lì xì nhìu nhìu tiền zô n...       0\n",
       "2       4  @LamNguy40552955 Dân Thanh Hoá ngày trước nghè...       1\n",
       "3       5  Bão lũ, cháy rừng gây thiệt hại trên 353 tỷ US...       1\n",
       "4       6  @wwwaenii Mấy con đin này lại kỳ thị Việt kiều...       0\n",
       "..    ...                                                ...     ...\n",
       "816  1016  WHO phát đi môṭ thông điệp cảnh báo thế giới đ...       1\n",
       "817  1018  Các hành tinh xếp thẳng hàng cùng với sự xuất ...       1\n",
       "818  1020  \"Chính phủ có kế hoạch thực hiện \"\"đánh giá rủ...       1\n",
       "819  1021  @ZelenskyyUa Cái ý thức tập thể của mấy người ...       1\n",
       "820  1022  @ZelenskyyUa Những người đã chết trong thảm họ...       1\n",
       "\n",
       "[821 rows x 3 columns]"
      ]
     },
     "execution_count": 1758,
     "metadata": {},
     "output_type": "execute_result"
    }
   ],
   "source": [
    "train "
   ]
  },
  {
   "cell_type": "code",
   "execution_count": 1759,
   "id": "3ca465e5",
   "metadata": {
    "execution": {
     "iopub.execute_input": "2023-05-29T06:45:12.489353Z",
     "iopub.status.busy": "2023-05-29T06:45:12.487946Z",
     "iopub.status.idle": "2023-05-29T06:45:12.516438Z",
     "shell.execute_reply": "2023-05-29T06:45:12.515133Z"
    },
    "papermill": {
     "duration": 0.049467,
     "end_time": "2023-05-29T06:45:12.519745",
     "exception": false,
     "start_time": "2023-05-29T06:45:12.470278",
     "status": "completed"
    },
    "tags": []
   },
   "outputs": [
    {
     "data": {
      "text/html": [
       "<div>\n",
       "<style scoped>\n",
       "    .dataframe tbody tr th:only-of-type {\n",
       "        vertical-align: middle;\n",
       "    }\n",
       "\n",
       "    .dataframe tbody tr th {\n",
       "        vertical-align: top;\n",
       "    }\n",
       "\n",
       "    .dataframe thead th {\n",
       "        text-align: right;\n",
       "    }\n",
       "</style>\n",
       "<table border=\"1\" class=\"dataframe\">\n",
       "  <thead>\n",
       "    <tr style=\"text-align: right;\">\n",
       "      <th></th>\n",
       "      <th>id</th>\n",
       "      <th>target</th>\n",
       "    </tr>\n",
       "  </thead>\n",
       "  <tbody>\n",
       "    <tr>\n",
       "      <th>count</th>\n",
       "      <td>821.000000</td>\n",
       "      <td>821.000000</td>\n",
       "    </tr>\n",
       "    <tr>\n",
       "      <th>mean</th>\n",
       "      <td>512.590743</td>\n",
       "      <td>0.539586</td>\n",
       "    </tr>\n",
       "    <tr>\n",
       "      <th>std</th>\n",
       "      <td>296.586068</td>\n",
       "      <td>0.498734</td>\n",
       "    </tr>\n",
       "    <tr>\n",
       "      <th>min</th>\n",
       "      <td>1.000000</td>\n",
       "      <td>0.000000</td>\n",
       "    </tr>\n",
       "    <tr>\n",
       "      <th>25%</th>\n",
       "      <td>255.000000</td>\n",
       "      <td>0.000000</td>\n",
       "    </tr>\n",
       "    <tr>\n",
       "      <th>50%</th>\n",
       "      <td>514.000000</td>\n",
       "      <td>1.000000</td>\n",
       "    </tr>\n",
       "    <tr>\n",
       "      <th>75%</th>\n",
       "      <td>772.000000</td>\n",
       "      <td>1.000000</td>\n",
       "    </tr>\n",
       "    <tr>\n",
       "      <th>max</th>\n",
       "      <td>1022.000000</td>\n",
       "      <td>1.000000</td>\n",
       "    </tr>\n",
       "  </tbody>\n",
       "</table>\n",
       "</div>"
      ],
      "text/plain": [
       "                id      target\n",
       "count   821.000000  821.000000\n",
       "mean    512.590743    0.539586\n",
       "std     296.586068    0.498734\n",
       "min       1.000000    0.000000\n",
       "25%     255.000000    0.000000\n",
       "50%     514.000000    1.000000\n",
       "75%     772.000000    1.000000\n",
       "max    1022.000000    1.000000"
      ]
     },
     "execution_count": 1759,
     "metadata": {},
     "output_type": "execute_result"
    }
   ],
   "source": [
    "train.describe()"
   ]
  },
  {
   "cell_type": "code",
   "execution_count": 1760,
   "id": "9c4c3260",
   "metadata": {
    "execution": {
     "iopub.execute_input": "2023-05-29T06:45:12.553688Z",
     "iopub.status.busy": "2023-05-29T06:45:12.553190Z",
     "iopub.status.idle": "2023-05-29T06:45:12.572768Z",
     "shell.execute_reply": "2023-05-29T06:45:12.571344Z"
    },
    "papermill": {
     "duration": 0.040433,
     "end_time": "2023-05-29T06:45:12.575876",
     "exception": false,
     "start_time": "2023-05-29T06:45:12.535443",
     "status": "completed"
    },
    "tags": []
   },
   "outputs": [
    {
     "name": "stdout",
     "output_type": "stream",
     "text": [
      "<class 'pandas.core.frame.DataFrame'>\n",
      "RangeIndex: 821 entries, 0 to 820\n",
      "Data columns (total 3 columns):\n",
      " #   Column  Non-Null Count  Dtype \n",
      "---  ------  --------------  ----- \n",
      " 0   id      821 non-null    int64 \n",
      " 1   text    821 non-null    object\n",
      " 2   target  821 non-null    int64 \n",
      "dtypes: int64(2), object(1)\n",
      "memory usage: 19.4+ KB\n"
     ]
    }
   ],
   "source": [
    "train.info()"
   ]
  },
  {
   "cell_type": "code",
   "execution_count": 1761,
   "id": "2d035d51",
   "metadata": {
    "execution": {
     "iopub.execute_input": "2023-05-29T06:45:12.611687Z",
     "iopub.status.busy": "2023-05-29T06:45:12.610455Z",
     "iopub.status.idle": "2023-05-29T06:45:12.622985Z",
     "shell.execute_reply": "2023-05-29T06:45:12.621564Z"
    },
    "papermill": {
     "duration": 0.033811,
     "end_time": "2023-05-29T06:45:12.626137",
     "exception": false,
     "start_time": "2023-05-29T06:45:12.592326",
     "status": "completed"
    },
    "tags": []
   },
   "outputs": [
    {
     "data": {
      "text/plain": [
       "id        0\n",
       "text      0\n",
       "target    0\n",
       "dtype: int64"
      ]
     },
     "execution_count": 1761,
     "metadata": {},
     "output_type": "execute_result"
    }
   ],
   "source": [
    "train.isnull().sum()"
   ]
  },
  {
   "cell_type": "code",
   "execution_count": 1762,
   "id": "62eb98ab",
   "metadata": {
    "execution": {
     "iopub.execute_input": "2023-05-29T06:45:12.660866Z",
     "iopub.status.busy": "2023-05-29T06:45:12.660022Z",
     "iopub.status.idle": "2023-05-29T06:45:12.674665Z",
     "shell.execute_reply": "2023-05-29T06:45:12.673240Z"
    },
    "papermill": {
     "duration": 0.034901,
     "end_time": "2023-05-29T06:45:12.677474",
     "exception": false,
     "start_time": "2023-05-29T06:45:12.642573",
     "status": "completed"
    },
    "tags": []
   },
   "outputs": [
    {
     "name": "stdout",
     "output_type": "stream",
     "text": [
      "<class 'pandas.core.frame.DataFrame'>\n",
      "RangeIndex: 201 entries, 0 to 200\n",
      "Data columns (total 3 columns):\n",
      " #   Column   Non-Null Count  Dtype \n",
      "---  ------   --------------  ----- \n",
      " 0   id       201 non-null    int64 \n",
      " 1   keyword  201 non-null    object\n",
      " 2   text     201 non-null    object\n",
      "dtypes: int64(1), object(2)\n",
      "memory usage: 4.8+ KB\n"
     ]
    }
   ],
   "source": [
    "test.info()"
   ]
  },
  {
   "cell_type": "code",
   "execution_count": 1763,
   "id": "e9e3f883",
   "metadata": {
    "execution": {
     "iopub.execute_input": "2023-05-29T06:45:12.712318Z",
     "iopub.status.busy": "2023-05-29T06:45:12.711233Z",
     "iopub.status.idle": "2023-05-29T06:45:12.728157Z",
     "shell.execute_reply": "2023-05-29T06:45:12.726660Z"
    },
    "papermill": {
     "duration": 0.037488,
     "end_time": "2023-05-29T06:45:12.731125",
     "exception": false,
     "start_time": "2023-05-29T06:45:12.693637",
     "status": "completed"
    },
    "tags": []
   },
   "outputs": [
    {
     "data": {
      "text/html": [
       "<div>\n",
       "<style scoped>\n",
       "    .dataframe tbody tr th:only-of-type {\n",
       "        vertical-align: middle;\n",
       "    }\n",
       "\n",
       "    .dataframe tbody tr th {\n",
       "        vertical-align: top;\n",
       "    }\n",
       "\n",
       "    .dataframe thead th {\n",
       "        text-align: right;\n",
       "    }\n",
       "</style>\n",
       "<table border=\"1\" class=\"dataframe\">\n",
       "  <thead>\n",
       "    <tr style=\"text-align: right;\">\n",
       "      <th></th>\n",
       "      <th>id</th>\n",
       "      <th>keyword</th>\n",
       "      <th>text</th>\n",
       "    </tr>\n",
       "  </thead>\n",
       "  <tbody>\n",
       "    <tr>\n",
       "      <th>152</th>\n",
       "      <td>759</td>\n",
       "      <td>lốc xoáy</td>\n",
       "      <td>Tuyết, lụt lội, và có thể lốc xoáy đe dọa 11 t...</td>\n",
       "    </tr>\n",
       "    <tr>\n",
       "      <th>143</th>\n",
       "      <td>715</td>\n",
       "      <td>lốc xoáy</td>\n",
       "      <td>@TNC404 chuẩn bị lốc xoáy luôn rồi . không còn...</td>\n",
       "    </tr>\n",
       "    <tr>\n",
       "      <th>101</th>\n",
       "      <td>512</td>\n",
       "      <td>khủng bố</td>\n",
       "      <td>\"Thế giới ngồi nhìn nhà nước khủng bố Nga phón...</td>\n",
       "    </tr>\n",
       "    <tr>\n",
       "      <th>95</th>\n",
       "      <td>483</td>\n",
       "      <td>khủng bố</td>\n",
       "      <td>Putin đã đệ trình lên Duma Quốc gia dự thảo lu...</td>\n",
       "    </tr>\n",
       "    <tr>\n",
       "      <th>85</th>\n",
       "      <td>438</td>\n",
       "      <td>khủng bố</td>\n",
       "      <td>@robbystarbuck @EricSpracklen Bày nhìn vào nhữ...</td>\n",
       "    </tr>\n",
       "    <tr>\n",
       "      <th>90</th>\n",
       "      <td>462</td>\n",
       "      <td>khủng bố</td>\n",
       "      <td>Tổ chức khủng bố này tại sao có thể ngang nhiê...</td>\n",
       "    </tr>\n",
       "    <tr>\n",
       "      <th>49</th>\n",
       "      <td>256</td>\n",
       "      <td>cháy</td>\n",
       "      <td>Camera AI cháy rừng https://t.co/xDFHeCfhDg</td>\n",
       "    </tr>\n",
       "    <tr>\n",
       "      <th>36</th>\n",
       "      <td>196</td>\n",
       "      <td>cấp cứu</td>\n",
       "      <td>Ghi nhận 2.000 ca đánh nhau phải khám, cấp cứu...</td>\n",
       "    </tr>\n",
       "    <tr>\n",
       "      <th>69</th>\n",
       "      <td>354</td>\n",
       "      <td>hỏa hoạn</td>\n",
       "      <td>「Khi có hỏa hoạn xin đừng sử dụng thang máy」 h...</td>\n",
       "    </tr>\n",
       "    <tr>\n",
       "      <th>123</th>\n",
       "      <td>613</td>\n",
       "      <td>lốc xoáy</td>\n",
       "      <td>Hậu quả khi lốc xoáy và hoả hoạn xảy ra cùng t...</td>\n",
       "    </tr>\n",
       "  </tbody>\n",
       "</table>\n",
       "</div>"
      ],
      "text/plain": [
       "      id   keyword                                               text\n",
       "152  759  lốc xoáy  Tuyết, lụt lội, và có thể lốc xoáy đe dọa 11 t...\n",
       "143  715  lốc xoáy  @TNC404 chuẩn bị lốc xoáy luôn rồi . không còn...\n",
       "101  512  khủng bố  \"Thế giới ngồi nhìn nhà nước khủng bố Nga phón...\n",
       "95   483  khủng bố  Putin đã đệ trình lên Duma Quốc gia dự thảo lu...\n",
       "85   438  khủng bố  @robbystarbuck @EricSpracklen Bày nhìn vào nhữ...\n",
       "90   462  khủng bố  Tổ chức khủng bố này tại sao có thể ngang nhiê...\n",
       "49   256      cháy        Camera AI cháy rừng https://t.co/xDFHeCfhDg\n",
       "36   196   cấp cứu  Ghi nhận 2.000 ca đánh nhau phải khám, cấp cứu...\n",
       "69   354  hỏa hoạn  「Khi có hỏa hoạn xin đừng sử dụng thang máy」 h...\n",
       "123  613  lốc xoáy  Hậu quả khi lốc xoáy và hoả hoạn xảy ra cùng t..."
      ]
     },
     "execution_count": 1763,
     "metadata": {},
     "output_type": "execute_result"
    }
   ],
   "source": [
    "test.sample(10)"
   ]
  },
  {
   "cell_type": "code",
   "execution_count": 1764,
   "id": "5ae0c0d1",
   "metadata": {
    "execution": {
     "iopub.execute_input": "2023-05-29T06:45:12.766378Z",
     "iopub.status.busy": "2023-05-29T06:45:12.765534Z",
     "iopub.status.idle": "2023-05-29T06:45:12.777122Z",
     "shell.execute_reply": "2023-05-29T06:45:12.775584Z"
    },
    "papermill": {
     "duration": 0.032891,
     "end_time": "2023-05-29T06:45:12.780333",
     "exception": false,
     "start_time": "2023-05-29T06:45:12.747442",
     "status": "completed"
    },
    "tags": []
   },
   "outputs": [
    {
     "data": {
      "text/plain": [
       "id         0\n",
       "keyword    0\n",
       "text       0\n",
       "dtype: int64"
      ]
     },
     "execution_count": 1764,
     "metadata": {},
     "output_type": "execute_result"
    }
   ],
   "source": [
    "test.isnull().sum()"
   ]
  },
  {
   "cell_type": "code",
   "execution_count": 1765,
   "id": "0abdb8e1",
   "metadata": {
    "execution": {
     "iopub.execute_input": "2023-05-29T06:45:12.816330Z",
     "iopub.status.busy": "2023-05-29T06:45:12.815865Z",
     "iopub.status.idle": "2023-05-29T06:45:12.825641Z",
     "shell.execute_reply": "2023-05-29T06:45:12.824321Z"
    },
    "papermill": {
     "duration": 0.030534,
     "end_time": "2023-05-29T06:45:12.828125",
     "exception": false,
     "start_time": "2023-05-29T06:45:12.797591",
     "status": "completed"
    },
    "tags": []
   },
   "outputs": [
    {
     "data": {
      "text/plain": [
       "1    443\n",
       "0    378\n",
       "Name: target, dtype: int64"
      ]
     },
     "execution_count": 1765,
     "metadata": {},
     "output_type": "execute_result"
    }
   ],
   "source": [
    "train['target'].value_counts()"
   ]
  },
  {
   "cell_type": "code",
   "execution_count": 1766,
   "id": "c0bff75b",
   "metadata": {
    "execution": {
     "iopub.execute_input": "2023-05-29T06:45:12.863440Z",
     "iopub.status.busy": "2023-05-29T06:45:12.862950Z",
     "iopub.status.idle": "2023-05-29T06:45:12.874125Z",
     "shell.execute_reply": "2023-05-29T06:45:12.872272Z"
    },
    "papermill": {
     "duration": 0.032248,
     "end_time": "2023-05-29T06:45:12.877038",
     "exception": false,
     "start_time": "2023-05-29T06:45:12.844790",
     "status": "completed"
    },
    "tags": []
   },
   "outputs": [
    {
     "name": "stdout",
     "output_type": "stream",
     "text": [
      "Tweets thường :\n",
      "\n",
      " ['@bongBAYC có thở đâu ..đi cấp cứu zôi'\n",
      " '@OUchan_hubi_ C cũng cần cấp cứu rồi Chan ơi ....khen Bin xong hết thời gian'\n",
      " '@nngoc210 Cấp cứu, ô xi thiếu vs tấm này \\U0001fae6\\U0001fae6 https://t.co/jTrsDnhKxW'\n",
      " '@NguyenDuyTai18 Làm gì có bs yta thì làm dc mịa gì . Đưa đi cấp cứu chứ . Trẻ con ăn uống phải có sự kiểm soát'\n",
      " 'Hanbin thật bad boy mà =)) cần cấp cứu gấp https://t.co/aZzHMkP8ez'\n",
      " 'má nó chứ đang đi tìm phông chữ dở mà mắc miếng bánh chưng vô họng đi cấp cứu hay gì trời mà design ra đc quả ảnh này vậy'\n",
      " '@itsnotthatbadok Lỡ bài mới thì gọi cấp cứu cho chị =))'\n",
      " '@chimai101064 thì cấp cứu tạm thời cho bà'\n",
      " '@SerenaLy2468 đợi vài ngày nữa t cấp cứu cái đt xong đã nhá =))))'\n",
      " '@futacb614 nhiều quả tay ngang viết đỉnh lắm, năm ngoái t đọc fic trên ao3 mà còn có quả cấp cứu sản giật lạy từ dưới lạy lên cmnl, mà fic kphai có mỗi y mà kiến thức nền tôn giáo đ nào cũng biết í vì main chơi hệ phép thuật =))']\n",
      "\n",
      "Tweets thảm họa :\n",
      "\n",
      " ['Tin Nóng Lũ Lụt Trung Quốc Hôm Nay 07/07/2022 | Tin Bão Lũ Trung Quốc ... https://t.co/t9IjilZ0Si via @YouTube'\n",
      " 'Tin Nóng Lũ Lụt Trung Quốc Hôm Nay 05/07/2022 | Tin Bão Lũ Trung Quốc ... https://t.co/r34DgT3FSs qua @YouTube'\n",
      " 'Tin Nóng Lũ Lụt Trung Quốc Hôm Nay 29/06/2022 | Tin Bão Lũ Trung Quốc ... https://t.co/9gFws6paL5 qua @YouTube'\n",
      " 'Tin Nóng Lũ Lụt Trung Quốc Hôm Nay 25/06/2022 | Tin Bão Lũ Trung Quốc Mới Nhất | NEWS VN\\n1,913 watching now\\nStarted streaming 59 minutes ago\\nhttps://t.co/zVRUs9bexa'\n",
      " '@kaido99VNCH @RepublicofVN Ông nói tôi k biết gì, đúng tôi trẻ ng non dạ. Nên chỗ tôi dân có k giàu nhưng luôn được các cấp, các ban ngành hỗ trợ hàng tháng đấy. Còn mỗi lần bão lũ, bố mẹ tôi vẫn đi chống bão tại đây đấy bạn? Dịch vẫn đi cấp phẩm đấy.'\n",
      " 'Bão lũ càn quét đường phố Mỹ, xe ô tô nằm la liệt giữa vùng nước sâu https://t.co/IKrix9HvSz'\n",
      " 'Bạn có biết các loại cảnh báo khác nhau có nghĩa là gì không? Để giúp chuẩn bị, hãy tìm hiểu sự khác biệt giữa lời khuyên, quan sát và cảnh báo lũ lụt. \\n\\nĐể biết thêm thông tin về điều kiện thời tiết và cập nhật thời tiết, hãy truy cập \\n@NWSHouston! https://t.co/A3rUhgrsj8'\n",
      " '@linhlckt1 Hiện tượng dự báo sẽ có mưa lớn và bão lũ'\n",
      " 'Phát triển mô hình học máy để dự báo lũ quét và sạt lở đất trên các tuyến đường bộ https://t.co/zCmBH3wf8L'\n",
      " 'Ngôi nhà nằm cô độc trên một mỏm đá, giữa núi rừng, không chịu khuất phục bão lũ https://t.co/z4Y3uNfbZM']\n"
     ]
    }
   ],
   "source": [
    "print(f\"Tweets thường :\\n\\n {train.loc[train['target']==0,'text'][50:60].values}\", end=\"\\n\")\n",
    "\n",
    "print()\n",
    "\n",
    "print(f\"Tweets thảm họa :\\n\\n {train.loc[train['target']==1,'text'][50:60].values}\", end=\"\\n\")"
   ]
  },
  {
   "cell_type": "code",
   "execution_count": 1767,
   "id": "073ae527",
   "metadata": {
    "execution": {
     "iopub.execute_input": "2023-05-29T06:45:12.947083Z",
     "iopub.status.busy": "2023-05-29T06:45:12.946664Z",
     "iopub.status.idle": "2023-05-29T06:45:12.954466Z",
     "shell.execute_reply": "2023-05-29T06:45:12.953019Z"
    },
    "papermill": {
     "duration": 0.029329,
     "end_time": "2023-05-29T06:45:12.957248",
     "exception": false,
     "start_time": "2023-05-29T06:45:12.927919",
     "status": "completed"
    },
    "tags": []
   },
   "outputs": [],
   "source": [
    "def preprocessing(text):\n",
    "    text = text.lower()\n",
    "    # Remove URLs\n",
    "    text = re.sub(r'https?://\\S+', '', text)\n",
    "    # Remove tags and hashtags\n",
    "    text = re.sub(r'@[a-zA-Z0-9_]+', '', text)\n",
    "    text = re.sub(r'#\\S+', '', text)\n",
    "    pattern = re.compile('[^a-z]')\n",
    "    words = nltk.word_tokenize(text)\n",
    "    preprocessed_text = ' '.join(words)\n",
    "    return preprocessed_text"
   ]
  },
  {
   "cell_type": "code",
   "execution_count": 1768,
   "id": "5c9886cc",
   "metadata": {},
   "outputs": [],
   "source": [
    "\n",
    "def remove_punctuation(text):\n",
    "    translator = str.maketrans('','',string.punctuation)\n",
    "    return text.translate(translator)\n",
    "    "
   ]
  },
  {
   "cell_type": "code",
   "execution_count": 1769,
   "id": "c4546e49",
   "metadata": {},
   "outputs": [],
   "source": [
    "def remove_urls(text):\n",
    "    url_pattern = re.compile(r'https?://\\S+|www\\.\\S+')\n",
    "    return url_pattern.sub('', text)"
   ]
  },
  {
   "cell_type": "code",
   "execution_count": 1770,
   "id": "74ed1d62",
   "metadata": {},
   "outputs": [],
   "source": [
    "def remove_stopwords(text, filename):\n",
    "    with open(filename, 'r') as f:\n",
    "        words_to_remove = set(f.read().splitlines())\n",
    "    words = text.split()\n",
    "    cleaned_words = [word for word in words if word not in words_to_remove]\n",
    "    cleaned_text = ' '.join(cleaned_words)\n",
    "    return cleaned_text"
   ]
  },
  {
   "cell_type": "code",
   "execution_count": 1771,
   "id": "95dba5ac",
   "metadata": {},
   "outputs": [],
   "source": [
    "# Define a function to tokenize the text\n",
    "def tokenize_text(text):\n",
    "    return ViTokenizer.tokenize(text)"
   ]
  },
  {
   "cell_type": "code",
   "execution_count": 1772,
   "id": "601667ed",
   "metadata": {
    "execution": {
     "iopub.execute_input": "2023-05-29T06:45:12.994747Z",
     "iopub.status.busy": "2023-05-29T06:45:12.993843Z",
     "iopub.status.idle": "2023-05-29T06:45:25.970697Z",
     "shell.execute_reply": "2023-05-29T06:45:25.969264Z"
    },
    "papermill": {
     "duration": 12.999571,
     "end_time": "2023-05-29T06:45:25.973949",
     "exception": false,
     "start_time": "2023-05-29T06:45:12.974378",
     "status": "completed"
    },
    "tags": []
   },
   "outputs": [
    {
     "data": {
      "text/html": [
       "<div>\n",
       "<style scoped>\n",
       "    .dataframe tbody tr th:only-of-type {\n",
       "        vertical-align: middle;\n",
       "    }\n",
       "\n",
       "    .dataframe tbody tr th {\n",
       "        vertical-align: top;\n",
       "    }\n",
       "\n",
       "    .dataframe thead th {\n",
       "        text-align: right;\n",
       "    }\n",
       "</style>\n",
       "<table border=\"1\" class=\"dataframe\">\n",
       "  <thead>\n",
       "    <tr style=\"text-align: right;\">\n",
       "      <th></th>\n",
       "      <th>id</th>\n",
       "      <th>text</th>\n",
       "      <th>target</th>\n",
       "      <th>text_cleaned</th>\n",
       "    </tr>\n",
       "  </thead>\n",
       "  <tbody>\n",
       "    <tr>\n",
       "      <th>0</th>\n",
       "      <td>1</td>\n",
       "      <td>@WoodyLightyearx Mainnet mở 14/3/2023 là mốc l...</td>\n",
       "      <td>1</td>\n",
       "      <td>mainnet 1432023 mốc lịch_sử trọng_đại cứu_cánh...</td>\n",
       "    </tr>\n",
       "    <tr>\n",
       "      <th>1</th>\n",
       "      <td>3</td>\n",
       "      <td>Chúc các phu nhân đc lì xì nhìu nhìu tiền zô n...</td>\n",
       "      <td>0</td>\n",
       "      <td>chúc phu_nhân đc lì_xì nhìu nhìu tiền zô bão l...</td>\n",
       "    </tr>\n",
       "    <tr>\n",
       "      <th>2</th>\n",
       "      <td>4</td>\n",
       "      <td>@LamNguy40552955 Dân Thanh Hoá ngày trước nghè...</td>\n",
       "      <td>1</td>\n",
       "      <td>dân hoá nghèo lắm hậu khắc_nghiệt mất_mùa bão ...</td>\n",
       "    </tr>\n",
       "    <tr>\n",
       "      <th>3</th>\n",
       "      <td>5</td>\n",
       "      <td>Bão lũ, cháy rừng gây thiệt hại trên 353 tỷ US...</td>\n",
       "      <td>1</td>\n",
       "      <td>bão lũ cháy rừng thiệt_hại 353 tỷ usd 2022</td>\n",
       "    </tr>\n",
       "    <tr>\n",
       "      <th>4</th>\n",
       "      <td>6</td>\n",
       "      <td>@wwwaenii Mấy con đin này lại kỳ thị Việt kiều...</td>\n",
       "      <td>0</td>\n",
       "      <td>mấy đin kỳ_thị việt_kiều chúng_nó đ bão lũ hội...</td>\n",
       "    </tr>\n",
       "    <tr>\n",
       "      <th>...</th>\n",
       "      <td>...</td>\n",
       "      <td>...</td>\n",
       "      <td>...</td>\n",
       "      <td>...</td>\n",
       "    </tr>\n",
       "    <tr>\n",
       "      <th>816</th>\n",
       "      <td>1016</td>\n",
       "      <td>WHO phát đi môṭ thông điệp cảnh báo thế giới đ...</td>\n",
       "      <td>1</td>\n",
       "      <td>who phát đi môṭ thông_điệp cảnh_báo thế_giới</td>\n",
       "    </tr>\n",
       "    <tr>\n",
       "      <th>817</th>\n",
       "      <td>1018</td>\n",
       "      <td>Các hành tinh xếp thẳng hàng cùng với sự xuất ...</td>\n",
       "      <td>1</td>\n",
       "      <td>hành_tinh xếp thẳng hàng xuất_hiện</td>\n",
       "    </tr>\n",
       "    <tr>\n",
       "      <th>818</th>\n",
       "      <td>1020</td>\n",
       "      <td>\"Chính phủ có kế hoạch thực hiện \"\"đánh giá rủ...</td>\n",
       "      <td>1</td>\n",
       "      <td>chính_phủ kế_hoạch thực_hiện đánh_giá rủi_ro</td>\n",
       "    </tr>\n",
       "    <tr>\n",
       "      <th>819</th>\n",
       "      <td>1021</td>\n",
       "      <td>@ZelenskyyUa Cái ý thức tập thể của mấy người ...</td>\n",
       "      <td>1</td>\n",
       "      <td>ý_thức tập_thể mấy</td>\n",
       "    </tr>\n",
       "    <tr>\n",
       "      <th>820</th>\n",
       "      <td>1022</td>\n",
       "      <td>@ZelenskyyUa Những người đã chết trong thảm họ...</td>\n",
       "      <td>1</td>\n",
       "      <td>chết thảm_họa</td>\n",
       "    </tr>\n",
       "  </tbody>\n",
       "</table>\n",
       "<p>821 rows × 4 columns</p>\n",
       "</div>"
      ],
      "text/plain": [
       "       id                                               text  target  \\\n",
       "0       1  @WoodyLightyearx Mainnet mở 14/3/2023 là mốc l...       1   \n",
       "1       3  Chúc các phu nhân đc lì xì nhìu nhìu tiền zô n...       0   \n",
       "2       4  @LamNguy40552955 Dân Thanh Hoá ngày trước nghè...       1   \n",
       "3       5  Bão lũ, cháy rừng gây thiệt hại trên 353 tỷ US...       1   \n",
       "4       6  @wwwaenii Mấy con đin này lại kỳ thị Việt kiều...       0   \n",
       "..    ...                                                ...     ...   \n",
       "816  1016  WHO phát đi môṭ thông điệp cảnh báo thế giới đ...       1   \n",
       "817  1018  Các hành tinh xếp thẳng hàng cùng với sự xuất ...       1   \n",
       "818  1020  \"Chính phủ có kế hoạch thực hiện \"\"đánh giá rủ...       1   \n",
       "819  1021  @ZelenskyyUa Cái ý thức tập thể của mấy người ...       1   \n",
       "820  1022  @ZelenskyyUa Những người đã chết trong thảm họ...       1   \n",
       "\n",
       "                                          text_cleaned  \n",
       "0    mainnet 1432023 mốc lịch_sử trọng_đại cứu_cánh...  \n",
       "1    chúc phu_nhân đc lì_xì nhìu nhìu tiền zô bão l...  \n",
       "2    dân hoá nghèo lắm hậu khắc_nghiệt mất_mùa bão ...  \n",
       "3           bão lũ cháy rừng thiệt_hại 353 tỷ usd 2022  \n",
       "4    mấy đin kỳ_thị việt_kiều chúng_nó đ bão lũ hội...  \n",
       "..                                                 ...  \n",
       "816       who phát đi môṭ thông_điệp cảnh_báo thế_giới  \n",
       "817                 hành_tinh xếp thẳng hàng xuất_hiện  \n",
       "818       chính_phủ kế_hoạch thực_hiện đánh_giá rủi_ro  \n",
       "819                                 ý_thức tập_thể mấy  \n",
       "820                                      chết thảm_họa  \n",
       "\n",
       "[821 rows x 4 columns]"
      ]
     },
     "execution_count": 1772,
     "metadata": {},
     "output_type": "execute_result"
    }
   ],
   "source": [
    "filename = 'vietnamese-stopwords.txt'\n",
    "train['text_cleaned']=train['text'].apply(preprocessing).apply(remove_urls).apply(remove_punctuation).apply(tokenize_text).apply(remove_stopwords, args=(filename,))\n",
    "test['text_cleaned']=test['text'].apply(preprocessing).apply(remove_urls).apply(remove_punctuation).apply(tokenize_text).apply(remove_stopwords, args=(filename,))\n",
    "train\n"
   ]
  },
  {
   "cell_type": "code",
   "execution_count": 1773,
   "id": "3ccba838",
   "metadata": {},
   "outputs": [
    {
     "data": {
      "text/html": [
       "<div>\n",
       "<style scoped>\n",
       "    .dataframe tbody tr th:only-of-type {\n",
       "        vertical-align: middle;\n",
       "    }\n",
       "\n",
       "    .dataframe tbody tr th {\n",
       "        vertical-align: top;\n",
       "    }\n",
       "\n",
       "    .dataframe thead th {\n",
       "        text-align: right;\n",
       "    }\n",
       "</style>\n",
       "<table border=\"1\" class=\"dataframe\">\n",
       "  <thead>\n",
       "    <tr style=\"text-align: right;\">\n",
       "      <th></th>\n",
       "      <th>id</th>\n",
       "      <th>keyword</th>\n",
       "      <th>text</th>\n",
       "      <th>text_cleaned</th>\n",
       "    </tr>\n",
       "  </thead>\n",
       "  <tbody>\n",
       "    <tr>\n",
       "      <th>0</th>\n",
       "      <td>2</td>\n",
       "      <td>bão lũ</td>\n",
       "      <td>@Wendy_851 Ngày trc táo bón nên chưa xả đc. Gi...</td>\n",
       "      <td>trc táo_bón xả đc đc dịp xả bão lũ</td>\n",
       "    </tr>\n",
       "    <tr>\n",
       "      <th>1</th>\n",
       "      <td>9</td>\n",
       "      <td>bão lũ</td>\n",
       "      <td>@nagai_yue Lời bài Heather conan gray\\nThánh c...</td>\n",
       "      <td>heather conan gray thánh_ca mùa đông chúa_tể t...</td>\n",
       "    </tr>\n",
       "    <tr>\n",
       "      <th>2</th>\n",
       "      <td>11</td>\n",
       "      <td>bão lũ</td>\n",
       "      <td>Hoa Kỳ và chiến dịch cứu trợ đồng bào lũ lụt V...</td>\n",
       "      <td>hoa kỳ chiến_dịch cứu_trợ đồng_bào lũ_lụt việt...</td>\n",
       "    </tr>\n",
       "    <tr>\n",
       "      <th>3</th>\n",
       "      <td>17</td>\n",
       "      <td>bão lũ</td>\n",
       "      <td>Hà nội dần chuyển lạnh rồi, để cái bếp lửa ở đ...</td>\n",
       "      <td>hà nội dần lạnh bếp lửa ấm_áp nè mong ảnh_hưởn...</td>\n",
       "    </tr>\n",
       "    <tr>\n",
       "      <th>4</th>\n",
       "      <td>21</td>\n",
       "      <td>bão lũ</td>\n",
       "      <td>@MarkTin_ Ngon ngon thanks a nhé. Bão lũ mà vẫ...</td>\n",
       "      <td>ngon ngon thanks a bão lũ có_ăn</td>\n",
       "    </tr>\n",
       "    <tr>\n",
       "      <th>...</th>\n",
       "      <td>...</td>\n",
       "      <td>...</td>\n",
       "      <td>...</td>\n",
       "      <td>...</td>\n",
       "    </tr>\n",
       "    <tr>\n",
       "      <th>196</th>\n",
       "      <td>1002</td>\n",
       "      <td>thảm hỏa</td>\n",
       "      <td>\"quay về với cherry bomb thôi\" 1 cô nương nào ...</td>\n",
       "      <td>cherry bomb 1 nương đcm 2017 cherry bomb coi t...</td>\n",
       "    </tr>\n",
       "    <tr>\n",
       "      <th>197</th>\n",
       "      <td>1008</td>\n",
       "      <td>thảm hỏa</td>\n",
       "      <td>Các hành tinh xếp thẳng hàng cùng với sự xuất ...</td>\n",
       "      <td>hành_tinh xếp thẳng hàng xuất_hiện ngôi_sao ch...</td>\n",
       "    </tr>\n",
       "    <tr>\n",
       "      <th>198</th>\n",
       "      <td>1010</td>\n",
       "      <td>thảm hỏa</td>\n",
       "      <td>đi trong nhà mà không có dép là một thảm họa</td>\n",
       "      <td>đi dép thảm_họa</td>\n",
       "    </tr>\n",
       "    <tr>\n",
       "      <th>199</th>\n",
       "      <td>1017</td>\n",
       "      <td>thảm họa</td>\n",
       "      <td>Đi trong nhà mà không có dép là một thảm họa</td>\n",
       "      <td>đi dép thảm_họa</td>\n",
       "    </tr>\n",
       "    <tr>\n",
       "      <th>200</th>\n",
       "      <td>1019</td>\n",
       "      <td>thảm họa</td>\n",
       "      <td>Khi thảm hoạ zombie</td>\n",
       "      <td>thảm_hoạ zombie</td>\n",
       "    </tr>\n",
       "  </tbody>\n",
       "</table>\n",
       "<p>201 rows × 4 columns</p>\n",
       "</div>"
      ],
      "text/plain": [
       "       id   keyword                                               text  \\\n",
       "0       2    bão lũ  @Wendy_851 Ngày trc táo bón nên chưa xả đc. Gi...   \n",
       "1       9    bão lũ  @nagai_yue Lời bài Heather conan gray\\nThánh c...   \n",
       "2      11    bão lũ  Hoa Kỳ và chiến dịch cứu trợ đồng bào lũ lụt V...   \n",
       "3      17    bão lũ  Hà nội dần chuyển lạnh rồi, để cái bếp lửa ở đ...   \n",
       "4      21    bão lũ  @MarkTin_ Ngon ngon thanks a nhé. Bão lũ mà vẫ...   \n",
       "..    ...       ...                                                ...   \n",
       "196  1002  thảm hỏa  \"quay về với cherry bomb thôi\" 1 cô nương nào ...   \n",
       "197  1008  thảm hỏa  Các hành tinh xếp thẳng hàng cùng với sự xuất ...   \n",
       "198  1010  thảm hỏa       đi trong nhà mà không có dép là một thảm họa   \n",
       "199  1017  thảm họa       Đi trong nhà mà không có dép là một thảm họa   \n",
       "200  1019  thảm họa                                Khi thảm hoạ zombie   \n",
       "\n",
       "                                          text_cleaned  \n",
       "0                   trc táo_bón xả đc đc dịp xả bão lũ  \n",
       "1    heather conan gray thánh_ca mùa đông chúa_tể t...  \n",
       "2    hoa kỳ chiến_dịch cứu_trợ đồng_bào lũ_lụt việt...  \n",
       "3    hà nội dần lạnh bếp lửa ấm_áp nè mong ảnh_hưởn...  \n",
       "4                      ngon ngon thanks a bão lũ có_ăn  \n",
       "..                                                 ...  \n",
       "196  cherry bomb 1 nương đcm 2017 cherry bomb coi t...  \n",
       "197  hành_tinh xếp thẳng hàng xuất_hiện ngôi_sao ch...  \n",
       "198                                    đi dép thảm_họa  \n",
       "199                                    đi dép thảm_họa  \n",
       "200                                    thảm_hoạ zombie  \n",
       "\n",
       "[201 rows x 4 columns]"
      ]
     },
     "execution_count": 1773,
     "metadata": {},
     "output_type": "execute_result"
    }
   ],
   "source": [
    "test"
   ]
  },
  {
   "cell_type": "code",
   "execution_count": 1774,
   "id": "5e6230d1",
   "metadata": {
    "execution": {
     "iopub.execute_input": "2023-05-29T06:45:26.011381Z",
     "iopub.status.busy": "2023-05-29T06:45:26.009925Z",
     "iopub.status.idle": "2023-05-29T06:45:26.016420Z",
     "shell.execute_reply": "2023-05-29T06:45:26.015071Z"
    },
    "papermill": {
     "duration": 0.028207,
     "end_time": "2023-05-29T06:45:26.019460",
     "exception": false,
     "start_time": "2023-05-29T06:45:25.991253",
     "status": "completed"
    },
    "tags": []
   },
   "outputs": [],
   "source": [
    "x=train['text_cleaned'].values\n",
    "y=train['target'].values"
   ]
  },
  {
   "cell_type": "code",
   "execution_count": 1775,
   "id": "b105950b",
   "metadata": {
    "execution": {
     "iopub.execute_input": "2023-05-29T06:45:26.136594Z",
     "iopub.status.busy": "2023-05-29T06:45:26.135678Z",
     "iopub.status.idle": "2023-05-29T06:45:26.366109Z",
     "shell.execute_reply": "2023-05-29T06:45:26.364666Z"
    },
    "papermill": {
     "duration": 0.252353,
     "end_time": "2023-05-29T06:45:26.369097",
     "exception": false,
     "start_time": "2023-05-29T06:45:26.116744",
     "status": "completed"
    },
    "tags": []
   },
   "outputs": [],
   "source": [
    "classifier=CountVectorizer()\n",
    "x=classifier.fit_transform(x)"
   ]
  },
  {
   "cell_type": "code",
   "execution_count": 1776,
   "id": "98d34453",
   "metadata": {
    "execution": {
     "iopub.execute_input": "2023-05-29T06:45:26.406429Z",
     "iopub.status.busy": "2023-05-29T06:45:26.405930Z",
     "iopub.status.idle": "2023-05-29T06:45:26.418195Z",
     "shell.execute_reply": "2023-05-29T06:45:26.417169Z"
    },
    "papermill": {
     "duration": 0.03405,
     "end_time": "2023-05-29T06:45:26.421099",
     "exception": false,
     "start_time": "2023-05-29T06:45:26.387049",
     "status": "completed"
    },
    "tags": []
   },
   "outputs": [],
   "source": [
    "x_train,x_test,y_train,y_test=train_test_split(x,y,test_size=.1,random_state=27,stratify=y)"
   ]
  },
  {
   "cell_type": "code",
   "execution_count": 1777,
   "id": "fc22b573",
   "metadata": {},
   "outputs": [
    {
     "name": "stdout",
     "output_type": "stream",
     "text": [
      "xoáy: 304\n",
      "lốc: 301\n",
      "khủng_bố: 176\n",
      "bão: 168\n",
      "lũ: 136\n",
      "đi: 82\n",
      "mỹ: 81\n",
      "trung: 65\n",
      "cấp_cứu: 61\n",
      "nga: 55\n"
     ]
    }
   ],
   "source": [
    "vocabulary = classifier.get_feature_names_out()\n",
    "word_counts = x.sum(axis=0)\n",
    "word_freqs = [(word, count) for word, count in zip(vocabulary, word_counts.tolist()[0])]\n",
    "sorted_word_freqs = sorted(word_freqs, key=lambda x: x[1], reverse=True)\n",
    "top_10_words = sorted_word_freqs[:10]\n",
    "for word, count in top_10_words:\n",
    "    print(f\"{word}: {count}\")"
   ]
  },
  {
   "cell_type": "code",
   "execution_count": 1778,
   "id": "7030bb4b",
   "metadata": {},
   "outputs": [
    {
     "name": "stdout",
     "output_type": "stream",
     "text": [
      "Độ dài trung bình của các dòng dữ liệu:\n",
      "[[0.00643463]\n",
      " [0.00380228]\n",
      " [0.00789705]\n",
      " [0.00263235]\n",
      " [0.0070196 ]\n",
      " [0.00643463]\n",
      " [0.0052647 ]\n",
      " [0.00263235]\n",
      " [0.00409476]\n",
      " [0.00409476]\n",
      " [0.00204738]\n",
      " [0.00087745]\n",
      " [0.00233987]\n",
      " [0.00233987]\n",
      " [0.00497221]\n",
      " [0.00263235]\n",
      " [0.00233987]\n",
      " [0.00321732]\n",
      " [0.00731208]\n",
      " [0.00555718]\n",
      " [0.00263235]\n",
      " [0.00380228]\n",
      " [0.00848201]\n",
      " [0.00204738]\n",
      " [0.0035098 ]\n",
      " [0.00146242]\n",
      " [0.00292483]\n",
      " [0.00292483]\n",
      " [0.0052647 ]\n",
      " [0.00555718]\n",
      " [0.00614215]\n",
      " [0.00146242]\n",
      " [0.00555718]\n",
      " [0.0070196 ]\n",
      " [0.00204738]\n",
      " [0.00263235]\n",
      " [0.0017549 ]\n",
      " [0.0087745 ]\n",
      " [0.00292483]\n",
      " [0.00233987]\n",
      " [0.00146242]\n",
      " [0.01023691]\n",
      " [0.00467973]\n",
      " [0.0052647 ]\n",
      " [0.00263235]\n",
      " [0.0035098 ]\n",
      " [0.00204738]\n",
      " [0.00263235]\n",
      " [0.00292483]\n",
      " [0.00146242]\n",
      " [0.00321732]\n",
      " [0.00321732]\n",
      " [0.00467973]\n",
      " [0.0035098 ]\n",
      " [0.00204738]\n",
      " [0.00321732]\n",
      " [0.00263235]\n",
      " [0.0070196 ]\n",
      " [0.00409476]\n",
      " [0.00731208]\n",
      " [0.00438725]\n",
      " [0.00380228]\n",
      " [0.00380228]\n",
      " [0.00292483]\n",
      " [0.00321732]\n",
      " [0.00438725]\n",
      " [0.00321732]\n",
      " [0.00321732]\n",
      " [0.00584966]\n",
      " [0.00321732]\n",
      " [0.00321732]\n",
      " [0.00380228]\n",
      " [0.00321732]\n",
      " [0.00146242]\n",
      " [0.00233987]\n",
      " [0.0035098 ]\n",
      " [0.00321732]\n",
      " [0.00292483]\n",
      " [0.00292483]\n",
      " [0.00584966]\n",
      " [0.00614215]\n",
      " [0.00146242]\n",
      " [0.00292483]\n",
      " [0.00292483]\n",
      " [0.00789705]\n",
      " [0.00204738]\n",
      " [0.00116993]\n",
      " [0.00467973]\n",
      " [0.00146242]\n",
      " [0.00233987]\n",
      " [0.00029248]\n",
      " [0.00643463]\n",
      " [0.00263235]\n",
      " [0.00233987]\n",
      " [0.00233987]\n",
      " [0.00233987]\n",
      " [0.00233987]\n",
      " [0.00233987]\n",
      " [0.00380228]\n",
      " [0.0017549 ]\n",
      " [0.00263235]\n",
      " [0.00292483]\n",
      " [0.00555718]\n",
      " [0.00584966]\n",
      " [0.00731208]\n",
      " [0.00263235]\n",
      " [0.00263235]\n",
      " [0.00643463]\n",
      " [0.00409476]\n",
      " [0.00380228]\n",
      " [0.00497221]\n",
      " [0.0070196 ]\n",
      " [0.00263235]\n",
      " [0.00204738]\n",
      " [0.0017549 ]\n",
      " [0.00614215]\n",
      " [0.00146242]\n",
      " [0.00233987]\n",
      " [0.00380228]\n",
      " [0.00233987]\n",
      " [0.00614215]\n",
      " [0.00731208]\n",
      " [0.00380228]\n",
      " [0.00731208]\n",
      " [0.00146242]\n",
      " [0.00321732]\n",
      " [0.00204738]\n",
      " [0.00146242]\n",
      " [0.00146242]\n",
      " [0.0070196 ]\n",
      " [0.0070196 ]\n",
      " [0.00321732]\n",
      " [0.0087745 ]\n",
      " [0.00380228]\n",
      " [0.00672711]\n",
      " [0.00146242]\n",
      " [0.00204738]\n",
      " [0.00204738]\n",
      " [0.00204738]\n",
      " [0.00087745]\n",
      " [0.00789705]\n",
      " [0.00116993]\n",
      " [0.00204738]\n",
      " [0.00292483]\n",
      " [0.00409476]\n",
      " [0.0052647 ]\n",
      " [0.0017549 ]\n",
      " [0.00087745]\n",
      " [0.00263235]\n",
      " [0.00146242]\n",
      " [0.00321732]\n",
      " [0.00409476]\n",
      " [0.00643463]\n",
      " [0.00848201]\n",
      " [0.00438725]\n",
      " [0.00146242]\n",
      " [0.00087745]\n",
      " [0.00058497]\n",
      " [0.00146242]\n",
      " [0.00380228]\n",
      " [0.00672711]\n",
      " [0.0052647 ]\n",
      " [0.00263235]\n",
      " [0.00584966]\n",
      " [0.0017549 ]\n",
      " [0.00555718]\n",
      " [0.00204738]\n",
      " [0.00438725]\n",
      " [0.00204738]\n",
      " [0.00116993]\n",
      " [0.00146242]\n",
      " [0.00292483]\n",
      " [0.00292483]\n",
      " [0.00467973]\n",
      " [0.00438725]\n",
      " [0.0052647 ]\n",
      " [0.00438725]\n",
      " [0.00146242]\n",
      " [0.00409476]\n",
      " [0.00292483]\n",
      " [0.0017549 ]\n",
      " [0.00380228]\n",
      " [0.00204738]\n",
      " [0.00087745]\n",
      " [0.0035098 ]\n",
      " [0.00204738]\n",
      " [0.00116993]\n",
      " [0.00555718]\n",
      " [0.00672711]\n",
      " [0.00146242]\n",
      " [0.0052647 ]\n",
      " [0.00497221]\n",
      " [0.00497221]\n",
      " [0.00643463]\n",
      " [0.00760456]\n",
      " [0.00321732]\n",
      " [0.0017549 ]\n",
      " [0.00672711]\n",
      " [0.00146242]\n",
      " [0.00321732]\n",
      " [0.00555718]\n",
      " [0.00555718]\n",
      " [0.00146242]\n",
      " [0.0017549 ]\n",
      " [0.00204738]\n",
      " [0.00263235]\n",
      " [0.00233987]\n",
      " [0.00263235]\n",
      " [0.00263235]\n",
      " [0.00643463]\n",
      " [0.00263235]\n",
      " [0.0070196 ]\n",
      " [0.00263235]\n",
      " [0.0017549 ]\n",
      " [0.00643463]\n",
      " [0.00263235]\n",
      " [0.0035098 ]\n",
      " [0.00321732]\n",
      " [0.00321732]\n",
      " [0.00263235]\n",
      " [0.00321732]\n",
      " [0.00146242]\n",
      " [0.00321732]\n",
      " [0.0017549 ]\n",
      " [0.00146242]\n",
      " [0.00906698]\n",
      " [0.00672711]\n",
      " [0.00263235]\n",
      " [0.00263235]\n",
      " [0.00146242]\n",
      " [0.00409476]\n",
      " [0.0070196 ]\n",
      " [0.00233987]\n",
      " [0.00146242]\n",
      " [0.00263235]\n",
      " [0.00643463]\n",
      " [0.00672711]\n",
      " [0.00584966]\n",
      " [0.00204738]\n",
      " [0.00584966]\n",
      " [0.00204738]\n",
      " [0.00935946]\n",
      " [0.00643463]\n",
      " [0.00204738]\n",
      " [0.00321732]\n",
      " [0.00321732]\n",
      " [0.00058497]\n",
      " [0.00818953]\n",
      " [0.00204738]\n",
      " [0.00818953]\n",
      " [0.00467973]\n",
      " [0.00263235]\n",
      " [0.00116993]\n",
      " [0.00497221]\n",
      " [0.00789705]\n",
      " [0.00146242]\n",
      " [0.00116993]\n",
      " [0.0035098 ]\n",
      " [0.00409476]\n",
      " [0.00146242]\n",
      " [0.00116993]\n",
      " [0.00116993]\n",
      " [0.00672711]\n",
      " [0.00848201]\n",
      " [0.00087745]\n",
      " [0.00409476]\n",
      " [0.00116993]\n",
      " [0.00497221]\n",
      " [0.00818953]\n",
      " [0.00116993]\n",
      " [0.00789705]\n",
      " [0.00731208]\n",
      " [0.00555718]\n",
      " [0.00555718]\n",
      " [0.00555718]\n",
      " [0.00497221]\n",
      " [0.00497221]\n",
      " [0.00292483]\n",
      " [0.00409476]\n",
      " [0.01023691]\n",
      " [0.00321732]\n",
      " [0.00116993]\n",
      " [0.00146242]\n",
      " [0.00789705]\n",
      " [0.00818953]\n",
      " [0.00116993]\n",
      " [0.00555718]\n",
      " [0.00321732]\n",
      " [0.00233987]\n",
      " [0.00409476]\n",
      " [0.00760456]\n",
      " [0.00087745]\n",
      " [0.00116993]\n",
      " [0.00087745]\n",
      " [0.00409476]\n",
      " [0.00672711]\n",
      " [0.00292483]\n",
      " [0.00204738]\n",
      " [0.00263235]\n",
      " [0.00292483]\n",
      " [0.00672711]\n",
      " [0.00233987]\n",
      " [0.0035098 ]\n",
      " [0.0017549 ]\n",
      " [0.00584966]\n",
      " [0.0070196 ]\n",
      " [0.00204738]\n",
      " [0.0052647 ]\n",
      " [0.00497221]\n",
      " [0.00438725]\n",
      " [0.00760456]\n",
      " [0.00614215]\n",
      " [0.00292483]\n",
      " [0.00584966]\n",
      " [0.00906698]\n",
      " [0.00789705]\n",
      " [0.0035098 ]\n",
      " [0.00146242]\n",
      " [0.00204738]\n",
      " [0.0052647 ]\n",
      " [0.00672711]\n",
      " [0.00233987]\n",
      " [0.00233987]\n",
      " [0.00555718]\n",
      " [0.00087745]\n",
      " [0.00321732]\n",
      " [0.01169933]\n",
      " [0.0017549 ]\n",
      " [0.00292483]\n",
      " [0.00643463]\n",
      " [0.00731208]\n",
      " [0.00672711]\n",
      " [0.00497221]\n",
      " [0.00614215]\n",
      " [0.00409476]\n",
      " [0.00321732]\n",
      " [0.00555718]\n",
      " [0.00438725]\n",
      " [0.00438725]\n",
      " [0.00584966]\n",
      " [0.00058497]\n",
      " [0.00087745]\n",
      " [0.00321732]\n",
      " [0.0035098 ]\n",
      " [0.00672711]\n",
      " [0.00263235]\n",
      " [0.00146242]\n",
      " [0.00614215]\n",
      " [0.00789705]\n",
      " [0.00233987]\n",
      " [0.00380228]\n",
      " [0.00467973]\n",
      " [0.0052647 ]\n",
      " [0.00555718]\n",
      " [0.00233987]\n",
      " [0.00233987]\n",
      " [0.00497221]\n",
      " [0.00263235]\n",
      " [0.00116993]\n",
      " [0.00233987]\n",
      " [0.00321732]\n",
      " [0.0017549 ]\n",
      " [0.0017549 ]\n",
      " [0.0017549 ]\n",
      " [0.00497221]\n",
      " [0.00467973]\n",
      " [0.00233987]\n",
      " [0.0017549 ]\n",
      " [0.00614215]\n",
      " [0.00380228]\n",
      " [0.00409476]\n",
      " [0.00029248]\n",
      " [0.00146242]\n",
      " [0.00292483]\n",
      " [0.00233987]\n",
      " [0.00058497]\n",
      " [0.0052647 ]\n",
      " [0.00497221]\n",
      " [0.00789705]\n",
      " [0.00497221]\n",
      " [0.00204738]\n",
      " [0.00789705]\n",
      " [0.00058497]\n",
      " [0.0070196 ]\n",
      " [0.00555718]\n",
      " [0.00116993]\n",
      " [0.00263235]\n",
      " [0.0052647 ]\n",
      " [0.00146242]\n",
      " [0.00760456]\n",
      " [0.00643463]\n",
      " [0.00292483]\n",
      " [0.00204738]\n",
      " [0.00467973]\n",
      " [0.00409476]\n",
      " [0.00292483]\n",
      " [0.00906698]\n",
      " [0.0017549 ]\n",
      " [0.0017549 ]\n",
      " [0.0035098 ]\n",
      " [0.00233987]\n",
      " [0.00321732]\n",
      " [0.00087745]\n",
      " [0.00233987]\n",
      " [0.00321732]\n",
      " [0.00116993]\n",
      " [0.00116993]\n",
      " [0.00204738]\n",
      " [0.00087745]\n",
      " [0.00204738]\n",
      " [0.00584966]\n",
      " [0.00146242]\n",
      " [0.00438725]\n",
      " [0.00555718]\n",
      " [0.00438725]\n",
      " [0.0035098 ]\n",
      " [0.00409476]\n",
      " [0.00087745]\n",
      " [0.00380228]\n",
      " [0.00380228]\n",
      " [0.0070196 ]\n",
      " [0.00292483]\n",
      " [0.00380228]\n",
      " [0.00380228]\n",
      " [0.00146242]\n",
      " [0.00116993]\n",
      " [0.00380228]\n",
      " [0.0052647 ]\n",
      " [0.00731208]\n",
      " [0.00643463]\n",
      " [0.00321732]\n",
      " [0.00380228]\n",
      " [0.00087745]\n",
      " [0.00321732]\n",
      " [0.00116993]\n",
      " [0.00116993]\n",
      " [0.00584966]\n",
      " [0.00380228]\n",
      " [0.00058497]\n",
      " [0.00409476]\n",
      " [0.00497221]\n",
      " [0.0070196 ]\n",
      " [0.00497221]\n",
      " [0.00292483]\n",
      " [0.00321732]\n",
      " [0.00731208]\n",
      " [0.00146242]\n",
      " [0.00731208]\n",
      " [0.00087745]\n",
      " [0.00380228]\n",
      " [0.00087745]\n",
      " [0.00497221]\n",
      " [0.00380228]\n",
      " [0.00497221]\n",
      " [0.00146242]\n",
      " [0.00292483]\n",
      " [0.00146242]\n",
      " [0.00760456]\n",
      " [0.00146242]\n",
      " [0.00058497]\n",
      " [0.00584966]\n",
      " [0.00233987]\n",
      " [0.00731208]\n",
      " [0.01052939]\n",
      " [0.00292483]\n",
      " [0.00321732]\n",
      " [0.0017549 ]\n",
      " [0.00116993]\n",
      " [0.00233987]\n",
      " [0.0017549 ]\n",
      " [0.00321732]\n",
      " [0.00233987]\n",
      " [0.00497221]\n",
      " [0.00321732]\n",
      " [0.00555718]\n",
      " [0.00292483]\n",
      " [0.0035098 ]\n",
      " [0.00116993]\n",
      " [0.00263235]\n",
      " [0.00116993]\n",
      " [0.00263235]\n",
      " [0.0017549 ]\n",
      " [0.00380228]\n",
      " [0.00292483]\n",
      " [0.00380228]\n",
      " [0.00292483]\n",
      " [0.00380228]\n",
      " [0.00292483]\n",
      " [0.00233987]\n",
      " [0.00233987]\n",
      " [0.00731208]\n",
      " [0.0070196 ]\n",
      " [0.00497221]\n",
      " [0.00614215]\n",
      " [0.00233987]\n",
      " [0.0017549 ]\n",
      " [0.00263235]\n",
      " [0.00233987]\n",
      " [0.00204738]\n",
      " [0.00292483]\n",
      " [0.00292483]\n",
      " [0.00204738]\n",
      " [0.00058497]\n",
      " [0.00409476]\n",
      " [0.00409476]\n",
      " [0.0035098 ]\n",
      " [0.00497221]\n",
      " [0.00087745]\n",
      " [0.0017549 ]\n",
      " [0.00204738]\n",
      " [0.0052647 ]\n",
      " [0.00233987]\n",
      " [0.00146242]\n",
      " [0.0017549 ]\n",
      " [0.00438725]\n",
      " [0.0017549 ]\n",
      " [0.00380228]\n",
      " [0.00233987]\n",
      " [0.00643463]\n",
      " [0.00263235]\n",
      " [0.00233987]\n",
      " [0.00438725]\n",
      " [0.0035098 ]\n",
      " [0.00409476]\n",
      " [0.00116993]\n",
      " [0.0017549 ]\n",
      " [0.00233987]\n",
      " [0.00438725]\n",
      " [0.0070196 ]\n",
      " [0.00204738]\n",
      " [0.00087745]\n",
      " [0.00204738]\n",
      " [0.00292483]\n",
      " [0.00204738]\n",
      " [0.00204738]\n",
      " [0.00058497]\n",
      " [0.00497221]\n",
      " [0.00409476]\n",
      " [0.00263235]\n",
      " [0.00233987]\n",
      " [0.00233987]\n",
      " [0.00233987]\n",
      " [0.00146242]\n",
      " [0.00438725]\n",
      " [0.00438725]\n",
      " [0.00204738]\n",
      " [0.0087745 ]\n",
      " [0.00584966]\n",
      " [0.0035098 ]\n",
      " [0.00409476]\n",
      " [0.0017549 ]\n",
      " [0.00146242]\n",
      " [0.00204738]\n",
      " [0.00087745]\n",
      " [0.00292483]\n",
      " [0.00292483]\n",
      " [0.00321732]\n",
      " [0.00233987]\n",
      " [0.00233987]\n",
      " [0.00116993]\n",
      " [0.00146242]\n",
      " [0.00146242]\n",
      " [0.00263235]\n",
      " [0.01169933]\n",
      " [0.0070196 ]\n",
      " [0.00263235]\n",
      " [0.00146242]\n",
      " [0.00263235]\n",
      " [0.00643463]\n",
      " [0.00087745]\n",
      " [0.00292483]\n",
      " [0.00233987]\n",
      " [0.00380228]\n",
      " [0.0052647 ]\n",
      " [0.00263235]\n",
      " [0.00058497]\n",
      " [0.0017549 ]\n",
      " [0.00321732]\n",
      " [0.00292483]\n",
      " [0.00263235]\n",
      " [0.00233987]\n",
      " [0.00116993]\n",
      " [0.00497221]\n",
      " [0.00116993]\n",
      " [0.00935946]\n",
      " [0.0035098 ]\n",
      " [0.00087745]\n",
      " [0.00263235]\n",
      " [0.00760456]\n",
      " [0.0035098 ]\n",
      " [0.00292483]\n",
      " [0.0035098 ]\n",
      " [0.00555718]\n",
      " [0.00233987]\n",
      " [0.0052647 ]\n",
      " [0.00263235]\n",
      " [0.00672711]\n",
      " [0.0017549 ]\n",
      " [0.00731208]\n",
      " [0.00555718]\n",
      " [0.00233987]\n",
      " [0.00116993]\n",
      " [0.00146242]\n",
      " [0.00380228]\n",
      " [0.00146242]\n",
      " [0.00555718]\n",
      " [0.00263235]\n",
      " [0.00087745]\n",
      " [0.00467973]\n",
      " [0.00087745]\n",
      " [0.0070196 ]\n",
      " [0.00292483]\n",
      " [0.0017549 ]\n",
      " [0.00263235]\n",
      " [0.00116993]\n",
      " [0.00233987]\n",
      " [0.00204738]\n",
      " [0.00204738]\n",
      " [0.00233987]\n",
      " [0.00467973]\n",
      " [0.00146242]\n",
      " [0.00760456]\n",
      " [0.00116993]\n",
      " [0.00146242]\n",
      " [0.00116993]\n",
      " [0.0017549 ]\n",
      " [0.0017549 ]\n",
      " [0.0017549 ]\n",
      " [0.00292483]\n",
      " [0.00380228]\n",
      " [0.00233987]\n",
      " [0.00292483]\n",
      " [0.00233987]\n",
      " [0.00204738]\n",
      " [0.00146242]\n",
      " [0.0017549 ]\n",
      " [0.00233987]\n",
      " [0.00204738]\n",
      " [0.00672711]\n",
      " [0.00584966]\n",
      " [0.00263235]\n",
      " [0.00555718]\n",
      " [0.00263235]\n",
      " [0.00233987]\n",
      " [0.00233987]\n",
      " [0.00146242]\n",
      " [0.00233987]\n",
      " [0.0017549 ]\n",
      " [0.0017549 ]\n",
      " [0.00204738]\n",
      " [0.0017549 ]\n",
      " [0.00233987]\n",
      " [0.00204738]\n",
      " [0.00292483]\n",
      " [0.00204738]\n",
      " [0.0017549 ]\n",
      " [0.00760456]\n",
      " [0.00233987]\n",
      " [0.00233987]\n",
      " [0.00233987]\n",
      " [0.0035098 ]\n",
      " [0.00233987]\n",
      " [0.00233987]\n",
      " [0.00204738]\n",
      " [0.00204738]\n",
      " [0.00146242]\n",
      " [0.00409476]\n",
      " [0.00146242]\n",
      " [0.00409476]\n",
      " [0.00233987]\n",
      " [0.0052647 ]\n",
      " [0.0035098 ]\n",
      " [0.00321732]\n",
      " [0.00116993]\n",
      " [0.0017549 ]\n",
      " [0.00204738]\n",
      " [0.00087745]\n",
      " [0.0017549 ]\n",
      " [0.0070196 ]\n",
      " [0.00233987]\n",
      " [0.00087745]\n",
      " [0.0035098 ]\n",
      " [0.00614215]\n",
      " [0.00204738]\n",
      " [0.00263235]\n",
      " [0.00146242]\n",
      " [0.00204738]\n",
      " [0.00146242]\n",
      " [0.00467973]\n",
      " [0.00292483]\n",
      " [0.00438725]\n",
      " [0.00467973]\n",
      " [0.00467973]\n",
      " [0.00292483]\n",
      " [0.00438725]\n",
      " [0.00233987]\n",
      " [0.00204738]\n",
      " [0.00233987]\n",
      " [0.00672711]\n",
      " [0.00497221]\n",
      " [0.00116993]\n",
      " [0.00380228]\n",
      " [0.00380228]\n",
      " [0.00233987]\n",
      " [0.00116993]\n",
      " [0.00380228]\n",
      " [0.00204738]\n",
      " [0.00380228]\n",
      " [0.00204738]\n",
      " [0.00321732]\n",
      " [0.00555718]\n",
      " [0.0017549 ]\n",
      " [0.00380228]\n",
      " [0.00643463]\n",
      " [0.00087745]\n",
      " [0.0052647 ]\n",
      " [0.0052647 ]\n",
      " [0.0052647 ]\n",
      " [0.0017549 ]\n",
      " [0.00292483]\n",
      " [0.00204738]\n",
      " [0.00058497]\n",
      " [0.00204738]\n",
      " [0.0017549 ]\n",
      " [0.0017549 ]\n",
      " [0.0017549 ]\n",
      " [0.00672711]\n",
      " [0.00233987]\n",
      " [0.00321732]\n",
      " [0.00263235]\n",
      " [0.0035098 ]\n",
      " [0.00058497]\n",
      " [0.00087745]\n",
      " [0.0035098 ]\n",
      " [0.00116993]\n",
      " [0.00263235]\n",
      " [0.00263235]\n",
      " [0.00204738]\n",
      " [0.00146242]\n",
      " [0.00233987]\n",
      " [0.00058497]\n",
      " [0.00438725]\n",
      " [0.00467973]\n",
      " [0.0035098 ]\n",
      " [0.00204738]\n",
      " [0.0035098 ]\n",
      " [0.00058497]\n",
      " [0.0035098 ]\n",
      " [0.00204738]\n",
      " [0.00263235]\n",
      " [0.00263235]\n",
      " [0.00467973]\n",
      " [0.00409476]\n",
      " [0.0017549 ]\n",
      " [0.00204738]\n",
      " [0.00292483]\n",
      " [0.00233987]\n",
      " [0.00116993]\n",
      " [0.00233987]\n",
      " [0.00058497]\n",
      " [0.0017549 ]\n",
      " [0.00116993]\n",
      " [0.00233987]\n",
      " [0.00146242]\n",
      " [0.00116993]\n",
      " [0.00233987]\n",
      " [0.00555718]\n",
      " [0.00467973]\n",
      " [0.00233987]\n",
      " [0.00263235]\n",
      " [0.00438725]\n",
      " [0.00233987]\n",
      " [0.00292483]\n",
      " [0.00116993]\n",
      " [0.00263235]\n",
      " [0.00467973]\n",
      " [0.00146242]\n",
      " [0.00029248]\n",
      " [0.0052647 ]\n",
      " [0.00029248]\n",
      " [0.00146242]\n",
      " [0.0017549 ]\n",
      " [0.00146242]\n",
      " [0.00467973]\n",
      " [0.00146242]\n",
      " [0.00643463]\n",
      " [0.00263235]\n",
      " [0.00672711]\n",
      " [0.00497221]\n",
      " [0.0070196 ]\n",
      " [0.00146242]\n",
      " [0.00204738]\n",
      " [0.00263235]\n",
      " [0.0017549 ]\n",
      " [0.00116993]\n",
      " [0.00146242]\n",
      " [0.00029248]\n",
      " [0.00233987]\n",
      " [0.00204738]\n",
      " [0.00233987]\n",
      " [0.00204738]\n",
      " [0.0035098 ]\n",
      " [0.0087745 ]\n",
      " [0.00497221]\n",
      " [0.00087745]\n",
      " [0.0070196 ]\n",
      " [0.00467973]\n",
      " [0.00116993]\n",
      " [0.0070196 ]\n",
      " [0.0070196 ]\n",
      " [0.0017549 ]\n",
      " [0.00409476]\n",
      " [0.00409476]\n",
      " [0.00380228]\n",
      " [0.00233987]\n",
      " [0.00233987]\n",
      " [0.00204738]\n",
      " [0.00146242]\n",
      " [0.00146242]\n",
      " [0.00087745]\n",
      " [0.00058497]]\n"
     ]
    }
   ],
   "source": [
    "average_length = x.mean(axis=1)\n",
    "print(\"Độ dài trung bình của các dòng dữ liệu:\")\n",
    "print(average_length)"
   ]
  },
  {
   "cell_type": "code",
   "execution_count": 1779,
   "id": "14f7c2cf",
   "metadata": {},
   "outputs": [
    {
     "data": {
      "image/png": "[encoded data removed]",
      "text/plain": [
       "<Figure size 200x300 with 1 Axes>"
      ]
     },
     "metadata": {},
     "output_type": "display_data"
    }
   ],
   "source": [
    "import numpy as np\n",
    "import matplotlib.pyplot as plt\n",
    "labels = train['target'].unique()\n",
    "average_lengths = []\n",
    "for label in labels:\n",
    "    group_indices = (y == label)\n",
    "    group_x = x[group_indices]\n",
    "    group_average_length = np.mean([group_x[i].getnnz() for i in range(group_x.shape[0])])\n",
    "    average_lengths.append(group_average_length)\n",
    "plt.figure(figsize=(2, 3))\n",
    "plt.bar(labels, average_lengths)\n",
    "plt.xlabel('Label')\n",
    "plt.ylabel('AVG len')\n",
    "plt.title('AVG len/Label')\n",
    "plt.show()"
   ]
  },
  {
   "cell_type": "code",
   "execution_count": 1780,
   "id": "87df3dba",
   "metadata": {},
   "outputs": [
    {
     "name": "stdout",
     "output_type": "stream",
     "text": [
      "[11.270880361173814, 10.788359788359788]\n"
     ]
    }
   ],
   "source": [
    "print(average_lengths)"
   ]
  },
  {
   "cell_type": "code",
   "execution_count": 1781,
   "id": "45de9d45",
   "metadata": {},
   "outputs": [
    {
     "name": "stdout",
     "output_type": "stream",
     "text": [
      "Vocab: ['mainnet', '1432023', 'mốc', 'lịch_sử', 'trọng_đại', 'cứu_cánh', 'nhân_văn', 'ý_nghĩa', 'vĩ_đại', 'dịch_bệnh', 'covit19', 'hoành_hành', 'chiến_tranh', 'bão', 'lũ', 'thiên_tai', 'động_đất', 'bình_yên', 'hưởng_thụ', 'pi', 'thời_gian', 'chúc', 'phu_nhân', 'đc', 'lì_xì', 'nhìu', 'tiền', 'zô', 'đánh_bài', 'thắng', 'quài', 'dân', 'hoá', 'nghèo', 'lắm', 'hậu', 'khắc_nghiệt', 'mất_mùa', 'qoanh', 'mùa', 'lúa', 'gộp', 'hạn_hán', 'ngập', 'úngdân', 'th', 'đói', 'quanh_năm', 'lớp', 'tỏa', 'đi', 'khắp', 'miền', 'cháy', 'rừng', 'thiệt_hại', '353', 'tỷ', 'usd', '2022', 'mấy', 'đin', 'kỳ_thị', 'việt_kiều', 'chúng_nó', 'hội', 'từ_thiện', 'lô', 'vinfast', 'mẽo', 'hầu_như', 'toàn', 'vk', 'ủng_hộ', 'gửi', 'ngoại_tệ', 'gd', 'xây_dựng', 'quê_hương', 'đừng', 'mong_ước', 'cuộc_đời', 'sóng_gió', 'tiểu_thuyết', 'phim', 'truyền_hình', 'đời', 'gió', 'giật', '10', '11', 'tầm', 'nhìn_xa', 'trông', 'bài_học', 'đầu', 'hôm', 'bận', 'vl', 'bọn', 'xuất_hiện', 'chết', 'tim', 'hoa_hậu', 'bảo', 'ngọc', 'cứu_trợ', 'trung', 'khóc', 'ngất', 'ôm', 'chặt', 'gia_đình', 'người_thân', 'hồi', 'xưa', 'truyền_thuyết', 'trời', 'xong', 'chôn', 'sau_này', 'khui', '54', 'dân_tộc', 'anh_em', 'chui', 'đn', 'tuyệt_vời', 'hn', 'hcm', 'tuyệt', '0xc1887576bc95b61a924123ef67dedb12568738e1', 'ae_ung', 'hộ', 'sin', 'ae', 'bnb', 'sợ', 'crypto', 'hôm_qua', 'đà_nẵng', 'mưa', 'to', 'thành', 'lũ_lụt', 'tuổi_thơ', 'gắn', 'liền', 'rời', 'hướng', 'mong', 'mẹ', 'bình_an', 'đạo', 'đực', 'giả', 'xog', 'giỏi', 'chăm', 'bò', 'chế_độ', 'chính_trị', 'thống_trị', 'thuế', 'dàn', 'siêu', 'xe', 'bùn', 'đất', 'trận', 'fighting', 'stigma', 'vn', 'đồng_hành', 'nhân_dân', 'biên_phòng', 'vừa_qua', 'noru', 'biển', 'đông', 'tiến', 'thẳng', 'tỉnh', 'ven', 'nỗi', 'kinh_hoàng', 'địa', 'cám_ơn', 'đất_nước', 'chứng_kiến', 'cảm_nhận', 'mất_mát', 'đau_thương', 'khôn_lường', 'chia_sẻ', 'nhân_ái', 'cầu_nguyện', 'tất_cả', 'tốt_lành', 'thăm_hỏi', 'thế_giới', 'tuần', 'triều_tiên', 'liên_tiếp', 'phóng', 'tên_lửa', 'chúng_ta', 'hệ_quả', 'hoài', 'linh_tinh', 'thất_thu', 'dám', 'đứng', 'tt', '2h', 'gỡ', '500', 'triệu', 'mồi', 'câu', 'trăm', 'hoa', 'hậushowbiz', 'khởi_động', 'vận_động', 'kêu_gọi', 'đăng', 'tài_khoản', 'đổ', 'khúc', 'ruột', 'ngon', 'kẻ', 'mong_chờ', 'súc_vật', 'xương_máu', 'hiều', 'khổ', 'làm_lụng', 'sửa_sang', 'haizzz', 'thương', 'hy_vọng', 'bình', 'an', 'to_lớn', 'ngặt', 'mảnh', 'bao', 'lũ_quét', 'nhọc_nhằn', 'đồng_bào', 'chuẩn_bị', 'một_số', 'thông_qua', 'mttqvn', 'lan_toả', 'sẻ', 'chia', 'người_ta', 'thu', 'lá', 'rụng', 'tức', 'cảnh', 'sinh', 'tình', 'đm', 'bật', 'gốc', 'đảng', 'nhà_nước', 'lo', 'vấn_đề', 'yên_tâm', 'bóng_đá', 'xứ', 'ngộ', 'coi', 'quên', 'cmn', 'rét', 'sập', 'tốc', 'mái', 'bộ_đội', 'bắn', 'khí', 'đổ_bộ', 'ảnh_hưởng', 'nặng_nề', 'cuộc_sống', 'cutiepia', 'chúng_mình', 'quyên_góp', 'chống_chọi', 'tưởng', 'vui', 'dịch_họa', 'bội_thu', 'việt', 'cộng', 'làm_giàu', 'khốn_khổ', 'khốn_nạn', 'lật_đổ', 'cộng_sản', 'bà_con', 'thật_sự', 'nói_chung', 'kinh_qua', 'sống', 'vs', 'xót', 'lợi_dụng', 'thời_điểm', 'nhạy_cảm', 'tung', 'xuyên_tạc', 'gom', 'vô', 'ăn_chặn', 'mì', 'gói', 'bvs', 'phụ_nữ', 'minh_bạch', 'chiêu', 'trò', 'chút', 'nắng', 'ấm', 'cầu_mong', 'vạn', 'lành', 'đội', 'lái', 'gọi', 'dòng', 'góp', 'sức', 'chống', 'ketsana', '2009', '120270', 'mm', 'quảng', 'bình200400', 'quảng_trị', 'quảng_ngãi', 'gia', 'lai', 'kon', 'tum', '400600', 'thừa', 'thiên', 'huế', 'cướp', '163', 'sinh_mạng', 'mất_tích', '21000', 'đón', 'khs', 'yêu', 'cố', 'để_ý', 'đợt', 'báo', 'lu', 'rùi', 'nhầm', 'chỉnh', 'màu', 'tóc', 'biu', 'nhuộm', 'nâu', 'hong', 'mn', 'kiểu', 'highlight', 'tập', 'văn', 'viết', 'thư', 'mẫu', 'thời', 'chị_em', 'ke', 'táp', 'dô', 'mặt', 'ròi', 'hâhhahahahaha', 'bảo_đảm', 'vận_hành', 'lưới_điện', 'an_toàn', 'quê', 'ad', 'hú', 'thằng', 'bê', 'xiền', 'sửa', 'nhà_cửa', 'ổn', 'có_ăn', 'lsg', 'trending', 'tweet', 'nhắc', 'chục', 'ngàn', 'retweet', 'lội', 'nghĩa_đen', 'đấy', 'vui_vẻ', 'cẩn_thận', 'ưi', 'cảnh_báo', 'có_nghĩa_là', 'giúp', 'tìm_hiểu', 'khác_biệt', 'khuyên', 'quan_sát', 'thông_tin', 'điều_kiện', 'thời_tiết', 'cập_nhật', 'truy_cập', 'thông_cảm', 'hàn', 'ko', 'đẹp', 'xanh', 'hộp', 'công_dụng', 'điện', 'thiếu_thốn', 'nóng', 'quốc', 'hôm_nay', '11082022', 'trung_quốc', 'través', 'de', 'kích_hoạt', 'biện_pháp', 'ứng_phó', 'khẩn_cấp', 'khu_vực', 'dạo', 'buồn', 'ngày_càng', 'bin', 'huhu', 'fanmeeting', 'haloween', 'tổ_chức', 'trường', 'thế_là', 'cớ', 'khó_khăn', 'vất_vả', 'cá_nhân', 'tài', 'nè', 'hoàn_cảnh', 'cha_mẹ', 'tiết_kiệm', 'hạn_chế', 'ăn_chơi', 'ng', 'tây', 'địa_lý', 'phong_phú', 'càn_quét', 'đa_số', 'khoán', 'kia', 'miễn', 'tốt_bụng', 'trungsống', 'cảm_thấy', 'cực_khổ', 'hơnnăm', 'ns', 'suy_nghĩ', '482022', 'mớ', '382022', '02082022', '30072022', 'giải_cứu', 'fan', 'zxyn', 'ét', 'má', 'emo', 'liệu', 'làm_sao', 'nhaaaaaa', '27072022', 'quạo', 'thiệt', 'tui', 'ghét', 'ghê', 'mệt', 'ngang', '26072022', '20220725', '1402', 'comeback', 'lol', 'phát', 'trực_tuyến', 'league', 'of', 'legends', 'nimotv', '24072022', 'nguy_cơ', 'dồn_dập', 'new', 'mua', 'thảm_họa', 'thiên_nhiên', 'giảm_giá', 'tác_phẩm', 'điểm_tựa', 'gian_nguy', 'công_an', 'quảng_bình', 'giải', 'đặc_biệt', '07072022', 'via', '05072022', '29062022', '25062022', 'news', '1913', 'watching', 'now', 'started', 'streaming', '59', 'minutes', 'ago', 'trẻ', 'non', 'chỗ', 'giàu', 'ban_ngành', 'hỗ_trợ', 'hàng', 'bố_mẹ', 'dịch', 'phẩm', 'lụm', 'nhẹ', 'đường_phố', 'mỹ', 'ô_tô', 'nằm', 'la_liệt', 'sâu', 'foi', 'terminei', 'uns', 'trabalhos', 'que', 'tavam', 'parados', 'seu', 'tụi', 'vu_khống', 'cúp', 'hắt', 'mưa_đá', 'hắt_hơi', 'sấm', 'chớp', 'tao', 'đánh_rắm', 'kinh_phong', 'chúng_mày', 'ăn_cắp', 'la_làng', 'truyền', 'tí', 'năng_lượng', 'monaco', 'hiện_tượng', 'dự_báo', 'xiao', 'mo', 'tou', 'la', 'busted', 'darklord', 'noooooooooooo', 'ghẻ', 'ngừng', 'chiến', 'trc', 'hai', 'yêu_cầu', 'đơn_giản', 'ntn', 'leak', 'cmt', 'cap', 'màn_hình', 'thoi_thóp', 'đâm', 'phát_triển', 'mô_hình_học', 'máy', 'sạt_lở', 'tuyến', 'đường_bộ', 'cô_độc', 'mỏm', 'đá', 'núi_rừng', 'khuất_phục', 'cung_cấp_tập', 'mời', 'học_sinh', 'tham_khảo', 'tài_liệu', 'kenny', 'nãy', 'chóng_mặt', 'thế_nào', 'gatekeeping', 'method', 'bây_giờ', 'cầy', 'nhòm_ngó', 'hiuhiu', 'chúa', 'vầng', 'không_thể_nào', 'trôi', 'nền_tảng', 'đức_tin', 'vững_chắc', 'ta', 'ngài', 'mathiơ', '724', 'khôn_ngoan', 'xây', 'chien', 'đên', 'nam', 'quỹ', 'khuyết_tật', 'chúng_tôi', 'hảo_tâm', 'giúp_đỡ', 'có_thể', 'sử_dụng', 'hợp_lý', 'chánh', 'lãng_phí', 'sách_lược', 'nhân_loại', 'văn_minh', 'thông_minh', 'hoả_hoạn', 'sáng_suốt', 'bác_ái', 'hướng_dẫn', 'cấp_bách', 'phục_hồi', 'vườn', 'cam', 'bưởi', 'nạn', 'xả', 'súng', 'hét', 'tình_hình', 'phát_ngôn_viên', 'ngoại_giao', 'iran', 'saeed', 'khatibzadeh', 'sâu_sắc', 'chính_phủ', 'việt_nam', 'mng', 'vote', 'with', 'luv', 'army', 'dành_dụm', 'nguyên_nhân', 'tham_nhũng', 'kể_cả', 'phân_bố', 'suốt', 'oằn', 'ưu_tiên', 'tiếp', 'nguyên', 'covid', 'đối_mặt', 'tả', 'trục_lợi', 'đối_diện', 'án', 'an_lành', 'tôm', 'nạn_nhân', 'kìa', 'hệ_thống', 'tội_phạm', 'vô_đạo_đức', 'hồ_tiêu', 'dái', 'chim', 'đỹ', 'sài', 'hút', 'máu', 'phan', 'bố', 'trạch', 'phát_huy', 'phương_châm', 'tại_chỗ', 'phòng_chống', 'ngta', 'mưa_dầm', 'thấm', 'thúi', 'nội', 'ceo', 'yg', 'nhởn_nhơ', 'giỡn', 'phải_chăng', 'nết', 'bả', 'treat', 'lisa', 'equally', 'tố_giác', 'liên_quan', 'hoạt_động', '2020', 'chỉ_đạo', 'cục', 'cảnh_sát', 'hình_sự', 'thụ_lý', 'kiểm_tra', 'xác_minh', 'fic', 'tình_cảm', 'đứa', 'ngây_ngô', 'đơn_thuần', 'hoạ', 'bỏ_qua', 'vaccine', 'tàu', 'giá', 'chất_lượng', 'đảm_bảo', 'damwon', 'đầu_hàng', 'cài_đặt', 'sg', 'chạy', 'chỉ_tiêu', 'giữ_gìn', 'sức_khỏe', 'nguy_hiểm', 'tranh_thủ', 'check', 'mauuuu', 'trừ', 'cổ', 'suý', 'anti', 'chửi_bới', 'khịa', 'tú', 'phát_ngôn', 'trù', 'tính_hướng', 'sở_thích', 'quan_tâm', 'lập', 'réo', 'tối_sầm', 'conson', 'bjo', 'hic', 'mưa_gió', 'đùng', 'mạng', 'chán', 'đám', 'showbiz', 'hỏng', 'kiếm', 'tù', 'mọt_gông', 'kê', 'éo', 'nghệ_sĩ', 'wtf', 'lụt', 'chủ_trương', 'đường', 'once', 'we', 'for', 'at', 'the', '2021', 'nhân_cách', 'dắt_mũi', 'nightmare', 'hqua', 'cà', 'đống', 'thảm', 'miệng', 'não', 'cno', 'toxic', 'xin_lỗi', 'túi', 'sơ_cấp_cứu', 'y_tế', 'mộng', 'giấc', 'mơ', 'cấp_cứu', 'chi_tiết', 'lh', '0909087114', 'miễn_phí', 'vận_chuyển', 'ẻm', 'rắm', 'tục', 'lụy', 'nước_ngoài', 'vội_vàng', 'đầu_tiên', 'cố_ý', 'thử', 'trì', 'hoản', 'ý_định', 'tự_tử', 'alo', 'tổng_đài', '114', 'thở', 'zôi', 'cụ', 'bệnh_viện', 'đa_khoa', 'đồng', 'nai', 'sẵn_sàng', 'trực', 'covid19', 'sưu_tập', 'chủ_đề', 'phổi', 'nghiêm_trọng', 'thế_hệ', '63', 'tỉnh_thành', 'ca', 'nhiễm', 'vắng', 'tiếng', 'tai', 'chan', 'khen', 'xi', 'bs', 'yta', 'dc', 'mịa', 'trẻ_con', 'ăn_uống', 'kiểm_soát', 'hanbin', 'bad', 'boy', 'gấp', 'thống_kê', 'nghỉ', 'tết', '2023', '3041', 'đánh', 'tại_sao', 'bác_sĩ', 'bé', 'kỳ', 'vụ_việc', 'trai', 'hóc', 'hạt', 'bí', 'mồng', 'sản', 'nhi', 'chẩn_đoán', 'bệnh', 'kịp_thời', 'kết', '2712023', 'viện', 'mùng', 'y_tá', 'qua_loa', 'cẩu_thả', 'nội_soi', 'mung', '23g', 'chở', 'phông_chữ', 'dở', 'mắc', 'miếng', 'bánh_chưng', 'họng', 'design', 'ảnh', '30', 'phút', 'đào', 'lỡ', 'tạm_thời', 'đợi', 'đt', 'nhá', 'gia_tăng', 'nhập_viện', 'dịp', 'viêm', 'tụy', 'bia', 'rượu', 'hậu_quả', '0125tin', '276', 'phòng', 'lạnh', '24', '476', 'chuyến', 'bay', 'khởi_hành', 'sân_bay', 'jeju', 'hủy', 'sóng', 'quý', 'mão', '311', 'trường_hợp', 'khám', 'pháo', 'nổ', 'ký', 'viet', 'online', 'tay_ngang', 'đỉnh', 'năm_ngoái', 'đọc', 'ao3', 'sản_giật', 'lạy', 'cmnl', 'kphai', 'kiến_thức', 'tôn_giáo', 'main', 'hệ', 'phép_thuật', 'kêu', 'sẳn', 'lun', 'sml', 'thằng_cha', 'già', 'dê', 'đo', 'điện_tim', 'tồi', 'vãi', 'bệnh_nhân', 'đéo', 'hơi', 'động', 'chân', 'ui', 'đit', 'tổng_số', '1056', 'tương_đương', '7h', 'đỡ', 'shines', 'in', 'riyadh', 'hà_nội', 'tiếp_nhận', 'điều_trị', 'tai_nạn', 'giao_thông', '28', 'nhà_nhà', 'người_người', 'nô_nức', 'sum_vầy', 'cáu', '14', 'quân', 'lầm', 'hạnh', 'nyc', 'mặc', 'happi', 'địa_phận', 'xã', 'tòng', 'đậu', 'phanh', 'va_chạm', 'xe_máy', 'tông', 'taluy', 'lật', 'nghiêng', 'vụ', 'tử_vong', '20', 'bị_thương', 'tối_thiểu', 'ngày_tháng', 'tử_tế', 'treo', 'ai_đời', '119', 'tệ', 'quá_thể', 'chừng', 'font', 'chữ', 'poster', 'gợi', 'tâm_đồ', 'vàng', 'tuần_hoàn', 'đột_quỵ', 'nguy', 'người_bệnh', 'nhâm', 'dần', 'mở_đầu', 'kết_thúc', '27', 'tháng_chạp', 'bv', 'mổ', 'aaaaaaa', 'xinh', 'xỉu', 'linh', 'need', 'cung_ứng', 'đột_xuất', 'nhu_cầu', 'cơ_bản', 'xuyên', 'vĩa', 'hè', '1312023', 'đêm', 'unv', 'xử_trí', 'chấn_thương', 'mắt', 'cấn', 'hông', 'clip', 'khiên', 'đèn', 'còi', 'xác', 'giải_thích', 'sóng_thần', 'thượng', 'hải', 'shanghai', '13012023', 'cụ_thể', 'bênh', 'méo', 'cấp_cứu_giúp', 'huhuhuhu', 'ban_hành', 'kèm', 'thông_tư', '192016ttbyt', '2016', 'bộ_trưởng', '0933', '873', 'zalocall', '878', 'tận', 'nữ', 'bô', 'hợp', 'nha', 'bây', 'ma', 'tuyệt_vọng', 'gái', 'dang', 'lủ', 'giờ_đây', 'quyền_lực', 'dập', 'tắt', 'dư_luận', 'xã_hội', 'chó', 'tankhun', 'coá', 'thần', 'logic', 'lẹ', 'klang', 'lak', 'quớ', '2212', 'vừa_rồi', 'ca_hát', 'nổi', 'hát', 'trả_lời', 'mày', 'kệ', 'kéo', 'đập', 'phá', 'cửa_nhà', 'tuyến_giáp', 'nữ_sinh', 'xấu_số', 'huflit', 'la_hét', 'thiếtclip', 'ngu', 'dkm', 'bằng_chứng', 'video', 'âm_thanh', 'trộm', '2018', 'gò', 'vấp', 'dkm_thiểu_năng', 'vkl', 'ghê_thế', 'địn', 'thoại', 'farewell', 'concept', 'photo', 'giải_pháp', 'camera', 'bán_kính', 'km', 'lắp_đặt', 'bảo_vệ', 'úc', 'châu', '10am', '17012023', 'kiệt_sức', 'xảy', 'lãnh_đạo', 'sở', 'nông_nghiệp', 'nói_gì', 'melbourne', 'nói_riêng', 'kỳ_lạ', 'áo_ấm', 'một_vài', 'lửa', 'củi_lửa', 'đề_phòng', 'tự_nhiên', 'nảy', 'mỏ', 'than_đá', 'trầm_tích', 'than_bùn', 'gas', 'hữu_cơ', 'vv', 'hành_tinh', 'tồn_tại', 'biến_đổi', 'khí_hậu', 'hiện', 'amp', 'lý', 'thuyền', 'noe_hỏa_tinh', 'trí_tuệ', 'nhân_tạo', 'chiến_đấu', 'dioxin', 'rải', 'thuốc', 'cỏ', 'rõ_ràng', 'đạn', 'phốt_pho', 'trắng', 'mục_đích', 'giết', 'khu', 'dân_cư', 'tội_ác', 'chùm', 'con_người', 'su34', 'hạ_cánh', 'cánh', 'phi_công', 'phụ', 'phi_công_chính', 'nhảy_dù', 'thoát', 'bending', 'beam', 'load', 'cell', 'atex', 'mp', '77250kg', 'c3mre', '77200kg', 'dãy', 'hàng_quán', 'hà', 'bốc', 'rừng_rực', 'hoàn_toàn', '7750kg', 'rùng', 'lắc', '7720kg', 'otp', 'đánh_đu', 'ngoài_lề', 'hốt', 'amazon', 'kỷ_lục', 'rung', 'quan', 'kinh_tế', 'ngành', 'bds', 'trắng_tay', 'cứu', 'giở', '12', 'đại_gia', 'đem', 'đầu_tư', 'nhà_hàng_loạt', 'khôn', '29112022', 'apo', 'ig', 'story', 'update', 'chụp', 'bầu_trời', 'góc', 'suối', 'giãn', 'đội_ngũ', 'khò', 'stan', 'cx', 'tài_năng', 'sự_nghiệp', 'mạnh_mẽ', 'antidom', 'take', 'into', 'account', 'tất_nhiên', 'áo', 'nhiệt_độ', 'độ', 'pullover', 'khoác', 'cg', 'ấm_no', 'tươi', 'he', 'trông_chờ', 'màn', 'debut', 'hợp_đồng', 'đắt_giá', '16h30', 'địa_phương', 'đtc', 'bạo_lực', 'cao_thủ', 'mocen', 'tỷ_suất', 'lợi_nhuận', 'rủi_ro', 'vàoemail', 'apptudongcom', 'app', 'cao_thủ_tự_động', 'lệnh', 'sao_chép', 'giao_dịch', 'ngủ', 'danh_sách', 'top', 'lãi', 'enzo', 'fernandez', 'gia_nhập', 'chelsea', 'trở_thành', 'ngoại_hạng', 'arsenal', 'mộ', 'thành_công', 'jorginho', 'man', 'utd', 'marcel', 'sabitzer', 'thay_thế', 'eriksen', 'chấn', 'thươn', 'phi_vụ', 'chuyển_nhượng', 'căng_thẳng', 'clb', 'toàn_bộ', 'thượng_tầng', 'biến', 'kì_vọng', 'ha', 'tuần_tra', 'xna', 'tranh_chấp', 'hàng_xóm', 'bị_động_đất', 'khét', 'nghiệt', 'thảm_thương', 'chếtmột', 'hứa', 'chờ', 'ngày_đêm', 'nóng_lòng', 'xót_xa', 'pollypastel', 'boc', 'địa_ngục', 'trung_tâm', 'mạng_lưới', 'cenc', '61', 'richter', '49', '301', 'bắc', 'kinh', 'rung_chuyển', 'aksu', 'huyện', 'shaya', 'tự_trị', 'ngô', 'nhĩ', 'tân', 'cương', 'sound', 'tối', 'vcl', 'xíu', 'đóng', 'long_lanh', 'ngấn', 'lệ', 'run_rẩy', 'thần_đồng_đất', 'vé', 'nhượng', 'organic', 'tuồn', 'chợ_đen', 'seller', 'deal', 'tranh', 'đắt', 'concert', '8x', '9x', 'hả', 'đặt_cọc', 'mua_bán', 'nhà_đất', 'chuẩn', 'info', '230128', 'temptation', 'name', 'chapter', 'melon', '100', 'sugar', 'rush', 'ride', 'devil', 'by', 'window', 'tinnitus', 'neverland', 'happy', 'fools', 'ft', 'leray', 'áp_lực', 'chư_hầu', 'cãi', 'chiếm_đóng', 'đức', 'đỡ_đạn', 'chaeng', 'california', 'macroreus', 'hmb', 'ventures', '32', 'nghìn', 'theo_dõi', 'mất_ngủ', 'trade', 'long', 'order', 'nhạc', 'nước_màu', 'vô_hiệu', 'jennie', 'dự', 'chanel', 'haute', 'couture', 'show', 'jennieatchanelhautecouture', '4h', 'chiều', 'nội_dung', 'hashtag', 'lên_án', 'nómột', 'trang', 'may_mắn', 'đốt', 'thụy_điển', 'hỏa_hoạn', 'báo_hiệu', 'thang_máy', 'hotel', 'eelectronic', 'safe', 'best', 'home', 'safes', 'factory', 'authentication', 'lưu_trữ', 'hiện_tại', 'cửa_hàng', 'đại_lý', 'vie', 'điều_tra', 'oskar', 'eng', 'police', 'have', 'you', 'investigated', 'cause', 'fire', 'yet', 'nt', 'found', 'it', 'is', 'also', '201', 'sơ_tán', 'bùng_phát', 'làng', 'thủ_đô', 'ổ_chuột', 'cuối_cùng', 'hàn_quốc', 'đệm', 'cứu_hộ', 'duy_nhất', 'hiệu_quả', 'công_tác', 'ra_hỏa_hoạn', 'tòa', 'cao_tầng', 'trung_cư', 'room', 'laptop', 'manufacturers', 'suppliers', 'and', 'exporters', 'store', 'manufacturer', 'electronic', 'hight', 'quanlity', 'cape', 'fiolent', 'sevastopol', 'crimea', 'ukraine', 'mũi_đất', 'chiến_tuyến', '250', 'phát_xít', 'nga', 'xâm_lược', 'deposit', 'box', 'tủ', 'hồ_sơ', 'di_động', 'đồ_vật', 'kherson', 'vũ_khí', 'therrmite', 'không_khí', '3000', 'diện', 'rộng', 'ngày_nay', 'kiến_trúc', 'quy_định', 'tiêu_chuẩn', 'chữa_cháy', 'nâng', 'chặt_chẽ', 'ngăn_chặn', 'sự_cố', 'tiếc', 'triển_khai', 'cụm', 'ngăn_chặn_hỏa', 'hoán_vị', 'đán', 'thị_trường', 'điện_tử', 'bóc', 'lịch', 'ung_dung', 'tự_tại', 'tận_hưởng', 'số_phận', 'xoăn', 'nhà_lầu', 'tiền_đường', 'minh', 'đông_hòa', 'dĩ', 'dt', '83m', 'thổ_cư', '70m', '4m', 'tây_nam', 'hoàn_công', 'đường_nhựa', '8m', 'thông', 'buôn_bán', 'siêu_thị', 'go', 'liên_hệ', '0979', '200', '225', '0903', '710', '173', 'thái', 'nhấn_chìm', 'sòng', 'bạc', 'grand', 'diamond', 'city', 'biên_giới', 'lancampuchia', 'hiểm', 'tối_ưu', 'căn_hộ', 'view', 'sông', 'đô_thị', 'công_thức', 'khẳng_định_vị_thế', 'thiem', 'zeit', 'river', 'giới', 'tinh_hoa', 'săn_đón', 'ghép', 'bất_động_sản', 'hạng', 'hoàn_mỹ', 'trọn', 'sài_gòn', '0982303868', '0902232268', 'steel', 'cabinets', 'két', 'sắt', 'uy_tín', 'hãng', 'rẻ', 'đảm_bảo_vật_tư_trang_bị', 'trụ', 'cửa', 'd65', 'thiết_bị', 'không_thể', 'chức_năng', 'cấp_nước', 'cứu_hỏa_khí', 'giải_quyết', 'tình_trạng', 'thiếu_hụt', 'lực_lượng', 'an_ninh', 'dưỡng_lão', 'bất_hợp_pháp', 'kemerovo', 'do_hỏa_hoạn', 'ban_đêm', 'diệt', 'putin', 'rogozin', 'cố_vấn', 'quân_sự', 'khách_sạn', 'lưng', 'tính_mạng', 'đe_dọa', 'vết_thương', 'phụ_tá', 'vladivostok', 'cầu', '1km', 'khói', 'đen', 'dày_đặc', 'nhà_kho', 'loạt', 'thiêu', 'rụi', 'thương_mại', 'công_nghiệp', 'quốc_gia', 'khủng_bố', 'độc_tài', 'xoá_sổ', 'điên', 'cười', 'đồng_nghiệp', 'ích_kỉ', 'chủ_tịch', 'cận', 'tổng_thống', 'pakistan', 'arif', 'alvi', 'tấn_công', 'thành_phố', 'peshawar', 'co', 'bao_giờ', 'ám_sát', 'boi', 'chủ_nghĩa', 'tâm_trạng', 'khó_chịu', 'đàn_áp', 'như_vậy', 'trải', 'bản_thân', 'tinh_thần', 'quỷ', 'tế', 'pha', 'diễn', 'hk', 'đả_đảo', '555', 'yến', 'hải_âu', 'bom', 'nhà_hàng', 'mtgpmn', '2561965', 'tự_do', 'hi_sinh', 'thậm_chí', 'làm_bạn', 'acc', 'poi', 'tw', 'kiện', 'tội', 'blackmail', 'full', 'liên_tục', 'kaka', 'nhẫn_nhịn', 'một_chút', 'chứng_cớ', 'dân_chủ', 'khủng', 'bổ', 'thế_mà', 'đại_sứ', 'lynne', 'tracy', 'moscow', 'hô', 'vang', 'pu', 'đồ', 'ngược', 'ngạo', 'canada', 'bày_tỏ', 'công_nhận', 'pmc', 'wagner', 'xóa_sổ', 'hqv', 'sưu_tầm', '8cm', 'thui', 'độn', 'đại_hội', 'giày', 'cỡ', 'bth', 'đôi', 'nói_chuyện', 'đỉ', 'bưng', 'bú', 'đít', 'nói_xàm', 'lồn', 'vc', 'quân_lực', 'hạt_nhân', 'chả', 'lẽ', 'yếu', 'khinh_thường', 'phật', 'tâm', 'nhân', 'đạo_đức', 'thờ', 'kính', 'đồng_loại', 'mã_hóa', 'sư', 'công_cụ', 'chống_phá', 'u_cướp', 'u_mê', 'tq_vậy', 'mơ_hồ', '112022', 'nhắn_tin', 'block', 'chẳng_lẽ', 'dễ_dàng', 'tha_thứ', 'đòi_hỏi', 'xàm', 'kí', 'ghi_nhớ', 'budapest', 'can_thiệp', 'nội_bộ', 'chiếm', 'kích_động', 'nổi_dậy', 'đuổi', 'ua', '2013', 'dựng', 'bù_nhìn', 'yanukovych', 'thân', 'uk', 'cơ_hội', 'bán_đảo', 'đào_tạo', 'nổi_loạn', 'hằng', 'chống_đối', 'điên_rồ', 'bệnh_hoạn', 'chủ_ý', 'mĩ', 'tiêu', 'dân_số', 'vẻ', 'tàn_khốc', 'thực_tế', 'dân_thường', 'ct', 'công_ước', 'geneve', 'mục_tiêu', 'hợp_pháp', 'care', 't_sao', 'fake', 'xóa', 'dcm', 'dạy', 'thích_đáng', 'đúng_đắn', 'chang', 'vịt', '75', 'thể', 'dung_tha', 'khởi_đầu', 'gian_nan', 'chặng', 'sỏi', 'bao_nhiêu', 'nếm_trải', 'hi_vọng', 'phất', 't_tức', 'ức', 'thực_sự', 'ứng_dụng', 'coran', 'phương', 'cảnh_báo_công_dân', 'thổ', 'nhĩ_kỳ', 'chuyên', 'nuôi', 'cào', 'phím', 'nhốt', 'belarus', 'con_heo', 'nhật', 'cc', 'bi', 'ci', 'nôn', 'địa_chỉ', 'bang', 'cộng_hòa', 'điều_động', 'vệ_binh', 'trấn_áp', 'tám', 'thiệt_mạng', 'jerusalem', 'rt', 'world', 'hiền', 'hòa_hợp', 'irael', 'hung_ác', 'đất_đai', 'palestinewhy', 'tô', 'lâm', 'phản_gián', 'trọng', 'lú', 'đụng', 'bắt_cóc', 'quốc_tế', 'thú_dữ', 'né', 'gián_điệp', 'giặc', 'thôi_thì', 'may_ra', 'trái', 'đáng_lẽ', 'vị_trí', 'build', 'quấy_rối', 'nsn', 'nói_dối', 'kết_tội', 'cđ', 'spam', 'giãy', 'đành_đạch', 'đòi', 'đụ', 'me', 'đĩ', 'xách', 'cl', 'dm', 'điện_thoại', 'trốn', 'khốn', 'trò_đùa', 'kéo_dài', 'hủy_hoại', 'mãi', 'chẳng', 'giá_trị', 'qran', 'hành_động', 'chứng_minh', 'sự_thật', 'tiêu_diệt', 'quan_chức', 'giáo', 'thành_viên', 'vùng_xa_xôi', 'somalia', 'chính_quyền', 'biden', 'chửi', 'quen', '113', 'từng_trải', 'nghiệm', 'kinh_khủng', 'up', 'mood', 'rốt_cuộc', 'trãi', 'lằn', 'ranh', 'đỏ', 'âu', 'xe_tăng', 'chúc_mừng', 'khảm', 'không_quân', 'philippines', 'tăng_cường', 'khả_năng', 'máy_bay', 'trực_thăng', 'nato', 'đồng_lòng', 'thơ', 'khởi_nguồn', 'hồ', 'tặc', 'tiền_sử', 'hái_lượm', 'loài', 'vượn', 'tiến_hóa', 'hang', 'giao_phối', 'vô_tội_vạ', 'binladen', 'aqeda', 'taliban', 'cựu_viên_chức', 'cao_cấp', 'fbi', 'bắt', 'tư_pháp', 'thông_báo', 'mìn', 'dzu', 'sô', 'trái_tim_đen', 'đồng_phục', 'cảm_giác', 'lương', 'cầu_xin', 'tâm_lý', 'lẽ_phải', 'đoạn', '501', 'kìm', 'thề', 'khai_thác', 'yếu_tố', 'đấu_tranh', 'hấp_dẫn', 'gòi', 'diễn_viên', 'khủng_long', 'bơ', 'cut', 'chất_độc', 'da_cam', 'tuyên_bố', 'khiêng', 'nội_địa_thế_lực', 'ngăn_cản', 'xác_định', 'đồng_phạm', 'đặc_vụ', 'liên_bang', 'bắt_giữ', '38', 'tình_nghi', 'nhập_cư', 'thời_đại', 'trực_tiếp', 'nhận_thức', 'hiểu_biết', 'dạng', 'thực', 'hành_vi', 'úi_dào', 'bồ', 'buồn_cười', 'blackpink', 'instagram', 'hồng_kông', 'nazi', 'tôn_thờ', 'đơn', 'khởi_kiện', 'giãy_chết', 'đỉa', 'vôi', 'hỏ', 'tống_cổ', 'bất_ổn', 'hiện_nay', 'tài_trợ', 'kiểm_duyệt', 'nghị_sĩ', 'nội_địa', 'đột_kích', 'nhà_riêng', 'energodar', 'cất', 'đùa', 'số_lượng', 'ý_tưởng', 'đồng_loạt', 'quân_đội', 'đối_phó', 'lhq', 'công_bằng', 'đỗ', 'bất_cứ', 'chủ', 'mong_muốn', 'cường_quốc', '01', 'bất_lực', 'quân_đoàn', 'bao_che', 'con_tin', 'khống_chế', 'chính_thức', 'antifa', 'blm', 'tạm', 'tương_lai', 'xa_hoa', 'thể_chế', 'khẳng_định', 'đặt_vòng_hoa', 'tưởng_nhớ', 'dnipro', 'vĩ_tuyến', 'mài', 'dao', 'cs', '875', 'jimin', 'dior', 'fame', 'thật_thà', 'mến', 'buộc_tội', 'quan_trọng', 'rắn_độc', 'giả_sử', 'chiến_thắng', 'đổi', 'hôn', 'nằm_vùng', 'đắp', 'mô', 'biểu_tình', 'tuyên_truyền', 'tb', 'cải_lương', 'gk', 'cũngbk', 'đại_dịch', 'phun', 'trào', 'jacinda', 'bằng_lòng', 'chức_vụ', 'thủ_tướng', 'tự_hào', 'cam_kết', 'tối_đa', 'bình_thường', 'ngấm_ngầm', 'ucraina', 'pháp', 'lan', 'chém_giết', 'don', 'bass', 'báo_chí', 'rởm', '90', 'tất', 'tần_tật', 'sai', 'trâu_bò', 'trâu', 'không_đâu', 'con_em', 'thuê', 'than_thở', 'soledar', 'prigozhin', 'tổng_tham_mưu', 'cắt', 'pháo_binh', 'vietnamese', 'thế_thì', 'nhấp', 'back', 'thầm', 'hình_như', 'sinh_viên', 'vữa', 'xi_măng', 'rớt', 'trúng', 'nhà_trường', 'hù', 'dọa', 'chung_cư', 'hạm', 'thường_dân', 'tộiputin', 'chủng', 'sống_sót', 'phá_hủy', 'nhân_danh', 'sát_cánh', 'cho_dù', 'lời_nói', 'trí_thức', 'diễn_biến', 'thiên_an', 'môn', 'rusko', 'je', 'teroristický', 'stát', 'cộng_đồng', 'lên_tiếng', 'quyền', 'kremlin', 'pháo_kích', 'thiên_đình', 'quần', 'hoài_vậy', 'nởn', 'vởn', 'chên', 'hừm', 'ngày_một', 'hừ', 'rác', 'ly_khai', 'gia_tộc', 'niễng', 'tong', 'kiếp', 'hắn', 'lốp', 'nguyễn', 'lém', 'đầu_thai', 'xuân', 'phúc', 'tướng', 'loan', 'xử', 'bốmấy', 'ác', 'dọn_dẹp', 'đổ_nát', 'kho', 'chứa', 'đạn_dược', 'dniprorudne', 'zaporozhye', 'phát_hiện', 'trái_đất', 'spotlight', 'sỏl', 'ápt', 'tư_bản', 'hòa', 'russia', 'country', 'terror', 'росія', 'країна', 'терору', 'man_rợ', 'bạo_chúa', 'mắn', 'rợ', '111', 'dự_định', 'chấm_dứt', 'nhà_báo', 'công_khai', 'vay', 'đe_doạ', 'hiện_đại', 'binh_sĩ', 'xâm_chiếm', 'khôi_phục', 'liên', 'xô', 'đế_chế', 'khu_phố', 'phong_tỏa', 'thăm_viếng', 'hành', 'người_nhà', 'hình_ảnh', 'tang_lễ', '44', 'bởi_vì', 'toàn_diện', 'quá_trình', 'luật_pháp', 'tăng_tốc', 'bake', 'cứt', 'tịch_thu', 'ăn_cướp', 'feed', 'tl', 'tràn_ngập', 'content', 'gore', '18', 'hữu', 'cheo', 'lpr', 'phá_hoại', 'hoại', 'lugansk', 'áp', 'sát', 'bakhmut', 'syria', 'vnews', 'giai_đoạn', 'ly_hôn', 'nc', 'móc', 'mỉa', 'vịn', 'mạt_sát', 'bh', 'tha', 'đâuclm', 'chạy_án', 'lướt', 'vòng', 'nhở', 'trùm', 'lục_địa', 'mặt_trận', 'email', 'nãy_giờ', 'sn', 'cty', 'đính_chính', 'nguyện', 'nát', 'bàn_phím', 'côn', 'đánh_đập', 'ngăn', 'mxh', 'thời_thế', 'thay_đổi', 'thời_cuộc', 'đối_xử', 'cựu_hoàng', 'từ_chối', 'đề_nghị', 'quậy_phá', 'độc_lập', 'thành_lập', 'tiền_thân', 'ban', 'lọ', 'muối', 'iraq', 'sứa', 'act', 'cool', 'trụ_sở', 'cõng', 'rắn', 'cắn', 'gà', 'tham_gia', 'hoàng', 'số_liệu', 'thận', 'zl', 'bọc_thép', 'bất_kỳ', 'hình_thức', 'trạm', 'cứu_hỏa', 'nhân_viên', 'ngừng_bắn', 'giáng_sinh', 'noti', 'vỡ', 'kịch_bản', 'thua', 'nỗ_lực', 'thất_bại', 'mặc_kệ', 'thoả_thích', 'hoà_bình', 'thân_thiện', 'label', 'elite', 'iranian', 'unit', 'terrorist', 'group', 'telegraph', 'cia', 'mi', 'đoàn_kết', 'chủ_quyền', 'nếu_như', 'loài_người', 'cố_gắng', 'nghèo_khổ', 'mà_lại', 'đen_đủi', 'không_kích', 'ẩn_nấp', 'quốc_tịch', 'bờ', 'ngà', 'có_mặt', 'zelensky', 'toàn_cầu', 'nhânnguoi', 'gin', 'bu', 'iland', 'interf', 'hannies', 'nha_lượng_hủy', 'werserve', 'xấu', 'song_hành', 'tts', 'huyền_thoại', '2023ny', 'hybé', '102', 'tn', 'hẻ', 'đế', 'cuốc', 'ngụy', 'mỹ_học', 'đè', 'báo_cáo', 'nhảy', 'câu_chuyện', 'whatsapp', 'chỉ_trích', 'tấn_công_bằng', 'kyiv', 'dân_chúng', 'tỉnh_ngộ', 'butin', 'vũ_trang', 'ukraina', 'hoả', 'sở_hữu', 'trái_phép', 'tỉ', 'ơn', 'tái_hiện', 'nhắm', 'chí', 'khùng', 'lốc', 'xoáy', '3463547459', 'khiếu_nại', 'định_giá', 'liên_kết', 'biểu_mẫu', 'kỹ_thuật_số', 'chiêm_bao', 'điềm', 'đề', 'conneaut', 'snow', '25k', 'purdunkin', 'live', 'stream', 'снежный', 'человек', 'скунсовая', 'обезьяна', 'yowie', '윈드서핑', 'truk', 'oleng', 'perfect', 'race', 'can', 'no', 'longer', 'be', 'trusted', 'uap', 'ufo', 'uso', 'crash', 'site', '24k', 'views', 'streamed', 'hours', 'khủng_khiếp', 'tia', 'sét', 'ập', 'liên_hoàn', 'mã', 'học', 'cờ_tướng', 'khai_cuộc', 'đỉnh_cao', 'lếu', 'lều', '17083', 'cẩm_nang', 'độc_chiêu', 'nghịch', 'tàn_phá', 'khí_quyển', 'thủ', 'tuyết', 'kim_tự_tháp', 'el', 'castillo', 'thần_linh', 'nổi_giận', 'mới_đây', 'lan_truyền', 'di_tích', 'du_khách', 'bất_ngờ', 'sự_việc', '27122022', 'oa', 'relaxing', 'headphones', 'only', 'kook', 'khoai_tây', 'giòn', 'khum', 'đâuuu', 'vẽ', 'giấy', 'pp', 'hình', 'vijùa', 'khổng_lồ', 'tứ_kết', 'world_cup', 'parents', 'đánh_bại', 'địch', 'child', 'vuốt', '1012', 'ít_nhất', 'bốn', 'tamil', 'nadu', 'ấn_độ', 'qatar', 'ướp', 'cập', 'bó', 'gọn', 'lữa', 'tiêu_điểm', 'xếp', 'thành_hình_dạng', 'mộc', 'khoa_học', 'sửng_sốt', 'khoảnh_khắc', 'viễn_tưởng', 'hứng', 'tempest', 'quần_áo', 'mai', 'hiệu_ứng', 'sân_khấu', 'rồng', 'hóng', 'đcj', 'đặc_thù', 'kế', 'thực_đơn', 'uống', 'rộng_rãi', 'cold', 'phục_vụ', 'vặt', 'xiên', 'xúc_xích', 'cua', 'trộn', 'khoai', 'g9ydv1zsa3', 'lông', 'xù', 'mijia', 'xiaomi', 'lưỡi', 'sắc_bén', 'thiết_kế', '511', 'truyền_thông', 'mét', 'giới_chức', 'lamar', '50', 'hư_hại', 'mỹ_hỏa_hoạn', 'thèm', 'con_trai', 'khải', 'tiktoker', '10x', 'thả', 'thính', 'hư_hỏng', 'chuyên_gia', 'press', 'herald', 'tan_nát', 'tiệm', 'ròng', 'phó', 'lê', 'thanh_niên', 'moto', 'bung', 'rít', 'sương', 'quảng_trịnay', 'chợ', '16h', '279', 'thị_trấn', 'gio', 'cây_cối', 'quật', 'tan', 'chủ_động', 'phòng_tránh', 'tốc_độ', 'zi', '320kmg', 'trách_nhiệm', 'trừng_phạt', 'tiền_mặt', 'coinbase', 'đề_xuất', 'makerdao', 'khách_hàng', 'chương_trình', 'phần_thưởng', 'kiên_giang', 'chủ_yếu', 'đồi', 'núi', 'xói_mòn', 'nhiệt_đới', 'giông', 'cát', 'giây_phút', 'hạnh_phúc', 'toi', '090322', 'thời_sự', 'mướn', 'địa_chấn_động_đất', 'qá', 'đì', 'chây', 'tag', 'lgi', 'vortex', 'voting', 'as', 'my', 'song', 'choice', 'lượt', 'zalopay', 'xoay', 'quà', 'ẵm', '888888đ', 'voucher', 'ví', 'njm', 'cận_cảnh', 'haha', 'tạnh', 'mù', 'there', 'was', 'tornado', 'warning', 'but', 'did', 'tablet', 'máy_tính', 'bảng', 'continental', 'kỳ_vọng', 'ah', 'món', 'bụi', 'bluestone', 'vcb8067', 'lọc', 'hepa', 'công_nghệ', 'nhấc', 'mặt_đất', 'đàn', 'cá', 'đối_phương', 'thành_hình', 'thiên_lốc', 'lt', 'cdata', 'nhảy_múa', 'sân', 'bóng', 'minnesota', 'hoảng_sợ', 'gt', 'funxrin', 'công_thức_ăn', 'khô', 'jujubes', 'snack', '26', 'thương_vong', 'chú_ý', 'sấm_sét', '3a90w', 'tính_năng', 'hoàn_hảo', 'xuất_quân', 'mát', 'chaba', 'triều_châu', 'quảng_đông', 'drone', 'that', 'fly', 'wind', 'speeds', 'gió_lốc', 'tròn', 'con_gái', 'iu', 'darari', 'bão_tố', 'sáng_tác', 'born', 'love', 'tiền_bối', 'nổi_tiếng', 'yedam', 'đỉnhh', 'tp', 'sơn', 'chập', 'xé', 'toạc', 'đậu_hũ', 'monvegan', 'french', 'touch', '0888898281', 'website', 'việt_fanpage', 'sáng_rực', 'tứ_tung', 'dữ_dội', 'sầu_riêng', 'this', 'year', 'quang_cảnh', 'không_gian', 'tế_bào', 'chicago', 'luận', 'gigga', 'xúm', 'chọc', 'đây_đó', 'tonado', 'hia', 'mỏng_manh', 'nông_dân', 'khánh_hòa', 'chiêu_thức', 'thất_truyền', 'vòng_vòng', 'ray', 'át', 'mu', 'hãm', 'loz', 'đu', 'đê', 'ảo_tưởng', 'sự_tình', 'tẩy', 'siêu_việt', 'hay_là', 'hater', 'mu_chòi', 'rách', 'idea', 'page', 'núp', 'lùm', 'cp', 'ẳng', 'tây_ban', 'yakecan', 'phân_tích', 'cực_đoan', 'đẩy', '40c', 'hiếm', 'uruguay', 'brazil', '40', 'bong_bóng', 'quét', 'paderborn', 'michigan', 'cơ_sở', 'kinh_doanh', 'gaylord', 'thứ_sáu', 'thổi', '175', 'vùng_biển', 'dông', 'di_linh', 'tân_thượng', 'sát_thương', 'taeyeon', 'lôi', 'đầu_vào', 'nửa', 'noaa', 'bắt_đầu', 'trung_bình', 'thuận', 'đài', '1000', 'rơi', 'trầm_trọng', 'xử_lý', 'vô_tình', 'tình_huống', 'giông_bão', 'trường_học', 'trông_chừng', 'texas', 'papa', 'cluckeria', 'game', 'mô_phỏng', 'trò_chơi', 'quản_lý', 'nhiệm', 'vục', 'bánh', 'mỳ', 'kẹp', 'thịt', 'thơm', 'định', 'gãy', 'ib', 'nha_e', '16cm', 'biệt', 'ngã', 'ầm_ầm', 'mái_hiên', 'thiêu_đốt', 'mẹo', 'cờ', 'tướn', 'waco', 'austin', 'bỏ_túi', 'khai', 'tìm_kiếm', 'tra_cứu', 'sinh_sống', 'tin_tức', 'ngày_mai', 'mưa_nắng_nóng', 'trang_web', 'bí_ẩn', 'kiki', 'hoạt_hình', 'thiếu_nhi', '133', 'khơi', 'bình_thuận', 'cà_mau', 'mưa_rào', 'áp_thấp', 'rảnh', 'tuy_nhiên', 'bộ_môn', 'ám_ảnh', 'gớm', 'ảo', 'gian', 'giấc_ngủ', 'đểu', 'phủ', 'nd', 'tuyến_tính', 'quang_học', 'light', 'stick', 'kkkkk', 'suy_luận', 'stress', 'dường_như', 'bó_hẹp', 'vì_vậy', 'pollock', 'nằm_mơ', 'vòi_rồng', 'ũmg', 'ứ_ừ', 'hihi', 'sketchzine', 'tặng', 'đột_nhiên', '172', 'tràn', 'dày', 'thí_nghiệm', 'liên_quân', 'siêu_tốc_độ', '21', 'combo', 'x1000', 'pot', 'liên_minh', 'cốc', 'hồng', 'trà', 'đặc', 'bánh_giò', 'nghi_ngút', 'khắp_chốn', 'ấm_áp', 'tràn_đầy', 'bộn_bề', 'kịp', 'mây', 'ước', 'cản', 'lưu', 'phong', 'hà_natra', 'vật_lý', 'đại_dương', '33', 'who', 'kkkk', 'hiện_hình', 'chời', 'vòng_tròn', 'logo', 'nèiiiiiiiiiiii', 'kí_hiệu', 'giải_mã', 'lỗ_hổng', 'tưởng_tượng', 'billboard', 'cupholder', 'rã', 'twitter', 'bắt_đầu_đọc', 'đam', 'dần_dần', 'bướm', 'nụ', 'csy', 'biểu_tượng', 'tương_tự', 'chắc_chắn', 'xịt', 'gầm', 'rửa', 'cbt', '02', 'bt', 'motor', 'spa', 'nma', 'saigon', 'tv', '12142021lốc', 'tiểu_bang', 'chuỗi', 'giáng', '_rốn', 'hứng_chịu_trận', 'lý_do', 'trở_thành_rốn', 'tan_hoang', 'vnexpress', '1412', 'joe', 'vệ_tinh', 'tổng_cộng', '88', 'xác_nhận', '74', 'kentucky', '105', 'nhỏ_tuổi', 'ap', 'thăm', 'usa', 'đinh', 'quang', 'chết_chóc', 'tận_thế', '80', 'tài_xế', 'tắm', '94', 'hãi_hùng', 'cảnh_tượng', 'hoang_tàn', 'nhân_chứng', 'đêm_ngày', 'arkansas', 'mississippi', 'illinois', 'tennessee', 'missouri', '83', 'gấp_gáp', 'bất_thường', '78', '70', 'thảm_kịch', 'mạn', 'tây_bang', 'abs', 'dự_đoán', 'thể_xác_nhận', 'nhà_máy_phá', 'tơi_bời', 'toà_án', 'nhà_tù', 'pay', 'mặt_trời', 'soo', 'đh', 'pdx', 'kết_cục', 'idul', 'twoset', 'dấu_hiệu_trưởng_thành_thực_sự', 'chuảng', 'bạc_liêu', 'hề', 'chiên', 'giao', 'lười', 'phản_ánh', 'mấy_đời', 'bias', 'suho', 'bão_táp', 'sa', 'phong_ba', 'chống_đỡ', 'tung_toé', 'mê_hồn', 'ánh_sáng', 'đánh_số', 'dĩa', 'huông', 'lở', 'bão_tuyết', 'núi_lửa', 'binh_lính', 'fiji', 'lớp_học', 'youtube', '29102021', 'nhấn', '28102021', '27102021', 'dấu_vết', 'cô_lập', '2216', 'dũ', 'tẩm', 'ớt', 'hồ_lô', 'cà_chua', 'bõ', 'công', 'chờ_đợi', 'pass', 'đệ', 'suy_yếu', 'vịnh', 'cường_độ', 'dâng', 'vùng_ven', '11102021', 'quái_vật', 'hói', 'đớn', 'cơm', 'mc', 'share', 'kem', 'nugget', 'ngánn', 'hàng_loạt', 'nguyên_tử', 'ngờ', 'ngũ', 'thất', 'hiến', 'thần_tốc', 'áo_dài', 'cộc', 'zjy', 'hạ_gục', 'đối_thủ', 'fsc', 'chấp', 'chiêu_thuận', 'tpst', 'dị', 'hoàn_lưu', 'mưa_lũ', 'york', 'burlington', 'county', 'jersey', 'nước_lạnh', 'armstrong', 'bùng_nổ', 'bất_khả', 'chiến_bại', 'dan', 'tuổi_cái', 'ngôn_ngữ', 'ngữ_pháp', 'vu', 'bến', 'tre', 'cấm', 'kết_hợp', 'đại', 'thót_tim', 'giồng', 'riềng', 'kiên', 'giang', 'kca', '10082021', 'bão_cát', 'mạc', 'gobimông', 'khiếp', 'quốccận', 'cyclone', 'bts', 'pennsylvania', 'dọn', 'liên_tưởng', 'điệu', 'quạt', 'xoáy_đồ', 'vinh', 'hèn', 'tornados', 'lúc_nào', 'tầng', 'kiên_cố', 'cửa_sổ', 'tường', 'nhiếp_ảnh', 'chạm', 'hoàng_hôn', 'muỗi', 'đen_kịt', 'barrie', 'ontario', '1572021', 'ninja', 'buy', 'nẹ', 'ik', 'mau', 'lênnnnnnn', 'lightstick', 'chong_chóng', 'chữ_cái', 'lồng', 'hợp_lí', 'nồi', 'dầu', 'cosori', '06072021', 'florida', 'elsa', 'cbt02', 'phone', '0989', '855', '242', 'tiếp_tục', 'lạ', 'mở_rộng', 'khám_xét', 'cựu', 'nội_vụ', '太难了', 'nán', 'le', '타이난러', '너무', '어려워요', 'nghề_nghiệp', 'tát', 'làm_việc', 'cày', 'nợ', 'hà_tĩnh', 'xem_xét', 'qua_đời', 'đám_tang', 'trizzie', 'trinh', 'khâu', 'mũi', 'trách', 'làm_ăn', 'mới_rồi', 'giới_hạn', 'phàn_nàn', 'rút', 'kinh_nghiệm', 'dùm', 'xe_khách', 'hên', 'làn', 'lươn', 'hẹp', 'bao_gồm', 'lỗi', 'trục_trặc', 'kỹ_thuật', '400', 'lái_xe', 'trips', 'aaa', 'gg', 'win', 'dk', 'clg', 't1', 'nch', 'lz', 'yên', 'bái', 'chiến_sĩ', 'hy_sinh', 'ak', 'ja', 'mắng', 'vết', 'trêu', 'xèng', 'tháng_ngày', 'hah', 'wkwnisysshshsj', 'bener', 'tai_nan', 'nhẹ_nhàng', 'dễ_chịu', 'ấn_tượng', 'ngày_xưa', 'harry', 'first', 'bàn', 'hẹn', 'cf', 'phí_phạm', 'đb', 'dream', 'đhs', 'cố_chấp', 'tư_duy', 'nhỉko', 'sp', 'nản', 'giùm', '16000000', '18000000', 'đồng_hành_vi', 'phạt', 'điều_khiển', 'dừng', 'hiện_trường', 'tham', 'vb8zq4uth6', 'lũng', 'bá', 'thước', 'thanh_hóa', 'cháu', 'đằng', 'lao', 'vực', 'drops', 'ôtô', 'eo_biển', 'malacca', 'hỗn_loạn', 'tờ', 'quỹ_đạo', 'tiêu_cực', 'thất_vọng', 'idol', 'dẫm', 'lịch_trình', 'lí_do', 'kì', 'vọng', 'outfit', 'tem', 'bn', 'oao', 'stylist', 'lạc', 'thãm_họa', 'đần', 'đmcs', 'đạo_luật', 'bụng', 'đau_đớn', 'kg', 'quá_trớn', 'hf1', 'cười_tục', 'chừa', 'chổ', 'giễu', 'phang', 'thảm_hoạ', 'tượng', 'bấy_nhiêu', 'thức_tỉnh', 'họa', 'diệt_vong', 'vận_mạng', 'na_ná', 'lừa', 'số_nhân', 'sự_kiện', 'thiên_nga', 'tần_số', 'cuộc_chiến', 'thế_chiến', 'donald', 'trump', 'zombie', 'op', 'hyuk', 'phản_ứng', 'bỏ_rơi', 'harang0423', 'ý_thức', 'tập_thể', 'hitler', 'nắm_bắt', 'thời_cơ', 'ngốc', 'holocaust', 'môṭ', 'thông_điệp', 'kế_hoạch', 'thực_hiện', 'đánh_giá']\n"
     ]
    }
   ],
   "source": [
    "vocab = classifier.vocabulary_\n",
    "print(\"Vocab:\", list(vocab.keys()))\n",
    "\n"
   ]
  },
  {
   "cell_type": "code",
   "execution_count": 1782,
   "id": "16bd0a42",
   "metadata": {},
   "outputs": [
    {
     "name": "stdout",
     "output_type": "stream",
     "text": [
      "Số từ trong vocab: 3419\n"
     ]
    }
   ],
   "source": [
    "vocab = classifier.vocabulary_\n",
    "word_count = len(vocab)\n",
    "print(\"Số từ trong vocab:\", word_count)"
   ]
  },
  {
   "cell_type": "code",
   "execution_count": 1783,
   "id": "240ecc62",
   "metadata": {},
   "outputs": [
    {
     "name": "stdout",
     "output_type": "stream",
     "text": [
      "                                          text_cleaned\n",
      "0                   trc táo_bón xả đc đc dịp xả bão lũ\n",
      "1    heather conan gray thánh_ca mùa đông chúa_tể t...\n",
      "2    hoa kỳ chiến_dịch cứu_trợ đồng_bào lũ_lụt việt...\n",
      "3    hà nội dần lạnh bếp lửa ấm_áp nè mong ảnh_hưởn...\n",
      "4                      ngon ngon thanks a bão lũ có_ăn\n",
      "..                                                 ...\n",
      "196  cherry bomb 1 nương đcm 2017 cherry bomb coi t...\n",
      "197  hành_tinh xếp thẳng hàng xuất_hiện ngôi_sao ch...\n",
      "198                                    đi dép thảm_họa\n",
      "199                                    đi dép thảm_họa\n",
      "200                                    thảm_hoạ zombie\n",
      "\n",
      "[201 rows x 1 columns]\n"
     ]
    }
   ],
   "source": [
    "df_a = pd.concat([test[['text_cleaned']]], axis=1)\n",
    "\n",
    "# In kết quả bảng A\n",
    "print(df_a)"
   ]
  },
  {
   "cell_type": "markdown",
   "id": "8e214f12",
   "metadata": {},
   "source": []
  },
  {
   "cell_type": "code",
   "execution_count": 1784,
   "id": "82af36c6",
   "metadata": {
    "execution": {
     "iopub.execute_input": "2023-05-29T06:45:26.527661Z",
     "iopub.status.busy": "2023-05-29T06:45:26.526846Z",
     "iopub.status.idle": "2023-05-29T06:45:26.990336Z",
     "shell.execute_reply": "2023-05-29T06:45:26.988467Z"
    },
    "papermill": {
     "duration": 0.48732,
     "end_time": "2023-05-29T06:45:26.995196",
     "exception": false,
     "start_time": "2023-05-29T06:45:26.507876",
     "status": "completed"
    },
    "tags": []
   },
   "outputs": [
    {
     "data": {
      "text/html": [
       "<style>#sk-container-id-65 {color: black;background-color: white;}#sk-container-id-65 pre{padding: 0;}#sk-container-id-65 div.sk-toggleable {background-color: white;}#sk-container-id-65 label.sk-toggleable__label {cursor: pointer;display: block;width: 100%;margin-bottom: 0;padding: 0.3em;box-sizing: border-box;text-align: center;}#sk-container-id-65 label.sk-toggleable__label-arrow:before {content: \"▸\";float: left;margin-right: 0.25em;color: #696969;}#sk-container-id-65 label.sk-toggleable__label-arrow:hover:before {color: black;}#sk-container-id-65 div.sk-estimator:hover label.sk-toggleable__label-arrow:before {color: black;}#sk-container-id-65 div.sk-toggleable__content {max-height: 0;max-width: 0;overflow: hidden;text-align: left;background-color: #f0f8ff;}#sk-container-id-65 div.sk-toggleable__content pre {margin: 0.2em;color: black;border-radius: 0.25em;background-color: #f0f8ff;}#sk-container-id-65 input.sk-toggleable__control:checked~div.sk-toggleable__content {max-height: 200px;max-width: 100%;overflow: auto;}#sk-container-id-65 input.sk-toggleable__control:checked~label.sk-toggleable__label-arrow:before {content: \"▾\";}#sk-container-id-65 div.sk-estimator input.sk-toggleable__control:checked~label.sk-toggleable__label {background-color: #d4ebff;}#sk-container-id-65 div.sk-label input.sk-toggleable__control:checked~label.sk-toggleable__label {background-color: #d4ebff;}#sk-container-id-65 input.sk-hidden--visually {border: 0;clip: rect(1px 1px 1px 1px);clip: rect(1px, 1px, 1px, 1px);height: 1px;margin: -1px;overflow: hidden;padding: 0;position: absolute;width: 1px;}#sk-container-id-65 div.sk-estimator {font-family: monospace;background-color: #f0f8ff;border: 1px dotted black;border-radius: 0.25em;box-sizing: border-box;margin-bottom: 0.5em;}#sk-container-id-65 div.sk-estimator:hover {background-color: #d4ebff;}#sk-container-id-65 div.sk-parallel-item::after {content: \"\";width: 100%;border-bottom: 1px solid gray;flex-grow: 1;}#sk-container-id-65 div.sk-label:hover label.sk-toggleable__label {background-color: #d4ebff;}#sk-container-id-65 div.sk-serial::before {content: \"\";position: absolute;border-left: 1px solid gray;box-sizing: border-box;top: 0;bottom: 0;left: 50%;z-index: 0;}#sk-container-id-65 div.sk-serial {display: flex;flex-direction: column;align-items: center;background-color: white;padding-right: 0.2em;padding-left: 0.2em;position: relative;}#sk-container-id-65 div.sk-item {position: relative;z-index: 1;}#sk-container-id-65 div.sk-parallel {display: flex;align-items: stretch;justify-content: center;background-color: white;position: relative;}#sk-container-id-65 div.sk-item::before, #sk-container-id-65 div.sk-parallel-item::before {content: \"\";position: absolute;border-left: 1px solid gray;box-sizing: border-box;top: 0;bottom: 0;left: 50%;z-index: -1;}#sk-container-id-65 div.sk-parallel-item {display: flex;flex-direction: column;z-index: 1;position: relative;background-color: white;}#sk-container-id-65 div.sk-parallel-item:first-child::after {align-self: flex-end;width: 50%;}#sk-container-id-65 div.sk-parallel-item:last-child::after {align-self: flex-start;width: 50%;}#sk-container-id-65 div.sk-parallel-item:only-child::after {width: 0;}#sk-container-id-65 div.sk-dashed-wrapped {border: 1px dashed gray;margin: 0 0.4em 0.5em 0.4em;box-sizing: border-box;padding-bottom: 0.4em;background-color: white;}#sk-container-id-65 div.sk-label label {font-family: monospace;font-weight: bold;display: inline-block;line-height: 1.2em;}#sk-container-id-65 div.sk-label-container {text-align: center;}#sk-container-id-65 div.sk-container {/* jupyter's `normalize.less` sets `[hidden] { display: none; }` but bootstrap.min.css set `[hidden] { display: none !important; }` so we also need the `!important` here to be able to override the default hidden behavior on the sphinx rendered scikit-learn.org. See: https://github.com/scikit-learn/scikit-learn/issues/21755 */display: inline-block !important;position: relative;}#sk-container-id-65 div.sk-text-repr-fallback {display: none;}</style><div id=\"sk-container-id-65\" class=\"sk-top-container\"><div class=\"sk-text-repr-fallback\"><pre>LogisticRegression()</pre><b>In a Jupyter environment, please rerun this cell to show the HTML representation or trust the notebook. <br />On GitHub, the HTML representation is unable to render, please try loading this page with nbviewer.org.</b></div><div class=\"sk-container\" hidden><div class=\"sk-item\"><div class=\"sk-estimator sk-toggleable\"><input class=\"sk-toggleable__control sk-hidden--visually\" id=\"sk-estimator-id-65\" type=\"checkbox\" checked><label for=\"sk-estimator-id-65\" class=\"sk-toggleable__label sk-toggleable__label-arrow\">LogisticRegression</label><div class=\"sk-toggleable__content\"><pre>LogisticRegression()</pre></div></div></div></div></div>"
      ],
      "text/plain": [
       "LogisticRegression()"
      ]
     },
     "execution_count": 1784,
     "metadata": {},
     "output_type": "execute_result"
    }
   ],
   "source": [
    "logReg=LogisticRegression(penalty='l2')\n",
    "logReg.fit(x_train,y_train)"
   ]
  },
  {
   "cell_type": "code",
   "execution_count": 1785,
   "id": "9fa48249",
   "metadata": {
    "execution": {
     "iopub.execute_input": "2023-05-29T06:45:27.072419Z",
     "iopub.status.busy": "2023-05-29T06:45:27.071643Z",
     "iopub.status.idle": "2023-05-29T06:45:27.088460Z",
     "shell.execute_reply": "2023-05-29T06:45:27.086548Z"
    },
    "papermill": {
     "duration": 0.060825,
     "end_time": "2023-05-29T06:45:27.092863",
     "exception": false,
     "start_time": "2023-05-29T06:45:27.032038",
     "status": "completed"
    },
    "tags": []
   },
   "outputs": [
    {
     "data": {
      "text/plain": [
       "0.986449864498645"
      ]
     },
     "execution_count": 1785,
     "metadata": {},
     "output_type": "execute_result"
    }
   ],
   "source": [
    "R=logReg.predict(x_train)\n",
    "accuracy_score(y_train,R)"
   ]
  },
  {
   "attachments": {},
   "cell_type": "markdown",
   "id": "ab34911e",
   "metadata": {
    "papermill": {
     "duration": 0.018003,
     "end_time": "2023-05-29T06:45:27.128426",
     "exception": false,
     "start_time": "2023-05-29T06:45:27.110423",
     "status": "completed"
    },
    "tags": []
   },
   "source": [
    "## Support Vector Classifier"
   ]
  },
  {
   "cell_type": "code",
   "execution_count": 1786,
   "id": "026327bc",
   "metadata": {
    "execution": {
     "iopub.execute_input": "2023-05-29T06:45:27.167321Z",
     "iopub.status.busy": "2023-05-29T06:45:27.166485Z",
     "iopub.status.idle": "2023-05-29T06:45:33.831015Z",
     "shell.execute_reply": "2023-05-29T06:45:33.829613Z"
    },
    "papermill": {
     "duration": 6.687945,
     "end_time": "2023-05-29T06:45:33.834601",
     "exception": false,
     "start_time": "2023-05-29T06:45:27.146656",
     "status": "completed"
    },
    "tags": []
   },
   "outputs": [
    {
     "data": {
      "text/html": [
       "<style>#sk-container-id-66 {color: black;background-color: white;}#sk-container-id-66 pre{padding: 0;}#sk-container-id-66 div.sk-toggleable {background-color: white;}#sk-container-id-66 label.sk-toggleable__label {cursor: pointer;display: block;width: 100%;margin-bottom: 0;padding: 0.3em;box-sizing: border-box;text-align: center;}#sk-container-id-66 label.sk-toggleable__label-arrow:before {content: \"▸\";float: left;margin-right: 0.25em;color: #696969;}#sk-container-id-66 label.sk-toggleable__label-arrow:hover:before {color: black;}#sk-container-id-66 div.sk-estimator:hover label.sk-toggleable__label-arrow:before {color: black;}#sk-container-id-66 div.sk-toggleable__content {max-height: 0;max-width: 0;overflow: hidden;text-align: left;background-color: #f0f8ff;}#sk-container-id-66 div.sk-toggleable__content pre {margin: 0.2em;color: black;border-radius: 0.25em;background-color: #f0f8ff;}#sk-container-id-66 input.sk-toggleable__control:checked~div.sk-toggleable__content {max-height: 200px;max-width: 100%;overflow: auto;}#sk-container-id-66 input.sk-toggleable__control:checked~label.sk-toggleable__label-arrow:before {content: \"▾\";}#sk-container-id-66 div.sk-estimator input.sk-toggleable__control:checked~label.sk-toggleable__label {background-color: #d4ebff;}#sk-container-id-66 div.sk-label input.sk-toggleable__control:checked~label.sk-toggleable__label {background-color: #d4ebff;}#sk-container-id-66 input.sk-hidden--visually {border: 0;clip: rect(1px 1px 1px 1px);clip: rect(1px, 1px, 1px, 1px);height: 1px;margin: -1px;overflow: hidden;padding: 0;position: absolute;width: 1px;}#sk-container-id-66 div.sk-estimator {font-family: monospace;background-color: #f0f8ff;border: 1px dotted black;border-radius: 0.25em;box-sizing: border-box;margin-bottom: 0.5em;}#sk-container-id-66 div.sk-estimator:hover {background-color: #d4ebff;}#sk-container-id-66 div.sk-parallel-item::after {content: \"\";width: 100%;border-bottom: 1px solid gray;flex-grow: 1;}#sk-container-id-66 div.sk-label:hover label.sk-toggleable__label {background-color: #d4ebff;}#sk-container-id-66 div.sk-serial::before {content: \"\";position: absolute;border-left: 1px solid gray;box-sizing: border-box;top: 0;bottom: 0;left: 50%;z-index: 0;}#sk-container-id-66 div.sk-serial {display: flex;flex-direction: column;align-items: center;background-color: white;padding-right: 0.2em;padding-left: 0.2em;position: relative;}#sk-container-id-66 div.sk-item {position: relative;z-index: 1;}#sk-container-id-66 div.sk-parallel {display: flex;align-items: stretch;justify-content: center;background-color: white;position: relative;}#sk-container-id-66 div.sk-item::before, #sk-container-id-66 div.sk-parallel-item::before {content: \"\";position: absolute;border-left: 1px solid gray;box-sizing: border-box;top: 0;bottom: 0;left: 50%;z-index: -1;}#sk-container-id-66 div.sk-parallel-item {display: flex;flex-direction: column;z-index: 1;position: relative;background-color: white;}#sk-container-id-66 div.sk-parallel-item:first-child::after {align-self: flex-end;width: 50%;}#sk-container-id-66 div.sk-parallel-item:last-child::after {align-self: flex-start;width: 50%;}#sk-container-id-66 div.sk-parallel-item:only-child::after {width: 0;}#sk-container-id-66 div.sk-dashed-wrapped {border: 1px dashed gray;margin: 0 0.4em 0.5em 0.4em;box-sizing: border-box;padding-bottom: 0.4em;background-color: white;}#sk-container-id-66 div.sk-label label {font-family: monospace;font-weight: bold;display: inline-block;line-height: 1.2em;}#sk-container-id-66 div.sk-label-container {text-align: center;}#sk-container-id-66 div.sk-container {/* jupyter's `normalize.less` sets `[hidden] { display: none; }` but bootstrap.min.css set `[hidden] { display: none !important; }` so we also need the `!important` here to be able to override the default hidden behavior on the sphinx rendered scikit-learn.org. See: https://github.com/scikit-learn/scikit-learn/issues/21755 */display: inline-block !important;position: relative;}#sk-container-id-66 div.sk-text-repr-fallback {display: none;}</style><div id=\"sk-container-id-66\" class=\"sk-top-container\"><div class=\"sk-text-repr-fallback\"><pre>SVC()</pre><b>In a Jupyter environment, please rerun this cell to show the HTML representation or trust the notebook. <br />On GitHub, the HTML representation is unable to render, please try loading this page with nbviewer.org.</b></div><div class=\"sk-container\" hidden><div class=\"sk-item\"><div class=\"sk-estimator sk-toggleable\"><input class=\"sk-toggleable__control sk-hidden--visually\" id=\"sk-estimator-id-66\" type=\"checkbox\" checked><label for=\"sk-estimator-id-66\" class=\"sk-toggleable__label sk-toggleable__label-arrow\">SVC</label><div class=\"sk-toggleable__content\"><pre>SVC()</pre></div></div></div></div></div>"
      ],
      "text/plain": [
       "SVC()"
      ]
     },
     "execution_count": 1786,
     "metadata": {},
     "output_type": "execute_result"
    }
   ],
   "source": [
    "from sklearn.svm import SVC\n",
    "svc_model=SVC()\n",
    "svc_model.fit(x_train,y_train)"
   ]
  },
  {
   "cell_type": "code",
   "execution_count": 1787,
   "id": "edb87e5c",
   "metadata": {
    "execution": {
     "iopub.execute_input": "2023-05-29T06:45:33.944487Z",
     "iopub.status.busy": "2023-05-29T06:45:33.943477Z",
     "iopub.status.idle": "2023-05-29T06:45:33.950228Z",
     "shell.execute_reply": "2023-05-29T06:45:33.949197Z"
    },
    "papermill": {
     "duration": 0.030715,
     "end_time": "2023-05-29T06:45:33.953349",
     "exception": false,
     "start_time": "2023-05-29T06:45:33.922634",
     "status": "completed"
    },
    "tags": []
   },
   "outputs": [],
   "source": [
    "pred=logReg.predict(x_test)"
   ]
  },
  {
   "cell_type": "code",
   "execution_count": 1788,
   "id": "7f654b6b",
   "metadata": {
    "execution": {
     "iopub.execute_input": "2023-05-29T06:45:33.991572Z",
     "iopub.status.busy": "2023-05-29T06:45:33.990638Z",
     "iopub.status.idle": "2023-05-29T06:45:33.999461Z",
     "shell.execute_reply": "2023-05-29T06:45:33.998245Z"
    },
    "papermill": {
     "duration": 0.031202,
     "end_time": "2023-05-29T06:45:34.002318",
     "exception": false,
     "start_time": "2023-05-29T06:45:33.971116",
     "status": "completed"
    },
    "tags": []
   },
   "outputs": [
    {
     "data": {
      "text/plain": [
       "0.8433734939759037"
      ]
     },
     "execution_count": 1788,
     "metadata": {},
     "output_type": "execute_result"
    }
   ],
   "source": [
    "accuracy_score(y_test,pred)"
   ]
  },
  {
   "cell_type": "code",
   "execution_count": 1789,
   "id": "a512fadd",
   "metadata": {
    "execution": {
     "iopub.execute_input": "2023-05-29T06:45:34.076569Z",
     "iopub.status.busy": "2023-05-29T06:45:34.075648Z",
     "iopub.status.idle": "2023-05-29T06:45:34.759393Z",
     "shell.execute_reply": "2023-05-29T06:45:34.758371Z"
    },
    "papermill": {
     "duration": 0.706626,
     "end_time": "2023-05-29T06:45:34.762467",
     "exception": false,
     "start_time": "2023-05-29T06:45:34.055841",
     "status": "completed"
    },
    "tags": []
   },
   "outputs": [],
   "source": [
    "y_pre=svc_model.predict(x_test)"
   ]
  },
  {
   "cell_type": "code",
   "execution_count": 1790,
   "id": "6641f5fa",
   "metadata": {
    "execution": {
     "iopub.execute_input": "2023-05-29T06:45:34.801871Z",
     "iopub.status.busy": "2023-05-29T06:45:34.800952Z",
     "iopub.status.idle": "2023-05-29T06:45:34.809204Z",
     "shell.execute_reply": "2023-05-29T06:45:34.807603Z"
    },
    "papermill": {
     "duration": 0.030962,
     "end_time": "2023-05-29T06:45:34.812172",
     "exception": false,
     "start_time": "2023-05-29T06:45:34.781210",
     "status": "completed"
    },
    "tags": []
   },
   "outputs": [
    {
     "name": "stdout",
     "output_type": "stream",
     "text": [
      "0.8554216867469879\n"
     ]
    }
   ],
   "source": [
    "score=accuracy_score(y_test,y_pre,normalize=True)\n",
    "print(score)"
   ]
  },
  {
   "cell_type": "code",
   "execution_count": 1791,
   "id": "4a3ceeba",
   "metadata": {
    "execution": {
     "iopub.execute_input": "2023-05-29T06:45:34.885638Z",
     "iopub.status.busy": "2023-05-29T06:45:34.885151Z",
     "iopub.status.idle": "2023-05-29T06:45:34.963258Z",
     "shell.execute_reply": "2023-05-29T06:45:34.961845Z"
    },
    "papermill": {
     "duration": 0.100617,
     "end_time": "2023-05-29T06:45:34.966321",
     "exception": false,
     "start_time": "2023-05-29T06:45:34.865704",
     "status": "completed"
    },
    "tags": []
   },
   "outputs": [],
   "source": [
    "x=classifier.transform(test['text'])"
   ]
  },
  {
   "cell_type": "code",
   "execution_count": 1792,
   "id": "7ee2e199",
   "metadata": {
    "execution": {
     "iopub.execute_input": "2023-05-29T06:45:35.004514Z",
     "iopub.status.busy": "2023-05-29T06:45:35.003691Z",
     "iopub.status.idle": "2023-05-29T06:45:37.653250Z",
     "shell.execute_reply": "2023-05-29T06:45:37.651544Z"
    },
    "papermill": {
     "duration": 2.673574,
     "end_time": "2023-05-29T06:45:37.657796",
     "exception": false,
     "start_time": "2023-05-29T06:45:34.984222",
     "status": "completed"
    },
    "tags": []
   },
   "outputs": [],
   "source": [
    "predictions=svc_model.predict(x)"
   ]
  },
  {
   "cell_type": "code",
   "execution_count": 1793,
   "id": "614c5613",
   "metadata": {},
   "outputs": [],
   "source": [
    "prediction=logReg.predict(x)"
   ]
  },
  {
   "cell_type": "code",
   "execution_count": 1794,
   "id": "cec6eb5f",
   "metadata": {},
   "outputs": [
    {
     "name": "stdout",
     "output_type": "stream",
     "text": [
      "Confusion Matrix (Logistic Regression):\n",
      " [[31  7]\n",
      " [ 6 39]]\n",
      "Confusion Matrix (SVM):\n",
      " [[32  6]\n",
      " [ 6 39]]\n"
     ]
    }
   ],
   "source": [
    "from sklearn.metrics import classification_report, accuracy_score, confusion_matrix\n",
    "cm_lr = confusion_matrix(y_test, pred)\n",
    "print(\"Confusion Matrix (Logistic Regression):\\n\", cm_lr)\n",
    "\n",
    "# Calculate and display the confusion matrix for SVM\n",
    "cm_svm = confusion_matrix(y_test, y_pre)\n",
    "print(\"Confusion Matrix (SVM):\\n\", cm_svm)"
   ]
  },
  {
   "cell_type": "code",
   "execution_count": 1795,
   "id": "a7ff087e",
   "metadata": {
    "execution": {
     "iopub.execute_input": "2023-05-29T06:45:37.706611Z",
     "iopub.status.busy": "2023-05-29T06:45:37.705415Z",
     "iopub.status.idle": "2023-05-29T06:45:37.720066Z",
     "shell.execute_reply": "2023-05-29T06:45:37.718455Z"
    },
    "papermill": {
     "duration": 0.041047,
     "end_time": "2023-05-29T06:45:37.723626",
     "exception": false,
     "start_time": "2023-05-29T06:45:37.682579",
     "status": "completed"
    },
    "tags": []
   },
   "outputs": [
    {
     "name": "stdout",
     "output_type": "stream",
     "text": [
      "Mean Square Error is:  0.1566265060240964\n",
      "F1 Score is:  0.8571428571428571\n",
      "R Square score is:  0.36900584795321645\n",
      "Accuracy score is  0.8433734939759037\n",
      "Accuracy score is 84.34%\n"
     ]
    }
   ],
   "source": [
    "from sklearn.metrics import mean_squared_error as mse\n",
    "from sklearn.metrics import r2_score, f1_score\n",
    "from sklearn.metrics import accuracy_score\n",
    "from sklearn.metrics import confusion_matrix\n",
    "\n",
    "# Calculate the confusion matrix\n",
    "cm = confusion_matrix(y_test, pred)\n",
    "\n",
    "\n",
    "print(\"Mean Square Error is: \", mse(y_test, pred))\n",
    "print(\"F1 Score is: \", f1_score(y_test, pred))\n",
    "print(\"R Square score is: \", r2_score(y_test, pred))\n",
    "print(\"Accuracy score is \", accuracy_score(y_test, pred))\n",
    "print(f\"Accuracy score is {((accuracy_score(y_test, pred))*100).round(2)}%\")"
   ]
  },
  {
   "cell_type": "code",
   "execution_count": 1796,
   "id": "92e77424",
   "metadata": {},
   "outputs": [
    {
     "data": {
      "image/png": "[encoded data removed]",
      "text/plain": [
       "<Figure size 640x480 with 2 Axes>"
      ]
     },
     "metadata": {},
     "output_type": "display_data"
    }
   ],
   "source": [
    "import seaborn as sns\n",
    "import matplotlib.pyplot as plt\n",
    "cm = confusion_matrix(y_test, pred)\n",
    "\n",
    "# Create a heatmap of the confusion matrix\n",
    "sns.heatmap(cm, annot=True, cmap=\"Blues\")\n",
    "\n",
    "# Add labels, title, and ticks to the plot\n",
    "plt.xlabel(\"Predicted\")\n",
    "plt.ylabel(\"Actual\")\n",
    "plt.title(\"Confusion Matrix\")\n",
    "plt.xticks(ticks=[0, 1])  # Set x-axis tick locations\n",
    "plt.yticks(ticks=[0, 1])  # Set y-axis tick locations\n",
    "\n",
    "# Display the plot\n",
    "plt.show()"
   ]
  },
  {
   "cell_type": "code",
   "execution_count": 1797,
   "id": "ee30f72e",
   "metadata": {
    "execution": {
     "iopub.execute_input": "2023-05-29T06:45:37.763148Z",
     "iopub.status.busy": "2023-05-29T06:45:37.762699Z",
     "iopub.status.idle": "2023-05-29T06:45:37.782731Z",
     "shell.execute_reply": "2023-05-29T06:45:37.781466Z"
    },
    "papermill": {
     "duration": 0.043988,
     "end_time": "2023-05-29T06:45:37.786045",
     "exception": false,
     "start_time": "2023-05-29T06:45:37.742057",
     "status": "completed"
    },
    "tags": []
   },
   "outputs": [],
   "source": [
    "submission = pd.DataFrame({'id':test['id'],'target':prediction})\n",
    "submission.to_csv('submission.csv',index=False)"
   ]
  },
  {
   "cell_type": "code",
   "execution_count": 1798,
   "id": "96e441b4",
   "metadata": {},
   "outputs": [
    {
     "name": "stdout",
     "output_type": "stream",
     "text": [
      "Accuracy of SVC model: 0.8554216867469879\n"
     ]
    }
   ],
   "source": [
    "y_pred_svc = svc_model.predict(x_test)\n",
    "accuracy_svc = accuracy_score(y_test, y_pred_svc)\n",
    "print(\"Accuracy of SVC model:\", accuracy_svc)"
   ]
  },
  {
   "cell_type": "code",
   "execution_count": 1799,
   "id": "d8c3ac3f",
   "metadata": {},
   "outputs": [
    {
     "name": "stdout",
     "output_type": "stream",
     "text": [
      "Accuracy with new threshold: 0.8433734939759037\n"
     ]
    }
   ],
   "source": [
    "logReg = LogisticRegression(penalty='l2')\n",
    "logReg.fit(x_train, y_train)\n",
    "\n",
    "\n",
    "probabilities = logReg.predict_proba(x_test)\n",
    "\n",
    "\n",
    "threshold = 0.45\n",
    "\n",
    "\n",
    "y_pred_threshold = (probabilities[:, 1] >= threshold).astype(int)\n",
    "\n",
    "\n",
    "accuracy_threshold = accuracy_score(y_test, y_pred_threshold)\n",
    "print(\"Accuracy with new threshold:\", accuracy_threshold)\n"
   ]
  },
  {
   "cell_type": "code",
   "execution_count": 1800,
   "id": "cadbab22",
   "metadata": {},
   "outputs": [
    {
     "name": "stdout",
     "output_type": "stream",
     "text": [
      "Dự đoán (Logistic Regression): 0\n",
      "Dự đoán (SVM): 0\n"
     ]
    }
   ],
   "source": [
    "\n",
    "def predict_input():\n",
    "    while True:\n",
    "        user_input = input(\"Nhập văn bản (hoặc nhấn 'q' để thoát): \")\n",
    "        if user_input.lower() == 'q':\n",
    "            break\n",
    "        cleaned_input = remove_urls(user_input)\n",
    "        cleaned_input = remove_punctuation(cleaned_input)\n",
    "        cleaned_input = tokenize_text(cleaned_input)\n",
    "        cleaned_input = remove_stopwords(cleaned_input, filename)\n",
    "        x_input = classifier.transform([cleaned_input])\n",
    "        prediction_logReg = logReg.predict(x_input)\n",
    "        prediction_svc = svc_model.predict(x_input)\n",
    "\n",
    "        print(\"Dự đoán (Logistic Regression):\", prediction_logReg[0])\n",
    "        print(\"Dự đoán (SVM):\", prediction_svc[0])\n",
    "\n",
    "predict_input()"
   ]
  }
 ],
 "metadata": {
  "kernelspec": {
   "display_name": "Python 3",
   "language": "python",
   "name": "python3"
  },
  "language_info": {
   "codemirror_mode": {
    "name": "ipython",
    "version": 3
   },
   "file_extension": ".py",
   "mimetype": "text/x-python",
   "name": "python",
   "nbconvert_exporter": "python",
   "pygments_lexer": "ipython3",
   "version": "3.10.11"
  },
  "papermill": {
   "default_parameters": {},
   "duration": 42.595859,
   "end_time": "2023-05-29T06:45:38.629642",
   "environment_variables": {},
   "exception": null,
   "input_path": "__notebook__.ipynb",
   "output_path": "__notebook__.ipynb",
   "parameters": {},
   "start_time": "2023-05-29T06:44:56.033783",
   "version": "2.4.0"
  }
 },
 "nbformat": 4,
 "nbformat_minor": 5
}
